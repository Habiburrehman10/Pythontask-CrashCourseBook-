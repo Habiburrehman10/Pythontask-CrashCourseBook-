{
 "cells": [
  {
   "cell_type": "markdown",
   "id": "aa4be839",
   "metadata": {},
   "source": [
    "# Class 26"
   ]
  },
  {
   "cell_type": "code",
   "execution_count": 1,
   "id": "0db45175",
   "metadata": {},
   "outputs": [
    {
     "ename": "FileNotFoundError",
     "evalue": "[Errno 2] No such file or directory: 'file.txt'",
     "output_type": "error",
     "traceback": [
      "\u001b[1;31m---------------------------------------------------------------------------\u001b[0m",
      "\u001b[1;31mFileNotFoundError\u001b[0m                         Traceback (most recent call last)",
      "\u001b[1;32mC:\\Users\\LAB02R~1\\AppData\\Local\\Temp/ipykernel_11676/1666257584.py\u001b[0m in \u001b[0;36m<module>\u001b[1;34m\u001b[0m\n\u001b[1;32m----> 1\u001b[1;33m \u001b[1;32mwith\u001b[0m \u001b[0mopen\u001b[0m \u001b[1;33m(\u001b[0m\u001b[1;34m'file.txt'\u001b[0m\u001b[1;33m,\u001b[0m\u001b[1;34m'r'\u001b[0m\u001b[1;33m)\u001b[0m \u001b[1;32mas\u001b[0m \u001b[0mf\u001b[0m\u001b[1;33m:\u001b[0m\u001b[1;33m\u001b[0m\u001b[1;33m\u001b[0m\u001b[0m\n\u001b[0m\u001b[0;32m      2\u001b[0m     \u001b[0mprint\u001b[0m\u001b[1;33m(\u001b[0m\u001b[0mf\u001b[0m\u001b[1;33m.\u001b[0m\u001b[0mread\u001b[0m\u001b[1;33m(\u001b[0m\u001b[1;33m)\u001b[0m\u001b[1;33m)\u001b[0m\u001b[1;33m\u001b[0m\u001b[1;33m\u001b[0m\u001b[0m\n",
      "\u001b[1;31mFileNotFoundError\u001b[0m: [Errno 2] No such file or directory: 'file.txt'"
     ]
    }
   ],
   "source": [
    "with open ('file.txt','r') as f:\n",
    "    print(f.read())"
   ]
  },
  {
   "cell_type": "code",
   "execution_count": 2,
   "id": "674cd61a",
   "metadata": {},
   "outputs": [],
   "source": [
    "with open ('file.txt','w') as f:\n",
    "    f.write('Hello world')"
   ]
  },
  {
   "cell_type": "code",
   "execution_count": 3,
   "id": "bc28a11a",
   "metadata": {},
   "outputs": [
    {
     "name": "stdout",
     "output_type": "stream",
     "text": [
      "Hello world\n"
     ]
    }
   ],
   "source": [
    "with open ('file.txt','r') as f:\n",
    "    print(f.read())"
   ]
  },
  {
   "cell_type": "code",
   "execution_count": 14,
   "id": "d3e79df6",
   "metadata": {},
   "outputs": [],
   "source": [
    "import csv\n",
    "with open(\"Competition.csv\") as f:\n",
    "    contents_of_f = csv.reader(f)\n"
   ]
  },
  {
   "cell_type": "code",
   "execution_count": 23,
   "id": "17b5cdb5",
   "metadata": {},
   "outputs": [],
   "source": [
    "with open(\"Competition.csv\", \"w\", newline=\"\") as f:\n",
    "    data_handler = csv.writer(f, delimiter=\",\")\n",
    "    data_handler.writerow([\"Year2\", \"Event2\",\n",
    "    \"Winner2\"])\n",
    "    data_handler.writerow([\"1995\", \"Best-Kept Lawn\",\n",
    "    \"None\"])\n",
    "    data_handler.writerow([\"1999\", \"Gobstones\",\n",
    "    \"Welch National\"])"
   ]
  },
  {
   "cell_type": "code",
   "execution_count": 24,
   "id": "f33c5198",
   "metadata": {},
   "outputs": [
    {
     "name": "stdout",
     "output_type": "stream",
     "text": [
      "['Year2', 'Event2', 'Winner2']\n",
      "['1995', 'Best-Kept Lawn', 'None']\n",
      "['1999', 'Gobstones', 'Welch National']\n"
     ]
    }
   ],
   "source": [
    "with open(\"Competition.csv\") as f:\n",
    "    contents_of_f = csv.reader(f)\n",
    "#     reader_of_f = csv.reader(f)\n",
    "    potter_competition = []\n",
    "    for each_line in contents_of_f:\n",
    "        print( each_line)\n",
    "# print(potter_competition)"
   ]
  },
  {
   "cell_type": "code",
   "execution_count": 27,
   "id": "c4bd707c",
   "metadata": {},
   "outputs": [],
   "source": [
    "with open(\"Competition.csv\", \"w\", newline=\"\") as f:\n",
    "    data_handler = csv.writer(f)\n",
    "    data_handler.writerow([\"Year2\", \"Event2\",\n",
    "    \"Winner2\"])\n",
    "    data_handler.writerow([\"1995\", \"Best-Kept Lawn\",\n",
    "    \"None\"])\n",
    "    data_handler.writerow([\"1999\", \"Gobstones\",\n",
    "    \"Welch National\"])"
   ]
  },
  {
   "cell_type": "raw",
   "id": "a456bf58",
   "metadata": {},
   "source": [
    "JSON is just like dictionary\n",
    "but in json key is not numeric like dictionary"
   ]
  },
  {
   "cell_type": "code",
   "execution_count": 31,
   "id": "5dd97e88",
   "metadata": {},
   "outputs": [],
   "source": [
    "#for storing\n",
    "import json  #for list\n",
    "alphabet_letters = [\"a\", \"b\", \"c\"]\n",
    "with open(\"alphabet_list.json\", \"w\") as f:\n",
    "    json.dump(alphabet_letters, f)\n"
   ]
  },
  {
   "cell_type": "code",
   "execution_count": 33,
   "id": "189b019b",
   "metadata": {},
   "outputs": [],
   "source": [
    "#for Distionary\n",
    "customer_29876 = {\n",
    "\"first name\": \"David\",\n",
    "\"last name\": \"Elliott\",\n",
    "\"address\": \"4803 Wellesley St.\",\n",
    "}\n",
    "with open(\"customer_29876.json\", \"w\") as f:\n",
    "    json.dump(customer_29876, f)"
   ]
  },
  {
   "cell_type": "code",
   "execution_count": 34,
   "id": "3479ca0f",
   "metadata": {},
   "outputs": [
    {
     "name": "stdout",
     "output_type": "stream",
     "text": [
      "{'first name': 'David', 'last name': 'Elliott', 'address': '4803 Wellesley St.'}\n",
      "Elliott\n"
     ]
    }
   ],
   "source": [
    "#for retrive\n",
    "customer_29876 = {\n",
    "\"first name\": \"David\",\n",
    "\"last name\": \"Elliott\",\n",
    "\"address\": \"4803 Wellesley St.\",\n",
    "}\n",
    "\n",
    "with open(\"customer_29876.json\") as f:\n",
    "    customer_29876 = json.load(f)\n",
    "    \n",
    "print(customer_29876)\n",
    "print(customer_29876[\"last name\"])\n",
    "\n",
    "\n",
    "    "
   ]
  },
  {
   "cell_type": "code",
   "execution_count": null,
   "id": "a8be38b7",
   "metadata": {},
   "outputs": [],
   "source": []
  }
 ],
 "metadata": {
  "kernelspec": {
   "display_name": "Python 3 (ipykernel)",
   "language": "python",
   "name": "python3"
  },
  "language_info": {
   "codemirror_mode": {
    "name": "ipython",
    "version": 3
   },
   "file_extension": ".py",
   "mimetype": "text/x-python",
   "name": "python",
   "nbconvert_exporter": "python",
   "pygments_lexer": "ipython3",
   "version": "3.9.7"
  }
 },
 "nbformat": 4,
 "nbformat_minor": 5
}
