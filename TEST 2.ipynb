{
 "cells": [
  {
   "cell_type": "code",
   "execution_count": 64,
   "id": "a5570830",
   "metadata": {},
   "outputs": [
    {
     "name": "stdout",
     "output_type": "stream",
     "text": [
      "10\n"
     ]
    }
   ],
   "source": [
    "\n",
    "arr = [5,2,3,7,10,0,1]\n",
    "\n",
    "def Maxinput(arr):\n",
    "    M=0\n",
    "    for i in arr:\n",
    "        if i >M:\n",
    "            M=i\n",
    "    return M\n",
    "        \n",
    "print(Maxinput(arr))"
   ]
  },
  {
   "cell_type": "code",
   "execution_count": 55,
   "id": "56d3b916",
   "metadata": {},
   "outputs": [
    {
     "name": "stdout",
     "output_type": "stream",
     "text": [
      "Digit3\n",
      "Letter5\n"
     ]
    }
   ],
   "source": [
    "\n",
    "# text=input(\"Enter text\")\n",
    "\n",
    "\n",
    "text=\"Habib123\"\n",
    "def count(text):\n",
    "    L=0\n",
    "    for i in text:\n",
    "        if(i.isalpha()):\n",
    "            L=L+1\n",
    "    print(\"Digit\" + str(len(text)-L))\n",
    "    print(\"Letter\" + str(L))\n",
    "\n",
    "count(\"Habib123\")"
   ]
  },
  {
   "cell_type": "code",
   "execution_count": 98,
   "id": "ba583610",
   "metadata": {},
   "outputs": [],
   "source": [
    "class Line():\n",
    "    def __init__(self,x1,y1,x2,y2):\n",
    "        \n",
    "        self.coord1=x1,y1\n",
    "        self.coord2=x2,y2\n",
    "        \n",
    "    def isLine(self):\n",
    "        if self.coord1!=self.coord2:\n",
    "            print(\"Line is there\")\n",
    "       \n",
    "    def Length_of_line(self):\n",
    "        a=(((self.coord2[0]-self.coord1[0])**2 +(self.coord2[1]-self.coord1[1])**2)*0.5)\n",
    "        return a\n",
    "    def Slope_of_line(self):\n",
    "        m=(self.coord2[1]-self.coord1[1])/(self.coord2[0]-self.coord1[0])\n",
    "        return m\n",
    "    def Parallel_line(self,M1,M2):\n",
    "        if M1==M2:\n",
    "            return \"Lines are parallel\"\n",
    "        elif M1*M2==-1:\n",
    "            return\"lines are perpendicular\"\n",
    "        else:\n",
    "            return \"Nor perpendicular neither parallel\"\n",
    "        \n",
    "        "
   ]
  },
  {
   "cell_type": "code",
   "execution_count": 99,
   "id": "6c2aeea4",
   "metadata": {},
   "outputs": [],
   "source": [
    "l1=Line(2,3,4,2)"
   ]
  },
  {
   "cell_type": "code",
   "execution_count": 100,
   "id": "825b7c0f",
   "metadata": {},
   "outputs": [
    {
     "name": "stdout",
     "output_type": "stream",
     "text": [
      "Line is there\n"
     ]
    }
   ],
   "source": [
    "l1.isLine()\n"
   ]
  },
  {
   "cell_type": "code",
   "execution_count": 101,
   "id": "076f1386",
   "metadata": {},
   "outputs": [
    {
     "data": {
      "text/plain": [
       "2.5"
      ]
     },
     "execution_count": 101,
     "metadata": {},
     "output_type": "execute_result"
    }
   ],
   "source": [
    "l1.Length_of_line()"
   ]
  },
  {
   "cell_type": "code",
   "execution_count": 102,
   "id": "6488f524",
   "metadata": {},
   "outputs": [],
   "source": [
    "M1=l1.Slope_of_line()"
   ]
  },
  {
   "cell_type": "code",
   "execution_count": 103,
   "id": "a46c0a04",
   "metadata": {},
   "outputs": [],
   "source": [
    "l2=Line(1,2,3,4)"
   ]
  },
  {
   "cell_type": "code",
   "execution_count": 104,
   "id": "5653dffa",
   "metadata": {},
   "outputs": [],
   "source": [
    "M2=l2.Slope_of_line()"
   ]
  },
  {
   "cell_type": "code",
   "execution_count": 106,
   "id": "d5310590",
   "metadata": {},
   "outputs": [
    {
     "data": {
      "text/plain": [
       "'Nor perpendicular neither parallel'"
      ]
     },
     "execution_count": 106,
     "metadata": {},
     "output_type": "execute_result"
    }
   ],
   "source": [
    "l1.Parallel_line(M1,M2)"
   ]
  },
  {
   "cell_type": "code",
   "execution_count": 77,
   "id": "64116e89",
   "metadata": {},
   "outputs": [
    {
     "name": "stdout",
     "output_type": "stream",
     "text": [
      "['my', 'name', 'is', 'HABIB']\n",
      "The longest word is HABIB with length 5\n"
     ]
    }
   ],
   "source": [
    "s=\"my name is HABIB\"\n",
    "l=s.split(\" \")\n",
    "print(l)\n",
    "longest=0\n",
    "for i in l:\n",
    "    \n",
    "    if len(i) > longest:\n",
    "        longest = len(i)\n",
    "        longest_word = i\n",
    "\n",
    "print(\"The longest word is\", longest_word, \"with length\", len(longest_word))\n",
    "\n",
    "    "
   ]
  },
  {
   "cell_type": "code",
   "execution_count": null,
   "id": "ae39ef5b",
   "metadata": {},
   "outputs": [],
   "source": []
  }
 ],
 "metadata": {
  "kernelspec": {
   "display_name": "Python 3 (ipykernel)",
   "language": "python",
   "name": "python3"
  },
  "language_info": {
   "codemirror_mode": {
    "name": "ipython",
    "version": 3
   },
   "file_extension": ".py",
   "mimetype": "text/x-python",
   "name": "python",
   "nbconvert_exporter": "python",
   "pygments_lexer": "ipython3",
   "version": "3.9.7"
  }
 },
 "nbformat": 4,
 "nbformat_minor": 5
}
