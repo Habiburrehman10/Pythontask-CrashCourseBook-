{
 "cells": [
  {
   "cell_type": "markdown",
   "id": "e17e7ad7",
   "metadata": {},
   "source": [
    "# ROCK | PAPER |SCISSOR"
   ]
  },
  {
   "cell_type": "markdown",
   "id": "28411ed5",
   "metadata": {},
   "source": [
    "<img src='https://static.vecteezy.com/system/resources/previews/000/691/497/original/rock-paper-scissors-neon-icons-vector.jpg'>"
   ]
  },
  {
   "cell_type": "code",
   "execution_count": 1,
   "id": "b40c2789",
   "metadata": {},
   "outputs": [
    {
     "name": "stdout",
     "output_type": "stream",
     "text": [
      "choose your weapon Rock[1] Paper[2] Scissor[3]: \n",
      "you choose : 2\n",
      "I choose : 1\n",
      "you win\n"
     ]
    }
   ],
   "source": [
    "import numpy as np\n",
    "def RPS(user_input):\n",
    "    \n",
    "    print(\"choose your weapon Rock[1] Paper[2] Scissor[3]: \")\n",
    "    print(f\"you choose : {user_input}\")\n",
    "    computer_input=np.random.randint(1,4)\n",
    "    print(f\"I choose : {computer_input}\")\n",
    "\n",
    "    if user_input == 1:\n",
    "        if computer_input ==1:\n",
    "            print(\"Tie!\")\n",
    "        if computer_input ==2:\n",
    "            print(\"you win\")\n",
    "        if computer_input ==3:\n",
    "            print(\"you lose\")\n",
    "    if user_input == 2:\n",
    "        if computer_input ==1:\n",
    "            print(\"you win\")\n",
    "        if computer_input ==2:\n",
    "            print(\"Tie!\")\n",
    "        if computer_input ==3:\n",
    "            print(\"you lose\")\n",
    "    if user_input == 3:\n",
    "        if computer_input ==1:\n",
    "            print(\"you lose\")\n",
    "        if computer_input ==2:\n",
    "            print(\"you win\")\n",
    "        if computer_input ==3:\n",
    "            print(\"Tie\")\n",
    "        \n",
    "        \n",
    "    \n",
    "RPS(2)\n",
    "    \n",
    "    \n"
   ]
  },
  {
   "cell_type": "markdown",
   "id": "62cbc431",
   "metadata": {},
   "source": [
    "# PASSWORD STRENGTH CHECKER"
   ]
  },
  {
   "cell_type": "markdown",
   "id": "8423bafc",
   "metadata": {},
   "source": [
    "<img src=\"https://team-touchdroid.com/wp-content/uploads/2022/04/Password-Checker.png\">"
   ]
  },
  {
   "cell_type": "code",
   "execution_count": 2,
   "id": "0e2f94af",
   "metadata": {},
   "outputs": [
    {
     "name": "stdout",
     "output_type": "stream",
     "text": [
      "Enter you Password : ········\n",
      "Your password is very weak\n"
     ]
    }
   ],
   "source": [
    "import getpass\n",
    "import string\n",
    "import sys\n",
    "\n",
    "def Pass_checker():\n",
    "    User_pass = getpass.getpass(\"Enter you Password : \")\n",
    "\n",
    "    strength = 0\n",
    "    remarks= None\n",
    "    lower_count=upper_count=num_count=special_char_count=wspace_count=0\n",
    "\n",
    "    for char in list(User_pass):\n",
    "        if char in string.ascii_lowercase:\n",
    "            lower_count+=1\n",
    "        elif char in string.ascii_uppercase:\n",
    "            upper_count+=1\n",
    "        elif char in string.digits:\n",
    "            num_count+=1\n",
    "        elif char == \" \":\n",
    "            wspace_count+=1\n",
    "        else:\n",
    "            special_char_count+=1\n",
    "\n",
    "    if lower_count>=1:\n",
    "        strength +=1\n",
    "    if upper_count>=1:\n",
    "        strength+=1\n",
    "    if num_count>=1:\n",
    "        strength+=1\n",
    "    if wspace_count>=1:\n",
    "        strength+=1\n",
    "    if special_char_count>=1:\n",
    "        strength+=1\n",
    "\n",
    "    if strength == 1:\n",
    "        remarks=\"Your password is very weak\"\n",
    "    elif strength == 2:\n",
    "        remarks=\"Your password is weak\"\n",
    "    elif strength == 3:\n",
    "        remarks=\"Your password is average\"\n",
    "    elif strength == 4:\n",
    "        remarks=\"Your password is strong\"\n",
    "    elif strength == 5:\n",
    "        remarks=\"Your password is very strong\"\n",
    "    print(remarks)\n",
    "\n",
    "Pass_checker()\n",
    "    \n"
   ]
  },
  {
   "cell_type": "code",
   "execution_count": null,
   "id": "19d5a808",
   "metadata": {},
   "outputs": [
    {
     "name": "stdout",
     "output_type": "stream",
     "text": [
      "Do you want to continuen\n"
     ]
    }
   ],
   "source": [
    "try:\n",
    "    _input=input(\"Do you want to continue\").lower()\n",
    "\n",
    "    if _input == \"y\":\n",
    "        Pass_checker()\n",
    "        _input=input(\"Do you want to continue\").lower()\n",
    "    else:\n",
    "        exit()\n",
    "except Exception as e:\n",
    "    print(\"Thanks for using our service\")\n",
    "\n",
    "finally:\n",
    "    _input=input(\"Do you want to continue\").lower()\n",
    "    while _input == \"y\":\n",
    "        Pass_checker()\n",
    "        _input=input(\"Do you want to continue\").lower()\n",
    "        \n",
    "    else:\n",
    "        exit()\n",
    "        print(\"Thanks for using our service\")\n"
   ]
  },
  {
   "cell_type": "code",
   "execution_count": null,
   "id": "a631a5c1",
   "metadata": {},
   "outputs": [],
   "source": []
  },
  {
   "cell_type": "code",
   "execution_count": null,
   "id": "9cf2356e",
   "metadata": {},
   "outputs": [],
   "source": []
  }
 ],
 "metadata": {
  "kernelspec": {
   "display_name": "Python 3 (ipykernel)",
   "language": "python",
   "name": "python3"
  },
  "language_info": {
   "codemirror_mode": {
    "name": "ipython",
    "version": 3
   },
   "file_extension": ".py",
   "mimetype": "text/x-python",
   "name": "python",
   "nbconvert_exporter": "python",
   "pygments_lexer": "ipython3",
   "version": "3.9.7"
  }
 },
 "nbformat": 4,
 "nbformat_minor": 5
}
