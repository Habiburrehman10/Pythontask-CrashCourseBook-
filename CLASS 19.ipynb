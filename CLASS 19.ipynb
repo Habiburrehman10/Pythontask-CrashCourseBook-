{
 "cells": [
  {
   "cell_type": "code",
   "execution_count": 1,
   "id": "6706009e",
   "metadata": {},
   "outputs": [],
   "source": [
    "import numpy as np #using as"
   ]
  },
  {
   "cell_type": "markdown",
   "id": "94659232",
   "metadata": {},
   "source": [
    "# object oriented programming"
   ]
  },
  {
   "cell_type": "raw",
   "id": "ec3e9c43",
   "metadata": {},
   "source": [
    "object ---> features +behaviour"
   ]
  },
  {
   "cell_type": "raw",
   "id": "92065556",
   "metadata": {},
   "source": [
    "object must have a class"
   ]
  },
  {
   "cell_type": "code",
   "execution_count": 5,
   "id": "661008b0",
   "metadata": {},
   "outputs": [],
   "source": [
    "class Student():\n",
    "    # all the variables are features/properties/characteritisic/attributes in oop\n",
    "    roll_no= 1 #class type variable\n",
    "    name= 'Habib'\n",
    "    course='AI'\n",
    "    school='SMIT'\n",
    "    \n",
    "    #all the functions are behaviours/actions/methods\n",
    "    def study(self):\n",
    "        print('student is studying')\n",
    "    def exam(self):\n",
    "        print('student is taking exam')\n",
    "    def fee(self):\n",
    "        print('student is submitting fee')\n",
    "    "
   ]
  },
  {
   "cell_type": "code",
   "execution_count": 6,
   "id": "6e0fda3d",
   "metadata": {},
   "outputs": [],
   "source": [
    "s1=Student()"
   ]
  },
  {
   "cell_type": "code",
   "execution_count": 7,
   "id": "2a39c4af",
   "metadata": {},
   "outputs": [
    {
     "data": {
      "text/plain": [
       "'Habib'"
      ]
     },
     "execution_count": 7,
     "metadata": {},
     "output_type": "execute_result"
    }
   ],
   "source": [
    "s1.name #properties"
   ]
  },
  {
   "cell_type": "code",
   "execution_count": 8,
   "id": "7830ea47",
   "metadata": {},
   "outputs": [
    {
     "data": {
      "text/plain": [
       "'AI'"
      ]
     },
     "execution_count": 8,
     "metadata": {},
     "output_type": "execute_result"
    }
   ],
   "source": [
    "s1.course"
   ]
  },
  {
   "cell_type": "code",
   "execution_count": 9,
   "id": "d44d453d",
   "metadata": {},
   "outputs": [
    {
     "data": {
      "text/plain": [
       "1"
      ]
     },
     "execution_count": 9,
     "metadata": {},
     "output_type": "execute_result"
    }
   ],
   "source": [
    "s1.roll_no"
   ]
  },
  {
   "cell_type": "code",
   "execution_count": 10,
   "id": "71e58550",
   "metadata": {},
   "outputs": [
    {
     "data": {
      "text/plain": [
       "'SMIT'"
      ]
     },
     "execution_count": 10,
     "metadata": {},
     "output_type": "execute_result"
    }
   ],
   "source": [
    "s1.school"
   ]
  },
  {
   "cell_type": "code",
   "execution_count": 11,
   "id": "8ffef76f",
   "metadata": {},
   "outputs": [
    {
     "name": "stdout",
     "output_type": "stream",
     "text": [
      "student is studying\n"
     ]
    }
   ],
   "source": [
    "s1.study() #behaviour"
   ]
  },
  {
   "cell_type": "code",
   "execution_count": 12,
   "id": "016f55ec",
   "metadata": {},
   "outputs": [],
   "source": [
    "s2=Student()"
   ]
  },
  {
   "cell_type": "code",
   "execution_count": 13,
   "id": "2535253a",
   "metadata": {},
   "outputs": [
    {
     "data": {
      "text/plain": [
       "'Habib'"
      ]
     },
     "execution_count": 13,
     "metadata": {},
     "output_type": "execute_result"
    }
   ],
   "source": [
    "s2.name #problem here"
   ]
  },
  {
   "cell_type": "code",
   "execution_count": 15,
   "id": "e14c5ca0",
   "metadata": {},
   "outputs": [],
   "source": [
    "class Cars():\n",
    "    model=''\n",
    "    make=''\n",
    "    year=''\n",
    "    color=''\n",
    "    doors=''\n",
    "    engine=''\n",
    "    \n",
    "    def do():\n",
    "        print('car can run or stop')\n",
    "    "
   ]
  },
  {
   "cell_type": "code",
   "execution_count": 16,
   "id": "f229b6f7",
   "metadata": {},
   "outputs": [],
   "source": [
    "C1=Cars()"
   ]
  },
  {
   "cell_type": "code",
   "execution_count": 18,
   "id": "c99fc3ef",
   "metadata": {},
   "outputs": [],
   "source": [
    "C1.model='Altis'"
   ]
  },
  {
   "cell_type": "code",
   "execution_count": 19,
   "id": "9807be66",
   "metadata": {},
   "outputs": [
    {
     "data": {
      "text/plain": [
       "'Altis'"
      ]
     },
     "execution_count": 19,
     "metadata": {},
     "output_type": "execute_result"
    }
   ],
   "source": [
    "C1.model"
   ]
  },
  {
   "cell_type": "code",
   "execution_count": 20,
   "id": "1e70c1d6",
   "metadata": {},
   "outputs": [],
   "source": [
    "C1.make='Toyota'"
   ]
  },
  {
   "cell_type": "code",
   "execution_count": 21,
   "id": "ca00c805",
   "metadata": {},
   "outputs": [],
   "source": [
    "C1.year='2022'\n"
   ]
  },
  {
   "cell_type": "code",
   "execution_count": 22,
   "id": "a524ac60",
   "metadata": {},
   "outputs": [],
   "source": [
    "C1.engine='1600cc'"
   ]
  },
  {
   "cell_type": "code",
   "execution_count": 23,
   "id": "34cc1174",
   "metadata": {},
   "outputs": [],
   "source": [
    "class Student():\n",
    "    def __init__(self,name,roll_no,course,school):  # initializer or constructer  #self is replacing with s1 or s2\n",
    "   #instance/object type variable\n",
    "        self.name=name    #self is name of object\n",
    "        self.roll_no =roll_no\n",
    "        self.course=course\n",
    "        self.school=school\n",
    "        \n",
    "    def study(self):\n",
    "        print(f\"{self.name} is studying\")\n",
    "    def exam(self):\n",
    "        print(f'{self.name} is taking exam')\n",
    "    def fee(self):\n",
    "        print(f'{self.name} is submitting fee')\n"
   ]
  },
  {
   "cell_type": "code",
   "execution_count": 28,
   "id": "0d624b48",
   "metadata": {},
   "outputs": [],
   "source": [
    "s1=Student('habib',1,'Ai','smit')"
   ]
  },
  {
   "cell_type": "code",
   "execution_count": 29,
   "id": "b498d46f",
   "metadata": {},
   "outputs": [],
   "source": [
    "s2=Student('Ali',2,'Cs','bahria')"
   ]
  },
  {
   "cell_type": "code",
   "execution_count": 30,
   "id": "d36e3925",
   "metadata": {},
   "outputs": [
    {
     "data": {
      "text/plain": [
       "'habib'"
      ]
     },
     "execution_count": 30,
     "metadata": {},
     "output_type": "execute_result"
    }
   ],
   "source": [
    "s1.name"
   ]
  },
  {
   "cell_type": "code",
   "execution_count": 31,
   "id": "e4e3f8a5",
   "metadata": {},
   "outputs": [
    {
     "data": {
      "text/plain": [
       "1"
      ]
     },
     "execution_count": 31,
     "metadata": {},
     "output_type": "execute_result"
    }
   ],
   "source": [
    "s1.roll_no"
   ]
  },
  {
   "cell_type": "code",
   "execution_count": 32,
   "id": "16ad07fb",
   "metadata": {},
   "outputs": [
    {
     "data": {
      "text/plain": [
       "'Ali'"
      ]
     },
     "execution_count": 32,
     "metadata": {},
     "output_type": "execute_result"
    }
   ],
   "source": [
    "s2.name"
   ]
  },
  {
   "cell_type": "code",
   "execution_count": 33,
   "id": "6028c29d",
   "metadata": {},
   "outputs": [
    {
     "name": "stdout",
     "output_type": "stream",
     "text": [
      "habib is studying\n"
     ]
    }
   ],
   "source": [
    "s1.study()"
   ]
  },
  {
   "cell_type": "code",
   "execution_count": 34,
   "id": "ab8efe9e",
   "metadata": {},
   "outputs": [
    {
     "name": "stdout",
     "output_type": "stream",
     "text": [
      "Ali is studying\n"
     ]
    }
   ],
   "source": [
    "s2.study()"
   ]
  },
  {
   "cell_type": "code",
   "execution_count": 35,
   "id": "68f6fd1c",
   "metadata": {},
   "outputs": [
    {
     "name": "stdout",
     "output_type": "stream",
     "text": [
      "habib is taking exam\n"
     ]
    }
   ],
   "source": [
    "s1.exam()"
   ]
  },
  {
   "cell_type": "code",
   "execution_count": 36,
   "id": "3f6ecd9b",
   "metadata": {},
   "outputs": [
    {
     "name": "stdout",
     "output_type": "stream",
     "text": [
      "Ali is taking exam\n"
     ]
    }
   ],
   "source": [
    "s2.exam()"
   ]
  },
  {
   "cell_type": "code",
   "execution_count": 37,
   "id": "d372b422",
   "metadata": {},
   "outputs": [
    {
     "name": "stdout",
     "output_type": "stream",
     "text": [
      "habib is submitting fee\n"
     ]
    }
   ],
   "source": [
    "s1.fee()"
   ]
  },
  {
   "cell_type": "code",
   "execution_count": 38,
   "id": "f3b8b484",
   "metadata": {},
   "outputs": [
    {
     "name": "stdout",
     "output_type": "stream",
     "text": [
      "Ali is submitting fee\n"
     ]
    }
   ],
   "source": [
    "s2.fee()"
   ]
  }
 ],
 "metadata": {
  "kernelspec": {
   "display_name": "Python 3 (ipykernel)",
   "language": "python",
   "name": "python3"
  },
  "language_info": {
   "codemirror_mode": {
    "name": "ipython",
    "version": 3
   },
   "file_extension": ".py",
   "mimetype": "text/x-python",
   "name": "python",
   "nbconvert_exporter": "python",
   "pygments_lexer": "ipython3",
   "version": "3.9.7"
  }
 },
 "nbformat": 4,
 "nbformat_minor": 5
}
