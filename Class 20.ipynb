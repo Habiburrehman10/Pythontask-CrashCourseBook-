{
 "cells": [
  {
   "cell_type": "markdown",
   "id": "1ddbff5d",
   "metadata": {},
   "source": [
    "# CLASS 20"
   ]
  },
  {
   "cell_type": "markdown",
   "id": "41a709ad",
   "metadata": {},
   "source": [
    "# OOP CONT...."
   ]
  },
  {
   "cell_type": "code",
   "execution_count": 10,
   "id": "5425224c",
   "metadata": {},
   "outputs": [],
   "source": [
    "class Student():\n",
    "    def __init__(self,roll_no,name,school):\n",
    "        self.name=name\n",
    "        self.roll_no=roll_no\n",
    "        self.school=school\n",
    "        \n",
    "    def study(self):\n",
    "        print(f\"{self.name} is studying\")"
   ]
  },
  {
   "cell_type": "code",
   "execution_count": 11,
   "id": "61643621",
   "metadata": {},
   "outputs": [],
   "source": [
    "s1=Student(1,'habib','smit')"
   ]
  },
  {
   "cell_type": "code",
   "execution_count": 12,
   "id": "b3c74c78",
   "metadata": {},
   "outputs": [
    {
     "data": {
      "text/plain": [
       "'habib'"
      ]
     },
     "execution_count": 12,
     "metadata": {},
     "output_type": "execute_result"
    }
   ],
   "source": [
    "s1.name\n"
   ]
  },
  {
   "cell_type": "code",
   "execution_count": 13,
   "id": "1b327161",
   "metadata": {},
   "outputs": [
    {
     "name": "stdout",
     "output_type": "stream",
     "text": [
      "habib is studying\n"
     ]
    }
   ],
   "source": [
    "s1.study()"
   ]
  },
  {
   "cell_type": "code",
   "execution_count": 17,
   "id": "c19222e5",
   "metadata": {},
   "outputs": [],
   "source": [
    "class Restaurant():\n",
    "    def __init__(self,restaurant_name,cuisine_type):\n",
    "        self.restaurant_name=restaurant_name\n",
    "        self.cuisine_type=cuisine_type\n",
    "    def describe_restaurant(self):\n",
    "        print(f'''\n",
    "             WELCOME TO {self.restaurant_name}\n",
    "             Cuisine Type {self.cuisine_type}\n",
    "        ''')\n",
    "    def open_restaurant(self):\n",
    "        print(f'{self.restaurant_name} is open')"
   ]
  },
  {
   "cell_type": "code",
   "execution_count": 18,
   "id": "ff51397d",
   "metadata": {},
   "outputs": [],
   "source": [
    "restaurant_one=Restaurant('KFC','Fast Food')"
   ]
  },
  {
   "cell_type": "code",
   "execution_count": 19,
   "id": "d3e6c1a5",
   "metadata": {},
   "outputs": [
    {
     "name": "stdout",
     "output_type": "stream",
     "text": [
      "\n",
      "             WELCOME TO KFC\n",
      "             Cuisine Type Fast Food\n",
      "        \n"
     ]
    }
   ],
   "source": [
    "restaurant_one.describe_restaurant()"
   ]
  },
  {
   "cell_type": "code",
   "execution_count": 21,
   "id": "040be403",
   "metadata": {},
   "outputs": [
    {
     "data": {
      "text/plain": [
       "'KFC'"
      ]
     },
     "execution_count": 21,
     "metadata": {},
     "output_type": "execute_result"
    }
   ],
   "source": [
    "restaurant_one.restaurant_name"
   ]
  },
  {
   "cell_type": "code",
   "execution_count": 22,
   "id": "32091e48",
   "metadata": {},
   "outputs": [],
   "source": [
    "restaurant_two=Restaurant('BurgerKing','ALL')"
   ]
  },
  {
   "cell_type": "code",
   "execution_count": 23,
   "id": "8a84a98d",
   "metadata": {},
   "outputs": [
    {
     "name": "stdout",
     "output_type": "stream",
     "text": [
      "\n",
      "             WELCOME TO BurgerKing\n",
      "             Cuisine Type ALL\n",
      "        \n"
     ]
    }
   ],
   "source": [
    "restaurant_two.describe_restaurant()"
   ]
  },
  {
   "cell_type": "code",
   "execution_count": 25,
   "id": "f2468ed4",
   "metadata": {},
   "outputs": [
    {
     "name": "stdout",
     "output_type": "stream",
     "text": [
      "\n",
      "             WELCOME TO BurgerKing\n",
      "             Cuisine Type ALL\n",
      "        \n"
     ]
    }
   ],
   "source": [
    "Restaurant.describe_restaurant(restaurant_two) #another way"
   ]
  },
  {
   "cell_type": "code",
   "execution_count": 26,
   "id": "541fc8b8",
   "metadata": {},
   "outputs": [],
   "source": [
    "#NEW EXAMPLE"
   ]
  },
  {
   "cell_type": "code",
   "execution_count": 40,
   "id": "767a963d",
   "metadata": {},
   "outputs": [],
   "source": [
    "class Bahria():\n",
    "    def __init__(self,department_name,department_building):\n",
    "        self.department_name=department_name\n",
    "        self.department_building=department_building\n",
    "    def describe_department(self):\n",
    "        print(f'''\n",
    "        WELCOME To {self.department_name} Department\n",
    "        We have {self.department_building} buildings\n",
    "        ''')\n",
    "    "
   ]
  },
  {
   "cell_type": "code",
   "execution_count": 41,
   "id": "97329de9",
   "metadata": {},
   "outputs": [],
   "source": [
    "D1=Bahria('Computer Science',5)"
   ]
  },
  {
   "cell_type": "code",
   "execution_count": 42,
   "id": "44ebe7cf",
   "metadata": {},
   "outputs": [
    {
     "data": {
      "text/plain": [
       "'Computer Science'"
      ]
     },
     "execution_count": 42,
     "metadata": {},
     "output_type": "execute_result"
    }
   ],
   "source": [
    "D1.department_name"
   ]
  },
  {
   "cell_type": "code",
   "execution_count": 43,
   "id": "f0598ad8",
   "metadata": {},
   "outputs": [
    {
     "data": {
      "text/plain": [
       "5"
      ]
     },
     "execution_count": 43,
     "metadata": {},
     "output_type": "execute_result"
    }
   ],
   "source": [
    "D1.department_building"
   ]
  },
  {
   "cell_type": "code",
   "execution_count": 44,
   "id": "11a77143",
   "metadata": {},
   "outputs": [
    {
     "name": "stdout",
     "output_type": "stream",
     "text": [
      "\n",
      "        WELCOME To Computer Science Department\n",
      "        We have 5 buildings\n",
      "        \n"
     ]
    }
   ],
   "source": [
    "D1.describe_department()"
   ]
  },
  {
   "cell_type": "code",
   "execution_count": 45,
   "id": "5810713c",
   "metadata": {},
   "outputs": [],
   "source": [
    "D2=Bahria('BBA',8)"
   ]
  },
  {
   "cell_type": "code",
   "execution_count": 47,
   "id": "8d1cf8eb",
   "metadata": {},
   "outputs": [
    {
     "name": "stdout",
     "output_type": "stream",
     "text": [
      "\n",
      "        WELCOME To BBA Department\n",
      "        We have 8 buildings\n",
      "        \n"
     ]
    }
   ],
   "source": [
    "D2.describe_department()"
   ]
  },
  {
   "cell_type": "code",
   "execution_count": 49,
   "id": "f5ab674d",
   "metadata": {},
   "outputs": [
    {
     "name": "stdout",
     "output_type": "stream",
     "text": [
      "\n",
      "        WELCOME To BBA Department\n",
      "        We have 8 buildings\n",
      "        \n"
     ]
    }
   ],
   "source": [
    "Bahria.describe_department(D2)"
   ]
  },
  {
   "cell_type": "code",
   "execution_count": 50,
   "id": "40c98e52",
   "metadata": {},
   "outputs": [
    {
     "name": "stdout",
     "output_type": "stream",
     "text": [
      "\n",
      "        WELCOME To Computer Science Department\n",
      "        We have 5 buildings\n",
      "        \n"
     ]
    }
   ],
   "source": [
    "Bahria.describe_department(D1)"
   ]
  },
  {
   "cell_type": "code",
   "execution_count": 53,
   "id": "b77f020b",
   "metadata": {},
   "outputs": [],
   "source": [
    "D3=Bahria('Maritime',2)"
   ]
  },
  {
   "cell_type": "code",
   "execution_count": 54,
   "id": "e8512c2d",
   "metadata": {},
   "outputs": [
    {
     "name": "stdout",
     "output_type": "stream",
     "text": [
      "\n",
      "        WELCOME To Maritime Department\n",
      "        We have 2 buildings\n",
      "        \n"
     ]
    }
   ],
   "source": [
    "D3.describe_department()"
   ]
  },
  {
   "cell_type": "code",
   "execution_count": 62,
   "id": "e149185c",
   "metadata": {},
   "outputs": [
    {
     "name": "stdout",
     "output_type": "stream",
     "text": [
      "\n",
      "        WELCOME To Computer Science Department\n",
      "        We have 5 buildings\n",
      "        \n",
      "\n",
      "        WELCOME To BBA Department\n",
      "        We have 8 buildings\n",
      "        \n",
      "\n",
      "        WELCOME To Maritime Department\n",
      "        We have 2 buildings\n",
      "        \n",
      "None \n",
      "          None \n",
      "          None\n",
      "          \n",
      "      \n"
     ]
    }
   ],
   "source": [
    "print(f'''{D1.describe_department()} \n",
    "          {D2.describe_department()} \n",
    "          {D3.describe_department()}\n",
    "          \n",
    "      ''')# we got none in output because function is not returning anything\n"
   ]
  },
  {
   "cell_type": "code",
   "execution_count": 63,
   "id": "379aa3ab",
   "metadata": {},
   "outputs": [],
   "source": [
    "class User():\n",
    "    def __init__(self,first_name,last_name,user_id,user_experience,user_job):\n",
    "        self.first_name=first_name\n",
    "        self.last_name=last_name\n",
    "        self.user_id=user_id\n",
    "        self.user_experience=user_experience\n",
    "        self.user_job=user_job\n",
    "    def describe_user(self):\n",
    "        print(f'''\n",
    "        User First Name : {self.first_name}\n",
    "        User Last Name  : {self.last_name}\n",
    "        User Id         : {self.user_id}\n",
    "        User Job        : {self.user_job}\n",
    "        User Experience : {self.user_experience}\n",
    "        ''')\n",
    "    def greet_user(self):\n",
    "        print(f'Hello {self.first_name} {self.last_name}!')\n",
    "        "
   ]
  },
  {
   "cell_type": "code",
   "execution_count": 66,
   "id": "35c687d3",
   "metadata": {},
   "outputs": [],
   "source": [
    "User1=User('Habib','Ur Rehman',1,'Fresh','Data Analist')"
   ]
  },
  {
   "cell_type": "code",
   "execution_count": 88,
   "id": "cbb8aaef",
   "metadata": {},
   "outputs": [
    {
     "name": "stdout",
     "output_type": "stream",
     "text": [
      "\n",
      "        User First Name : Habib\n",
      "        User Last Name  : Ur Rehman\n",
      "        User Id         : 1\n",
      "        User Job        : Data Analist\n",
      "        User Experience : Fresh\n",
      "        \n"
     ]
    }
   ],
   "source": [
    "User1.describe_user()"
   ]
  },
  {
   "cell_type": "code",
   "execution_count": 89,
   "id": "4a2bbab9",
   "metadata": {},
   "outputs": [
    {
     "name": "stdout",
     "output_type": "stream",
     "text": [
      "Hello Habib Ur Rehman!\n"
     ]
    }
   ],
   "source": [
    "User1.greet_user()"
   ]
  },
  {
   "cell_type": "code",
   "execution_count": 90,
   "id": "66f0b2c9",
   "metadata": {},
   "outputs": [],
   "source": [
    "User2=User('Ali','Raza',2,'1 year','web developer')"
   ]
  },
  {
   "cell_type": "code",
   "execution_count": 91,
   "id": "9ef941d0",
   "metadata": {},
   "outputs": [
    {
     "name": "stdout",
     "output_type": "stream",
     "text": [
      "\n",
      "        User First Name : Ali\n",
      "        User Last Name  : Raza\n",
      "        User Id         : 2\n",
      "        User Job        : web developer\n",
      "        User Experience : 1 year\n",
      "        \n"
     ]
    }
   ],
   "source": [
    "User2.describe_user()"
   ]
  },
  {
   "cell_type": "code",
   "execution_count": 92,
   "id": "f7602f69",
   "metadata": {},
   "outputs": [
    {
     "name": "stdout",
     "output_type": "stream",
     "text": [
      "Hello Ali Raza!\n"
     ]
    }
   ],
   "source": [
    "User2.greet_user()"
   ]
  },
  {
   "cell_type": "markdown",
   "id": "516c7271",
   "metadata": {},
   "source": [
    "# setting default value to an atttribute"
   ]
  },
  {
   "cell_type": "code",
   "execution_count": 93,
   "id": "a99213d8",
   "metadata": {},
   "outputs": [],
   "source": [
    "class Mobile():\n",
    "    def __init__(self,model,brand,memory,color='black'):\n",
    "        self.model=model\n",
    "        self.brand=brand\n",
    "        self.memory=memory\n",
    "        self.color=color\n",
    "        self.usage='New'  # same in all objects\n",
    "    def call(self,contact_number):\n",
    "        print(f'My {self.usage} phone {self.model} with color {self.color} of {self.brand} with {self.memory} memory calling {contact_number}')\n"
   ]
  },
  {
   "cell_type": "code",
   "execution_count": 94,
   "id": "c251a000",
   "metadata": {},
   "outputs": [],
   "source": [
    "M1= Mobile('s6','samsung','4 Gb','Gold')"
   ]
  },
  {
   "cell_type": "code",
   "execution_count": 95,
   "id": "b832aa74",
   "metadata": {},
   "outputs": [
    {
     "name": "stdout",
     "output_type": "stream",
     "text": [
      "My New phone s6 with color Gold of samsung with 4 Gb memory calling 123456\n"
     ]
    }
   ],
   "source": [
    "M1.call('123456')"
   ]
  },
  {
   "cell_type": "markdown",
   "id": "f06975d9",
   "metadata": {},
   "source": [
    "# Modifying attribute values using get set"
   ]
  },
  {
   "cell_type": "code",
   "execution_count": 105,
   "id": "73006bee",
   "metadata": {},
   "outputs": [],
   "source": [
    "class User():\n",
    "    def __init__(self,first_name,last_name,user_id,user_experience,user_job):\n",
    "        self.first_name=first_name\n",
    "        self.last_name=last_name\n",
    "        self.user_id=user_id\n",
    "        self.user_experience=user_experience\n",
    "        self.user_job=user_job\n",
    "    def describe_user(self):\n",
    "        print(f'''\n",
    "        User First Name : {self.first_name}\n",
    "        User Last Name  : {self.last_name}\n",
    "        User Id         : {self.user_id}\n",
    "        User Job        : {self.user_job}\n",
    "        User Experience : {self.user_experience}\n",
    "        ''')\n",
    "    def greet_user(self):\n",
    "        print(f'Hello {self.first_name} {self.last_name}!')\n",
    "    \n",
    "              \n",
    "    def get_user_experience(self):\n",
    "        return self.user_experience\n",
    "    def set_user_experience(self,new_experience):\n",
    "        self.user_experience=new_experience\n",
    "              "
   ]
  },
  {
   "cell_type": "code",
   "execution_count": 106,
   "id": "d0a8d21a",
   "metadata": {},
   "outputs": [],
   "source": [
    "user4=User('Habib','Ali',1,'4 year','web')"
   ]
  },
  {
   "cell_type": "code",
   "execution_count": 107,
   "id": "a938f5dd",
   "metadata": {},
   "outputs": [
    {
     "data": {
      "text/plain": [
       "'web'"
      ]
     },
     "execution_count": 107,
     "metadata": {},
     "output_type": "execute_result"
    }
   ],
   "source": [
    "user4.user_job\n"
   ]
  },
  {
   "cell_type": "code",
   "execution_count": 108,
   "id": "2e4d2709",
   "metadata": {},
   "outputs": [],
   "source": [
    "user4.user_job=\"DA\"  #wrong "
   ]
  },
  {
   "cell_type": "code",
   "execution_count": 109,
   "id": "e9c71070",
   "metadata": {},
   "outputs": [
    {
     "data": {
      "text/plain": [
       "'DA'"
      ]
     },
     "execution_count": 109,
     "metadata": {},
     "output_type": "execute_result"
    }
   ],
   "source": [
    "user4.user_job"
   ]
  },
  {
   "cell_type": "code",
   "execution_count": 113,
   "id": "6fc6fc5d",
   "metadata": {},
   "outputs": [
    {
     "data": {
      "text/plain": [
       "'7 years'"
      ]
     },
     "execution_count": 113,
     "metadata": {},
     "output_type": "execute_result"
    }
   ],
   "source": [
    "user4.get_user_experience() #right way # make a function for getting and setting values"
   ]
  },
  {
   "cell_type": "code",
   "execution_count": 111,
   "id": "9f1850c0",
   "metadata": {},
   "outputs": [],
   "source": [
    "user4.set_user_experience('7 years')"
   ]
  },
  {
   "cell_type": "code",
   "execution_count": 112,
   "id": "0d5d5247",
   "metadata": {},
   "outputs": [
    {
     "data": {
      "text/plain": [
       "'7 years'"
      ]
     },
     "execution_count": 112,
     "metadata": {},
     "output_type": "execute_result"
    }
   ],
   "source": [
    "user4.get_user_experience()"
   ]
  },
  {
   "cell_type": "code",
   "execution_count": null,
   "id": "c5ffaf7e",
   "metadata": {},
   "outputs": [],
   "source": []
  }
 ],
 "metadata": {
  "kernelspec": {
   "display_name": "Python 3 (ipykernel)",
   "language": "python",
   "name": "python3"
  },
  "language_info": {
   "codemirror_mode": {
    "name": "ipython",
    "version": 3
   },
   "file_extension": ".py",
   "mimetype": "text/x-python",
   "name": "python",
   "nbconvert_exporter": "python",
   "pygments_lexer": "ipython3",
   "version": "3.9.7"
  }
 },
 "nbformat": 4,
 "nbformat_minor": 5
}
