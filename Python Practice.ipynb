{
 "cells": [
  {
   "cell_type": "code",
   "execution_count": 1,
   "id": "19b3946f",
   "metadata": {},
   "outputs": [
    {
     "name": "stdout",
     "output_type": "stream",
     "text": [
      "Enter a number3\n",
      "number is  prime\n"
     ]
    }
   ],
   "source": [
    "# to check prime number\n",
    "Num = int(input(\"Enter a number\"))\n",
    "\n",
    "flag= False\n",
    "\n",
    "if Num>1:\n",
    "    for i in range(2,Num):\n",
    "        if(Num%i==0):\n",
    "            flag=True\n",
    "            break\n",
    "if flag==True:\n",
    "    print(\"Number is not prime\")\n",
    "else:\n",
    "    print(\"number is  prime\")"
   ]
  },
  {
   "cell_type": "code",
   "execution_count": 2,
   "id": "8809421c",
   "metadata": {},
   "outputs": [
    {
     "name": "stdout",
     "output_type": "stream",
     "text": [
      "Enter a number2\n",
      "Enter a number3\n",
      "Sum is :5\n"
     ]
    }
   ],
   "source": [
    "# to add two number\n",
    "Num1 = int(input(\"Enter a number\"))\n",
    "Num2 = int(input(\"Enter a number\"))\n",
    "sum=Num1 + Num2\n",
    "print(f\"Sum is :{sum}\")"
   ]
  },
  {
   "cell_type": "code",
   "execution_count": 3,
   "id": "bc391ffd",
   "metadata": {},
   "outputs": [
    {
     "name": "stdout",
     "output_type": "stream",
     "text": [
      "1 is not divisible by 11\n",
      "3 is not divisible by 11\n",
      "5 is not divisible by 11\n",
      "6 is not divisible by 11\n",
      "8 is not divisible by 11\n",
      "9 is not divisible by 11\n",
      "11 is divisible by 11\n",
      "22 is divisible by 11\n",
      "33 is divisible by 11\n",
      "44 is divisible by 11\n",
      "55 is divisible by 11\n",
      "66 is divisible by 11\n",
      "77 is divisible by 11\n",
      "88 is divisible by 11\n",
      "99 is divisible by 11\n"
     ]
    }
   ],
   "source": [
    "numbers=[1,3,5,6,8,9,11,22,33,44,55,66,77,88,99]\n",
    "for i in numbers:\n",
    "    if i%11==0:\n",
    "        print(f\"{i} is divisible by 11\")\n",
    "    else:\n",
    "        print(\"{0} is not divisible by 11\".format(i))\n",
    "    "
   ]
  },
  {
   "cell_type": "markdown",
   "id": "1309d740",
   "metadata": {},
   "source": [
    "# Password protected marksheet display\n"
   ]
  },
  {
   "cell_type": "code",
   "execution_count": 4,
   "id": "a885083d",
   "metadata": {},
   "outputs": [
    {
     "name": "stdout",
     "output_type": "stream",
     "text": [
      "Enter your username : habib\n",
      "Enter your password : 123\n",
      "Login Approved\n",
      "Enter your CC marks78\n",
      "Enter your DM marks98\n",
      "Enter your DS marks77\n",
      "                               MARKS  SHEET    \n",
      "        Compilier Construction : 78.0\n",
      "        Discrete Maths         : 98.0\n",
      "        Data Science           : 77.0\n",
      "        \n",
      "        Obatain Marks = 253.0\n",
      "        Total Marks   = 300\n",
      "        Grade         = 84.33333333333334\n",
      "        \n",
      "        \n"
     ]
    }
   ],
   "source": [
    "username=\"habib\"\n",
    "password=\"123\"\n",
    "\n",
    "Username=input(\"Enter your username : \")\n",
    "\n",
    "if Username==username:\n",
    "    Password=input(\"Enter your password : \")\n",
    "    if Password==password:\n",
    "        print(\"Login Approved\")\n",
    "        \n",
    "        CC=float(input(\"Enter your CC marks\"))\n",
    "        DM=float(input(\"Enter your DM marks\"))\n",
    "        DS=float(input(\"Enter your DS marks\"))\n",
    "        \n",
    "        Obtainmarks=CC+DM+DS\n",
    "        Totalmarks=300\n",
    "        Result=(Obtainmarks/Totalmarks)*100\n",
    "        \n",
    "        print(f\"\"\"                               MARKS  SHEET    \n",
    "        Compilier Construction : {CC}\n",
    "        Discrete Maths         : {DM}\n",
    "        Data Science           : {DS}\n",
    "        \n",
    "        Obatain Marks = {Obtainmarks}\n",
    "        Total Marks   = {Totalmarks}\n",
    "        Grade         = {Result}\n",
    "        \n",
    "        \"\"\")\n",
    "        \n",
    "    else:\n",
    "        print(\"Wrong Password\")\n",
    "else:\n",
    "    print(\"Wrong Username\")\n",
    "        "
   ]
  },
  {
   "cell_type": "code",
   "execution_count": 5,
   "id": "a5db6139",
   "metadata": {},
   "outputs": [],
   "source": [
    "# 1) A company decided to give bonus of 5% to employee if his/her year of service is more than 5 years.\n",
    "#Ask user for their salary and year of service and print the net bonus amount."
   ]
  },
  {
   "cell_type": "code",
   "execution_count": 6,
   "id": "286df315",
   "metadata": {},
   "outputs": [
    {
     "name": "stdout",
     "output_type": "stream",
     "text": [
      "Enter your salary89000\n",
      "Enter your year of services7\n",
      "Net Bonus amount is :53400.0\n"
     ]
    }
   ],
   "source": [
    "salary=int(input(\"Enter your salary\"))\n",
    "experience=int(input(\"Enter your year of services\"))\n",
    "if experience>5:\n",
    "    bonus=(salary*5)/100\n",
    "    netbonus=bonus*12\n",
    "    print(\"Net Bonus amount is :\"+ str(netbonus))\n",
    "    "
   ]
  },
  {
   "cell_type": "raw",
   "id": "90ecbf34",
   "metadata": {},
   "source": [
    "#Q8. Write a program to calculate the electricity bill (accept number of unit from user) according to the following criteria :\n",
    "     Unit                                                     Price  \n",
    "First 100 units                                               no charge\n",
    "Next 100 units                                              Rs 5 per unit\n",
    "After 200 units                                             Rs 10 per unit\n",
    "(For example if input unit is 350 than total bill amount is Rs2000)"
   ]
  },
  {
   "cell_type": "code",
   "execution_count": 8,
   "id": "9b8ca6c9",
   "metadata": {},
   "outputs": [
    {
     "name": "stdout",
     "output_type": "stream",
     "text": [
      "Enter your units400\n",
      "Bill = 2500\n"
     ]
    }
   ],
   "source": [
    "units=int(input(\"Enter your units\"))\n",
    "if units==100:\n",
    "    print(\"No charges\")\n",
    "elif units >100 and units<=200:\n",
    "    bill=(units-100)*5\n",
    "    print(f\"Bill = {bill}\")\n",
    "elif units>200:\n",
    "    previous=(100)*5\n",
    "    bill=previous+(units-200)*10\n",
    "    print(f\"Bill = {bill}\")\n",
    "            \n",
    "else:\n",
    "    print(\"Enter right amount\")\n",
    "            \n"
   ]
  },
  {
   "cell_type": "code",
   "execution_count": 9,
   "id": "771d429a",
   "metadata": {},
   "outputs": [],
   "source": [
    "Courses=[\"Ai\",\"DS\",\"CC\",\"DM\"]\n"
   ]
  },
  {
   "cell_type": "code",
   "execution_count": 10,
   "id": "8e5bfed8",
   "metadata": {},
   "outputs": [
    {
     "data": {
      "text/plain": [
       "['Ai', 'DS', 'CC', 'DM']"
      ]
     },
     "execution_count": 10,
     "metadata": {},
     "output_type": "execute_result"
    }
   ],
   "source": [
    "Courses"
   ]
  },
  {
   "cell_type": "code",
   "execution_count": 11,
   "id": "6cb366c7",
   "metadata": {},
   "outputs": [
    {
     "data": {
      "text/plain": [
       "'CC'"
      ]
     },
     "execution_count": 11,
     "metadata": {},
     "output_type": "execute_result"
    }
   ],
   "source": [
    "Courses[2]"
   ]
  },
  {
   "cell_type": "code",
   "execution_count": 12,
   "id": "e2906d4c",
   "metadata": {},
   "outputs": [],
   "source": [
    "del Courses[3]"
   ]
  },
  {
   "cell_type": "code",
   "execution_count": 13,
   "id": "68563a0f",
   "metadata": {},
   "outputs": [
    {
     "data": {
      "text/plain": [
       "['Ai', 'DS', 'CC']"
      ]
     },
     "execution_count": 13,
     "metadata": {},
     "output_type": "execute_result"
    }
   ],
   "source": [
    "Courses"
   ]
  },
  {
   "cell_type": "code",
   "execution_count": 14,
   "id": "6d154463",
   "metadata": {},
   "outputs": [],
   "source": [
    "Courses.insert(2,\"Web\")"
   ]
  },
  {
   "cell_type": "code",
   "execution_count": 15,
   "id": "4f8a33c8",
   "metadata": {},
   "outputs": [
    {
     "data": {
      "text/plain": [
       "['Ai', 'DS', 'Web', 'CC']"
      ]
     },
     "execution_count": 15,
     "metadata": {},
     "output_type": "execute_result"
    }
   ],
   "source": [
    "Courses"
   ]
  },
  {
   "cell_type": "code",
   "execution_count": 16,
   "id": "4edc5a42",
   "metadata": {},
   "outputs": [],
   "source": [
    "Courses.remove(\"CC\")"
   ]
  },
  {
   "cell_type": "code",
   "execution_count": 17,
   "id": "e3831f79",
   "metadata": {},
   "outputs": [
    {
     "data": {
      "text/plain": [
       "['Ai', 'DS', 'Web']"
      ]
     },
     "execution_count": 17,
     "metadata": {},
     "output_type": "execute_result"
    }
   ],
   "source": [
    "Courses"
   ]
  },
  {
   "cell_type": "code",
   "execution_count": 18,
   "id": "ab1cbc28",
   "metadata": {},
   "outputs": [
    {
     "data": {
      "text/plain": [
       "'DS'"
      ]
     },
     "execution_count": 18,
     "metadata": {},
     "output_type": "execute_result"
    }
   ],
   "source": [
    "Courses.pop(1)"
   ]
  },
  {
   "cell_type": "raw",
   "id": "4aa27a09",
   "metadata": {},
   "source": [
    "List comprehension"
   ]
  },
  {
   "cell_type": "code",
   "execution_count": 19,
   "id": "9895d054",
   "metadata": {},
   "outputs": [
    {
     "name": "stdout",
     "output_type": "stream",
     "text": [
      "[1, 4, 9, 16, 25, 36, 49, 64, 81, 100]\n"
     ]
    }
   ],
   "source": [
    "square=[] #without\n",
    "for i in range(1,11):\n",
    "    sq=i**2\n",
    "    square.append(sq)\n",
    "print(square)"
   ]
  },
  {
   "cell_type": "code",
   "execution_count": 20,
   "id": "c1f6a894",
   "metadata": {},
   "outputs": [
    {
     "data": {
      "text/plain": [
       "[1, 4, 9, 16, 25, 36, 49, 64, 81, 100]"
      ]
     },
     "execution_count": 20,
     "metadata": {},
     "output_type": "execute_result"
    }
   ],
   "source": [
    "Square=[ i**2 for i in range(1,11)] #with\n",
    "Square"
   ]
  },
  {
   "cell_type": "code",
   "execution_count": 21,
   "id": "3bf45c26",
   "metadata": {},
   "outputs": [
    {
     "name": "stdout",
     "output_type": "stream",
     "text": [
      "habib ur rehman\n",
      "Mehtab Ahmed\n"
     ]
    }
   ],
   "source": [
    "FN=[\"habib\",\"Mehtab\"]\n",
    "LN=[\" ur rehman\",\" Ahmed\"]\n",
    "for i in FN:\n",
    "    for j in LN:\n",
    "        if FN.index(i)==LN.index(j):\n",
    "            print(i+j)\n",
    "        \n",
    "#NOT SOLVED\n"
   ]
  },
  {
   "cell_type": "code",
   "execution_count": 22,
   "id": "848748d2",
   "metadata": {},
   "outputs": [
    {
     "name": "stdout",
     "output_type": "stream",
     "text": [
      "habib ur rehman\n",
      "Mehtab Ahmed\n"
     ]
    }
   ],
   "source": [
    "FN=[\"habib\",\"Mehtab\"]\n",
    "LN=[\"ur rehman\",\"Ahmed\"]\n",
    "for i in FN:\n",
    "    print(f\"{i} {LN[FN.index(i)]}\")"
   ]
  },
  {
   "cell_type": "code",
   "execution_count": 23,
   "id": "1cb14bb0",
   "metadata": {},
   "outputs": [],
   "source": [
    "cars={\"Honda\":\"City\",\"Nissan\":\"GTR\",\"Toyota\":\"Carolla\"}"
   ]
  },
  {
   "cell_type": "code",
   "execution_count": 24,
   "id": "b491d1b9",
   "metadata": {},
   "outputs": [
    {
     "data": {
      "text/plain": [
       "{'Honda': 'City', 'Nissan': 'GTR', 'Toyota': 'Carolla'}"
      ]
     },
     "execution_count": 24,
     "metadata": {},
     "output_type": "execute_result"
    }
   ],
   "source": [
    "cars"
   ]
  },
  {
   "cell_type": "code",
   "execution_count": 25,
   "id": "500991fa",
   "metadata": {},
   "outputs": [
    {
     "data": {
      "text/plain": [
       "dict"
      ]
     },
     "execution_count": 25,
     "metadata": {},
     "output_type": "execute_result"
    }
   ],
   "source": [
    "type(cars)"
   ]
  },
  {
   "cell_type": "code",
   "execution_count": 26,
   "id": "1951fbe7",
   "metadata": {},
   "outputs": [
    {
     "data": {
      "text/plain": [
       "'City'"
      ]
     },
     "execution_count": 26,
     "metadata": {},
     "output_type": "execute_result"
    }
   ],
   "source": [
    "cars[\"Honda\"]"
   ]
  },
  {
   "cell_type": "code",
   "execution_count": 27,
   "id": "3f46b9fd",
   "metadata": {},
   "outputs": [],
   "source": [
    "cars[\"Daihutsu\"]=\"Mira\""
   ]
  },
  {
   "cell_type": "code",
   "execution_count": 28,
   "id": "7a372172",
   "metadata": {},
   "outputs": [
    {
     "data": {
      "text/plain": [
       "{'Honda': 'City', 'Nissan': 'GTR', 'Toyota': 'Carolla', 'Daihutsu': 'Mira'}"
      ]
     },
     "execution_count": 28,
     "metadata": {},
     "output_type": "execute_result"
    }
   ],
   "source": [
    "cars"
   ]
  },
  {
   "cell_type": "code",
   "execution_count": 29,
   "id": "24d73017",
   "metadata": {},
   "outputs": [],
   "source": [
    "del cars[\"Daihutsu\"]"
   ]
  },
  {
   "cell_type": "code",
   "execution_count": 30,
   "id": "71a4abc6",
   "metadata": {},
   "outputs": [
    {
     "data": {
      "text/plain": [
       "{'Honda': 'City', 'Nissan': 'GTR', 'Toyota': 'Carolla'}"
      ]
     },
     "execution_count": 30,
     "metadata": {},
     "output_type": "execute_result"
    }
   ],
   "source": [
    "cars"
   ]
  },
  {
   "cell_type": "code",
   "execution_count": 31,
   "id": "4e5d2ef1",
   "metadata": {},
   "outputs": [
    {
     "name": "stdout",
     "output_type": "stream",
     "text": [
      "Honda\n",
      "Nissan\n",
      "Toyota\n"
     ]
    }
   ],
   "source": [
    "for i in cars:\n",
    "    print(i)"
   ]
  },
  {
   "cell_type": "code",
   "execution_count": 32,
   "id": "e6466fb1",
   "metadata": {},
   "outputs": [
    {
     "name": "stdout",
     "output_type": "stream",
     "text": [
      "City\n",
      "GTR\n",
      "Carolla\n"
     ]
    }
   ],
   "source": [
    "for i in cars.values():\n",
    "    print(i)"
   ]
  },
  {
   "cell_type": "code",
   "execution_count": 33,
   "id": "d8227d0e",
   "metadata": {},
   "outputs": [
    {
     "name": "stdout",
     "output_type": "stream",
     "text": [
      "('Honda', 'City')\n",
      "('Nissan', 'GTR')\n",
      "('Toyota', 'Carolla')\n"
     ]
    }
   ],
   "source": [
    "for i in cars.items():\n",
    "    print(i)"
   ]
  },
  {
   "cell_type": "raw",
   "id": "c020f188",
   "metadata": {},
   "source": [
    "List in Dictionary"
   ]
  },
  {
   "cell_type": "code",
   "execution_count": 34,
   "id": "b1caf93c",
   "metadata": {},
   "outputs": [],
   "source": [
    "Cars=[{\"Honda\":\"City\"},{\"Niassan\":\"GTR\"}]\n"
   ]
  },
  {
   "cell_type": "code",
   "execution_count": 35,
   "id": "e00a0a62",
   "metadata": {},
   "outputs": [
    {
     "data": {
      "text/plain": [
       "[{'Honda': 'City'}, {'Niassan': 'GTR'}]"
      ]
     },
     "execution_count": 35,
     "metadata": {},
     "output_type": "execute_result"
    }
   ],
   "source": [
    "Cars"
   ]
  },
  {
   "cell_type": "code",
   "execution_count": 36,
   "id": "0a739e7f",
   "metadata": {},
   "outputs": [
    {
     "data": {
      "text/plain": [
       "{'Honda': 'City'}"
      ]
     },
     "execution_count": 36,
     "metadata": {},
     "output_type": "execute_result"
    }
   ],
   "source": [
    "Cars[0]"
   ]
  },
  {
   "cell_type": "code",
   "execution_count": 37,
   "id": "45eee04a",
   "metadata": {},
   "outputs": [
    {
     "data": {
      "text/plain": [
       "'City'"
      ]
     },
     "execution_count": 37,
     "metadata": {},
     "output_type": "execute_result"
    }
   ],
   "source": [
    "Cars[0][\"Honda\"]"
   ]
  },
  {
   "cell_type": "raw",
   "id": "cfd67540",
   "metadata": {},
   "source": [
    "Write a while loop that adds all the numbers up to 100 (inclusive)."
   ]
  },
  {
   "cell_type": "code",
   "execution_count": 38,
   "id": "ab99df8c",
   "metadata": {},
   "outputs": [
    {
     "name": "stdout",
     "output_type": "stream",
     "text": [
      "5050\n"
     ]
    }
   ],
   "source": [
    "count=0\n",
    "Total=0\n",
    "while count<=100:\n",
    "    Total=Total+count\n",
    "    count+=1\n",
    "    \n",
    "print(Total)    \n"
   ]
  },
  {
   "cell_type": "raw",
   "id": "165d3363",
   "metadata": {},
   "source": [
    "Using while loop, if statement and str() function; iterate through the list and if there is a 100, print it with its index number. i.e.: \"There is a 100 at index no: 5\""
   ]
  },
  {
   "cell_type": "code",
   "execution_count": 1,
   "id": "99b9c9b0",
   "metadata": {},
   "outputs": [],
   "source": [
    "# lst=[10, 99, 98, 85, 45, 59, 65, 66, 76, 12, 35, 13, 100, 80, 95]\n",
    "# while lst[i]:\n",
    "#         if i.real==100:\n",
    "#             print(f\"There is a 100 at index no: {lst.index(i)}\")\n",
    "            "
   ]
  },
  {
   "cell_type": "code",
   "execution_count": null,
   "id": "9e2617b4",
   "metadata": {},
   "outputs": [],
   "source": [
    "i=0\n",
    "lst1=[10, 99, 98, 85, 45, 59, 65, 66, 76, 12, 35, 13, 100, 80, 95]\n",
    "while i<len(lst1):\n",
    "        if lst1[i]==100:\n",
    "            print(f\"There is a 100 at index no: {str(i)}\")\n",
    "            i=i+1\n",
    "            \n",
    "            "
   ]
  },
  {
   "cell_type": "code",
   "execution_count": 1,
   "id": "3eea3a5d",
   "metadata": {},
   "outputs": [
    {
     "name": "stdout",
     "output_type": "stream",
     "text": [
      "10\n",
      "99\n",
      "98\n",
      "85\n",
      "45\n",
      "59\n",
      "65\n",
      "66\n",
      "76\n",
      "12\n",
      "35\n",
      "13\n",
      "100\n",
      "80\n",
      "95\n"
     ]
    }
   ],
   "source": [
    "count=0\n",
    "num=[10, 99, 98, 85, 45, 59, 65, 66, 76, 12, 35, 13, 100, 80, 95]\n",
    "while count<len(num):\n",
    "    print(num[count])\n",
    "    count+=1"
   ]
  },
  {
   "cell_type": "code",
   "execution_count": 2,
   "id": "c3ffaacd",
   "metadata": {},
   "outputs": [
    {
     "name": "stdout",
     "output_type": "stream",
     "text": [
      "index : 12\n"
     ]
    }
   ],
   "source": [
    "count=0\n",
    "num=[10, 99, 98, 85, 45, 59, 65, 66, 76, 12, 35, 13, 100, 80, 95]\n",
    "while count<len(num):\n",
    "    if (num[count]==100):\n",
    "        print(f\"index : {str(count)}\")\n",
    "    count+=1"
   ]
  },
  {
   "cell_type": "code",
   "execution_count": null,
   "id": "bb8029cd",
   "metadata": {},
   "outputs": [],
   "source": [
    "#print even number using while loop"
   ]
  },
  {
   "cell_type": "code",
   "execution_count": null,
   "id": "2a882340",
   "metadata": {},
   "outputs": [],
   "source": [
    "count=0\n",
    "num=[1,2,3,4,5,6,7,8,9,10]\n",
    "while count<len(num):\n",
    "    if num[count]%2==0:\n",
    "        print(f\"{num[count]} is an even number\")\n",
    "        count+=1"
   ]
  },
  {
   "cell_type": "code",
   "execution_count": null,
   "id": "67e47ea5",
   "metadata": {},
   "outputs": [],
   "source": [
    "print(\"hello\")"
   ]
  },
  {
   "cell_type": "code",
   "execution_count": 8,
   "id": "44a2a5e2",
   "metadata": {},
   "outputs": [],
   "source": [
    "def Calculator(num1,num2):\n",
    "    print(\"\"\"\n",
    "    Press 1 for Sub\n",
    "    Press 2 for Add\n",
    "    Press 3 for Div\"\"\")\n",
    "    Num=int(input(\"Enter number to execute\"))\n",
    "    if Num==1:\n",
    "        sub=num1-num2\n",
    "        print(f\"Answer : {sub}\")\n",
    "    elif Num==2:\n",
    "        add=num1+num2\n",
    "        print(f\"Answer : {add}\")\n",
    "    elif Num==3:\n",
    "        div=num1/num2\n",
    "        print(f\"Answer : {div}\")\n",
    "    else:\n",
    "        print(\"Enter valid number\")\n",
    "        \n",
    "    \n",
    "    "
   ]
  },
  {
   "cell_type": "code",
   "execution_count": 11,
   "id": "5c8537ec",
   "metadata": {},
   "outputs": [
    {
     "name": "stdout",
     "output_type": "stream",
     "text": [
      "\n",
      "    Press 1 for Sub\n",
      "    Press 2 for Add\n",
      "    Press 3 for Div\n",
      "Enter number to execute1\n",
      "Answer : -3\n"
     ]
    }
   ],
   "source": [
    "Calculator(4,7)"
   ]
  },
  {
   "cell_type": "raw",
   "id": "8091f62f",
   "metadata": {},
   "source": [
    "Local and global variable"
   ]
  },
  {
   "cell_type": "code",
   "execution_count": 5,
   "id": "96e7263c",
   "metadata": {},
   "outputs": [],
   "source": [
    "def square(num):\n",
    "    global sqr\n",
    "    sqr=num**2\n",
    "    print(sqr)"
   ]
  },
  {
   "cell_type": "code",
   "execution_count": 6,
   "id": "0c05f2c1",
   "metadata": {},
   "outputs": [
    {
     "name": "stdout",
     "output_type": "stream",
     "text": [
      "4\n"
     ]
    }
   ],
   "source": [
    "square(2)"
   ]
  },
  {
   "cell_type": "code",
   "execution_count": 3,
   "id": "4f640def",
   "metadata": {},
   "outputs": [],
   "source": [
    "sqr=81"
   ]
  },
  {
   "cell_type": "code",
   "execution_count": 4,
   "id": "ba04a2b1",
   "metadata": {},
   "outputs": [],
   "source": [
    "\n",
    "def sq(num):\n",
    "    print(sqr)"
   ]
  },
  {
   "cell_type": "code",
   "execution_count": 5,
   "id": "e91c071d",
   "metadata": {},
   "outputs": [
    {
     "name": "stdout",
     "output_type": "stream",
     "text": [
      "81\n"
     ]
    }
   ],
   "source": [
    "sq(3)"
   ]
  },
  {
   "cell_type": "code",
   "execution_count": 6,
   "id": "79ac93fb",
   "metadata": {},
   "outputs": [],
   "source": [
    "def make_sandwich(*items):#arbritary keywords\n",
    "    print(items)\n",
    "    "
   ]
  },
  {
   "cell_type": "code",
   "execution_count": 7,
   "id": "bc8d9f5c",
   "metadata": {},
   "outputs": [
    {
     "name": "stdout",
     "output_type": "stream",
     "text": [
      "('bread', 'egg', 'chicken', 'mayo', 'sauce')\n"
     ]
    }
   ],
   "source": [
    "make_sandwich(\"bread\",\"egg\",\"chicken\",\"mayo\",\"sauce\")"
   ]
  },
  {
   "cell_type": "code",
   "execution_count": 37,
   "id": "a31ce1e3",
   "metadata": {},
   "outputs": [],
   "source": [
    "class Cars():\n",
    "    def __init__(self,model,make,year,engine,doors):\n",
    "        self.model=model\n",
    "        self.make=make\n",
    "        self.year=year\n",
    "        self.engine=engine\n",
    "        self.doors=doors\n",
    "        \n",
    "    def Drive(self):\n",
    "        print(f\"{self.model} is driving\")\n",
    "    \n",
    "    def set_model(self,model):\n",
    "        self.model=model\n",
    "        "
   ]
  },
  {
   "cell_type": "code",
   "execution_count": 38,
   "id": "1304bdad",
   "metadata": {},
   "outputs": [],
   "source": [
    "c1=Cars(\"City\",\"Honda\",2022,\"Turbo\",4)"
   ]
  },
  {
   "cell_type": "code",
   "execution_count": 39,
   "id": "d6378457",
   "metadata": {},
   "outputs": [
    {
     "data": {
      "text/plain": [
       "'Honda'"
      ]
     },
     "execution_count": 39,
     "metadata": {},
     "output_type": "execute_result"
    }
   ],
   "source": [
    "c1.make"
   ]
  },
  {
   "cell_type": "code",
   "execution_count": 40,
   "id": "59e7007a",
   "metadata": {},
   "outputs": [
    {
     "data": {
      "text/plain": [
       "2022"
      ]
     },
     "execution_count": 40,
     "metadata": {},
     "output_type": "execute_result"
    }
   ],
   "source": [
    "c1.year\n"
   ]
  },
  {
   "cell_type": "code",
   "execution_count": 41,
   "id": "c5b4c906",
   "metadata": {},
   "outputs": [
    {
     "name": "stdout",
     "output_type": "stream",
     "text": [
      "City is driving\n"
     ]
    }
   ],
   "source": [
    "c1.Drive()"
   ]
  },
  {
   "cell_type": "code",
   "execution_count": 42,
   "id": "2702d529",
   "metadata": {},
   "outputs": [],
   "source": [
    "c1.set_model(\"Civic\")"
   ]
  },
  {
   "cell_type": "code",
   "execution_count": 20,
   "id": "9a98776a",
   "metadata": {},
   "outputs": [
    {
     "data": {
      "text/plain": [
       "'Civic'"
      ]
     },
     "execution_count": 20,
     "metadata": {},
     "output_type": "execute_result"
    }
   ],
   "source": [
    "c1.model"
   ]
  },
  {
   "cell_type": "code",
   "execution_count": 43,
   "id": "88871017",
   "metadata": {},
   "outputs": [],
   "source": [
    "class Electriccar(Cars):\n",
    "    def __init__(self,model,make,year,engine,doors,size_of_battery,charger_volt):\n",
    "        super().__init__(model,make,year,engine,doors)\n",
    "        self.size_of_battery=size_of_battery\n",
    "        self.charger_volt=charger_volt\n",
    "        \n",
    "    "
   ]
  },
  {
   "cell_type": "code",
   "execution_count": 44,
   "id": "4d814da4",
   "metadata": {},
   "outputs": [],
   "source": [
    "ec1=Electriccar(\"City\",\"Honda\",2022,\"TV8\",4,\"big\",160)"
   ]
  },
  {
   "cell_type": "code",
   "execution_count": 45,
   "id": "86d32aaa",
   "metadata": {},
   "outputs": [
    {
     "data": {
      "text/plain": [
       "'Honda'"
      ]
     },
     "execution_count": 45,
     "metadata": {},
     "output_type": "execute_result"
    }
   ],
   "source": [
    "ec1.make"
   ]
  },
  {
   "cell_type": "code",
   "execution_count": 46,
   "id": "3547eba4",
   "metadata": {},
   "outputs": [
    {
     "data": {
      "text/plain": [
       "'TV8'"
      ]
     },
     "execution_count": 46,
     "metadata": {},
     "output_type": "execute_result"
    }
   ],
   "source": [
    "ec1.engine"
   ]
  },
  {
   "cell_type": "code",
   "execution_count": 47,
   "id": "b50979e0",
   "metadata": {},
   "outputs": [
    {
     "data": {
      "text/plain": [
       "'big'"
      ]
     },
     "execution_count": 47,
     "metadata": {},
     "output_type": "execute_result"
    }
   ],
   "source": [
    "ec1.size_of_battery"
   ]
  },
  {
   "cell_type": "code",
   "execution_count": 52,
   "id": "90969c7a",
   "metadata": {},
   "outputs": [],
   "source": [
    "class Electriccar1(Cars):\n",
    "    def __init__(self,model,make,year,engine,doors,size_of_battery,charger_volt):\n",
    "        super().__init__(model,make,year,engine,doors)\n",
    "        self.size_of_battery=size_of_battery\n",
    "        self.charger_volt=charger_volt"
   ]
  },
  {
   "cell_type": "code",
   "execution_count": 53,
   "id": "5e1e811b",
   "metadata": {},
   "outputs": [],
   "source": [
    "ec2=Electriccar1(\"City\",\"Honda\",2022,\"TV8\",4,\"big\",160)"
   ]
  },
  {
   "cell_type": "code",
   "execution_count": 54,
   "id": "883952e2",
   "metadata": {},
   "outputs": [
    {
     "name": "stdout",
     "output_type": "stream",
     "text": [
      "City is driving\n"
     ]
    }
   ],
   "source": [
    "ec2.Drive()"
   ]
  },
  {
   "cell_type": "code",
   "execution_count": 55,
   "id": "b52e5be4",
   "metadata": {},
   "outputs": [
    {
     "data": {
      "text/plain": [
       "'Honda'"
      ]
     },
     "execution_count": 55,
     "metadata": {},
     "output_type": "execute_result"
    }
   ],
   "source": [
    "ec2.make"
   ]
  },
  {
   "cell_type": "code",
   "execution_count": 1,
   "id": "2b3705d5",
   "metadata": {},
   "outputs": [
    {
     "name": "stdout",
     "output_type": "stream",
     "text": [
      "Enter n number3\n",
      "Enter d number0\n",
      "can't divided by zero\n",
      "Hello World\n"
     ]
    }
   ],
   "source": [
    "try:\n",
    "    n=int(input(\"Enter n number\"))\n",
    "    d=int(input(\"Enter d number\"))\n",
    "    A=n/d\n",
    "    print(A)\n",
    "except ZeroDivisionError:\n",
    "    print(\"can't divided by zero\")\n",
    "except ValueError:\n",
    "    print(\"only integer\")\n",
    "\n",
    "print(\"Hello World\")"
   ]
  },
  {
   "cell_type": "code",
   "execution_count": 3,
   "id": "aed489f8",
   "metadata": {},
   "outputs": [
    {
     "name": "stdout",
     "output_type": "stream",
     "text": [
      "Enter n numberg\n",
      "Error is caught\n",
      "Hello World\n"
     ]
    }
   ],
   "source": [
    "try:\n",
    "    n=int(input(\"Enter n number\"))\n",
    "    d=int(input(\"Enter d number\"))\n",
    "    A=n/d\n",
    "    print(A)\n",
    "except:\n",
    "    print(\"Error is caught\")\n",
    "print(\"Hello World\")"
   ]
  },
  {
   "cell_type": "code",
   "execution_count": 7,
   "id": "6778628b",
   "metadata": {},
   "outputs": [
    {
     "name": "stdout",
     "output_type": "stream",
     "text": [
      "Enter n number0\n",
      "Enter d number0\n",
      "can't divided by zero\n",
      "always print\n",
      "Hello World\n"
     ]
    }
   ],
   "source": [
    "try:\n",
    "    n=int(input(\"Enter n number\"))\n",
    "    d=int(input(\"Enter d number\"))\n",
    "    A=n/d\n",
    "    print(A)\n",
    "except ZeroDivisionError:\n",
    "    print(\"can't divided by zero\")\n",
    "except ValueError:\n",
    "    print(\"only integer\")\n",
    "\n",
    "\n",
    "\n",
    "finally:\n",
    "    print(\"always print\")\n",
    "\n",
    "print(\"Hello World\")"
   ]
  },
  {
   "cell_type": "code",
   "execution_count": 8,
   "id": "dea2020e",
   "metadata": {},
   "outputs": [],
   "source": [
    "class student():\n",
    "    def __init__(self,name,age):\n",
    "        if age>80 or age<16:\n",
    "            raise Exception('age can not be greater then 80 and less then 16')\n",
    "        self.name=name\n",
    "        self.age=age"
   ]
  },
  {
   "cell_type": "code",
   "execution_count": 9,
   "id": "3a6a4950",
   "metadata": {},
   "outputs": [
    {
     "ename": "Exception",
     "evalue": "age can not be greater then 80 and less then 16",
     "output_type": "error",
     "traceback": [
      "\u001b[1;31m---------------------------------------------------------------------------\u001b[0m",
      "\u001b[1;31mException\u001b[0m                                 Traceback (most recent call last)",
      "Input \u001b[1;32mIn [9]\u001b[0m, in \u001b[0;36m<cell line: 1>\u001b[1;34m()\u001b[0m\n\u001b[1;32m----> 1\u001b[0m s1\u001b[38;5;241m=\u001b[39m\u001b[43mstudent\u001b[49m\u001b[43m(\u001b[49m\u001b[38;5;124;43m\"\u001b[39;49m\u001b[38;5;124;43mhabib\u001b[39;49m\u001b[38;5;124;43m\"\u001b[39;49m\u001b[43m,\u001b[49m\u001b[38;5;241;43m12\u001b[39;49m\u001b[43m)\u001b[49m\n",
      "Input \u001b[1;32mIn [8]\u001b[0m, in \u001b[0;36mstudent.__init__\u001b[1;34m(self, name, age)\u001b[0m\n\u001b[0;32m      2\u001b[0m \u001b[38;5;28;01mdef\u001b[39;00m \u001b[38;5;21m__init__\u001b[39m(\u001b[38;5;28mself\u001b[39m,name,age):\n\u001b[0;32m      3\u001b[0m     \u001b[38;5;28;01mif\u001b[39;00m age\u001b[38;5;241m>\u001b[39m\u001b[38;5;241m80\u001b[39m \u001b[38;5;129;01mor\u001b[39;00m age\u001b[38;5;241m<\u001b[39m\u001b[38;5;241m16\u001b[39m:\n\u001b[1;32m----> 4\u001b[0m         \u001b[38;5;28;01mraise\u001b[39;00m \u001b[38;5;167;01mException\u001b[39;00m(\u001b[38;5;124m'\u001b[39m\u001b[38;5;124mage can not be greater then 80 and less then 16\u001b[39m\u001b[38;5;124m'\u001b[39m)\n\u001b[0;32m      5\u001b[0m     \u001b[38;5;28mself\u001b[39m\u001b[38;5;241m.\u001b[39mname\u001b[38;5;241m=\u001b[39mname\n\u001b[0;32m      6\u001b[0m     \u001b[38;5;28mself\u001b[39m\u001b[38;5;241m.\u001b[39mage\u001b[38;5;241m=\u001b[39mage\n",
      "\u001b[1;31mException\u001b[0m: age can not be greater then 80 and less then 16"
     ]
    }
   ],
   "source": [
    "s1=student(\"habib\",12)"
   ]
  },
  {
   "cell_type": "code",
   "execution_count": 10,
   "id": "a2c9c624",
   "metadata": {},
   "outputs": [],
   "source": [
    "with open('file.txt','w') as f:\n",
    "    f.write(\"Hello World!\")\n",
    "    "
   ]
  },
  {
   "cell_type": "code",
   "execution_count": 12,
   "id": "3d7a6d0b",
   "metadata": {},
   "outputs": [
    {
     "name": "stdout",
     "output_type": "stream",
     "text": [
      "Hello World!\n"
     ]
    }
   ],
   "source": [
    "with open('file.txt','r') as f:\n",
    "    print(f.read())"
   ]
  },
  {
   "cell_type": "code",
   "execution_count": 15,
   "id": "1aae27bd",
   "metadata": {},
   "outputs": [
    {
     "name": "stdout",
     "output_type": "stream",
     "text": [
      "Hello World!\n"
     ]
    }
   ],
   "source": [
    "with open('file.txt','w+') as f:\n",
    "    f.write(\"Hello World!\")\n",
    "    f.seek(0)\n",
    "    print(f.read())"
   ]
  },
  {
   "cell_type": "code",
   "execution_count": 17,
   "id": "f5c12acc",
   "metadata": {},
   "outputs": [],
   "source": [
    "with open('file.txt','a') as f:\n",
    "    f.write(\"i am habib ur rehman\")"
   ]
  },
  {
   "cell_type": "code",
   "execution_count": 18,
   "id": "dff8c481",
   "metadata": {},
   "outputs": [
    {
     "name": "stdout",
     "output_type": "stream",
     "text": [
      "Hello World!i am habib ur rehman\n"
     ]
    }
   ],
   "source": [
    "with open('file.txt','r') as f:\n",
    "    print(f.read())"
   ]
  },
  {
   "cell_type": "code",
   "execution_count": 26,
   "id": "9a8ea4b6",
   "metadata": {},
   "outputs": [],
   "source": [
    "import csv\n",
    "with open('comp.csv','w') as f:\n",
    "    a= csv.writer(f)\n",
    "    a.writerows(['habib','1','2000'])"
   ]
  },
  {
   "cell_type": "code",
   "execution_count": 29,
   "id": "a4f582d5",
   "metadata": {},
   "outputs": [
    {
     "name": "stdout",
     "output_type": "stream",
     "text": [
      "['habib', '10', '2']\n",
      "['ali', '3', '9']\n",
      "['ahmed', '1', '8']\n"
     ]
    }
   ],
   "source": [
    "import csv\n",
    "with open('ax.csv') as f:\n",
    "    a= csv.reader(f)\n",
    "    for i in a:\n",
    "        print(i)"
   ]
  },
  {
   "cell_type": "code",
   "execution_count": 31,
   "id": "a4bfc784",
   "metadata": {},
   "outputs": [],
   "source": [
    "with open(\"Competition.csv\",\"w\") as f:\n",
    "    Data=csv.writer(f)\n",
    "    Data.writerow([\"Burhan\",\"50000\"])\n",
    "    Data.writerow([\"Burhan1\",\"30000\"])\n",
    "    Data.writerow([\"Burhan1\",\"80000\"])"
   ]
  },
  {
   "cell_type": "code",
   "execution_count": 32,
   "id": "5f85c105",
   "metadata": {},
   "outputs": [
    {
     "name": "stdout",
     "output_type": "stream",
     "text": [
      "['Burhan', '50000']\n",
      "[]\n",
      "['Burhan1', '30000']\n",
      "[]\n",
      "['Burhan1', '80000']\n",
      "[]\n"
     ]
    }
   ],
   "source": [
    "with open(\"Competition.csv\") as f:\n",
    "    data=csv.reader(f)\n",
    "    for i in data:\n",
    "        print(i)"
   ]
  },
  {
   "cell_type": "code",
   "execution_count": 35,
   "id": "c6288a84",
   "metadata": {},
   "outputs": [],
   "source": [
    "import json\n",
    "ab=['a',\"b\",'c','d']\n",
    "with open(\"new.json\",\"w\") as f:\n",
    "    data=json.dump(ab,f)"
   ]
  },
  {
   "cell_type": "code",
   "execution_count": 38,
   "id": "bb68bca3",
   "metadata": {},
   "outputs": [
    {
     "name": "stdout",
     "output_type": "stream",
     "text": [
      "['a', 'b', 'c', 'd']\n"
     ]
    }
   ],
   "source": [
    "with open(\"new.json\",\"r\") as f:\n",
    "    data=json.load(f)\n",
    "    print(data)"
   ]
  },
  {
   "cell_type": "code",
   "execution_count": 39,
   "id": "3e504292",
   "metadata": {},
   "outputs": [],
   "source": [
    "import numpy as np"
   ]
  },
  {
   "cell_type": "code",
   "execution_count": 40,
   "id": "7685683e",
   "metadata": {},
   "outputs": [],
   "source": [
    "data=np.random.randn(4,4)"
   ]
  },
  {
   "cell_type": "code",
   "execution_count": 41,
   "id": "e81d57fc",
   "metadata": {},
   "outputs": [
    {
     "name": "stdout",
     "output_type": "stream",
     "text": [
      "[[-1.72378509 -1.42340965  1.34558283 -0.8501032 ]\n",
      " [-1.70866157 -0.59340879 -0.92669799  0.22139915]\n",
      " [ 0.07563878 -0.24825934  0.04330624  0.58631183]\n",
      " [-0.83436984  1.1736252   0.68797851  1.6512548 ]]\n"
     ]
    }
   ],
   "source": [
    "print(data)"
   ]
  },
  {
   "cell_type": "code",
   "execution_count": 43,
   "id": "47e67fe0",
   "metadata": {},
   "outputs": [
    {
     "data": {
      "text/plain": [
       "array([[[-1.72378509, -1.42340965,  1.34558283, -0.8501032 ],\n",
       "        [-1.70866157, -0.59340879, -0.92669799,  0.22139915]],\n",
       "\n",
       "       [[ 0.07563878, -0.24825934,  0.04330624,  0.58631183],\n",
       "        [-0.83436984,  1.1736252 ,  0.68797851,  1.6512548 ]]])"
      ]
     },
     "execution_count": 43,
     "metadata": {},
     "output_type": "execute_result"
    }
   ],
   "source": [
    "data.reshape(2,2,4)"
   ]
  },
  {
   "cell_type": "code",
   "execution_count": null,
   "id": "f810770d",
   "metadata": {},
   "outputs": [],
   "source": []
  }
 ],
 "metadata": {
  "kernelspec": {
   "display_name": "Python 3 (ipykernel)",
   "language": "python",
   "name": "python3"
  },
  "language_info": {
   "codemirror_mode": {
    "name": "ipython",
    "version": 3
   },
   "file_extension": ".py",
   "mimetype": "text/x-python",
   "name": "python",
   "nbconvert_exporter": "python",
   "pygments_lexer": "ipython3",
   "version": "3.9.12"
  }
 },
 "nbformat": 4,
 "nbformat_minor": 5
}
