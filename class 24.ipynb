{
 "cells": [
  {
   "cell_type": "markdown",
   "id": "1da48bf9",
   "metadata": {},
   "source": [
    "# class 24"
   ]
  },
  {
   "cell_type": "markdown",
   "id": "6e49bb05",
   "metadata": {},
   "source": [
    "# file and exception\n"
   ]
  },
  {
   "cell_type": "code",
   "execution_count": 9,
   "id": "4155829d",
   "metadata": {},
   "outputs": [
    {
     "name": "stdout",
     "output_type": "stream",
     "text": [
      "enter a number5\n",
      "enter a numberg\n",
      "enter a valid int\n"
     ]
    }
   ],
   "source": [
    "try:\n",
    "    numertor= int(input('enter a number'))\n",
    "    denumenator= int(input('enter a number'))\n",
    "    ans=numertor/denumenator\n",
    "    \n",
    "except ZeroDivisionError:\n",
    "    print('number cant divide by zero')\n",
    "except ValueError:\n",
    "    print('enter a valid int')\n",
    "    \n",
    "else:\n",
    "    print(ans)"
   ]
  },
  {
   "cell_type": "code",
   "execution_count": 15,
   "id": "71427e6b",
   "metadata": {},
   "outputs": [
    {
     "name": "stdout",
     "output_type": "stream",
     "text": [
      "enter a number5\n",
      "enter a number9\n",
      "there is no value in this list\n"
     ]
    }
   ],
   "source": [
    "list=[]\n",
    "try:\n",
    "    numertor= int(input('Enter a number'))\n",
    "    denumenator= int(input('Enter a number'))\n",
    "    ans=numertor/denumenator\n",
    "    index=list[5]\n",
    "    print(index)\n",
    "    \n",
    "except ZeroDivisionError:\n",
    "    print('Number cant divide by zero')\n",
    "except ValueError:\n",
    "    print('Enter a valid int')\n",
    "except IndexError:\n",
    "    print('There is no value in this list')\n",
    "    \n",
    "else:\n",
    "    print(ans)"
   ]
  },
  {
   "cell_type": "code",
   "execution_count": null,
   "id": "f9e85fbf",
   "metadata": {},
   "outputs": [],
   "source": [
    "#except Exception as e:\n",
    "#   print('handle error==' +str(e))\n"
   ]
  },
  {
   "cell_type": "code",
   "execution_count": 18,
   "id": "1f3c384d",
   "metadata": {},
   "outputs": [
    {
     "name": "stdout",
     "output_type": "stream",
     "text": [
      "Enter a number5\n",
      "Enter a number8\n",
      "handle error==list index out of range\n"
     ]
    }
   ],
   "source": [
    "list=[]\n",
    "try:\n",
    "    numertor= int(input('Enter a number'))\n",
    "    denumenator= int(input('Enter a number'))\n",
    "    ans=numertor/denumenator\n",
    "    index=list[5]\n",
    "    print(index)\n",
    "    \n",
    "# except ZeroDivisionError:\n",
    "#     print('Number cant divide by zero')\n",
    "# except ValueError:\n",
    "#     print('Enter a valid int')\n",
    "# except IndexError:\n",
    "#     print('There is no value in this list')\n",
    "\n",
    "except Exception as e:\n",
    "  print('handle error==' +str(e))\n",
    "    \n",
    "else:\n",
    "    print(ans)"
   ]
  },
  {
   "cell_type": "markdown",
   "id": "6f612fd7",
   "metadata": {},
   "source": [
    "# finally"
   ]
  },
  {
   "cell_type": "code",
   "execution_count": 23,
   "id": "62bb2af6",
   "metadata": {},
   "outputs": [
    {
     "name": "stdout",
     "output_type": "stream",
     "text": [
      "Enter a number5\n",
      "Enter a number6\n",
      "handle error==list index out of range\n",
      "finally will always run\n",
      "hello world\n"
     ]
    }
   ],
   "source": [
    "list=[]\n",
    "try:\n",
    "    numertor= int(input('Enter a number'))\n",
    "    denumenator= int(input('Enter a number'))\n",
    "    ans=numertor/denumenator\n",
    "    index=list[5]\n",
    "    print(index)\n",
    "    \n",
    "# except ZeroDivisionError:\n",
    "#     print('Number cant divide by zero')\n",
    "# except ValueError:\n",
    "#     print('Enter a valid int')\n",
    "# except IndexError:\n",
    "#     print('There is no value in this list')\n",
    "\n",
    "except Exception as e:\n",
    "  print('handle error==' +str(e))\n",
    "    \n",
    "else:\n",
    "    print(ans)\n",
    "\n",
    "finally:\n",
    "    print('finally will always run')# this will execute even if the application crash\n",
    "print('hello world') # if the application crash this statement will not execute"
   ]
  },
  {
   "cell_type": "markdown",
   "id": "7377a10a",
   "metadata": {},
   "source": [
    "# raising our own exception\n"
   ]
  },
  {
   "cell_type": "code",
   "execution_count": 34,
   "id": "165569a3",
   "metadata": {},
   "outputs": [],
   "source": [
    "class student():\n",
    "    def __init__(self,name,age):\n",
    "        if age>80 or age<16:\n",
    "            raise Exception('age can not be greater then 80 and less then 16')\n",
    "        self.name=name\n",
    "        self.age=age"
   ]
  },
  {
   "cell_type": "code",
   "execution_count": 35,
   "id": "f740fe0d",
   "metadata": {},
   "outputs": [
    {
     "name": "stdout",
     "output_type": "stream",
     "text": [
      "enter your age100\n",
      "handle error==age can not be greater then 80 and less then 16\n"
     ]
    }
   ],
   "source": [
    "try:\n",
    "    age = int(input('enter your age'))\n",
    "    st=student('habib', age)\n",
    "except Exception as e:\n",
    "    print('handle error==' +str(e))\n",
    "    \n",
    "else:\n",
    "    print(st.age)"
   ]
  },
  {
   "cell_type": "code",
   "execution_count": null,
   "id": "5ab3b80f",
   "metadata": {},
   "outputs": [],
   "source": []
  },
  {
   "cell_type": "code",
   "execution_count": null,
   "id": "3c8918aa",
   "metadata": {},
   "outputs": [],
   "source": []
  }
 ],
 "metadata": {
  "kernelspec": {
   "display_name": "Python 3 (ipykernel)",
   "language": "python",
   "name": "python3"
  },
  "language_info": {
   "codemirror_mode": {
    "name": "ipython",
    "version": 3
   },
   "file_extension": ".py",
   "mimetype": "text/x-python",
   "name": "python",
   "nbconvert_exporter": "python",
   "pygments_lexer": "ipython3",
   "version": "3.9.7"
  }
 },
 "nbformat": 4,
 "nbformat_minor": 5
}
