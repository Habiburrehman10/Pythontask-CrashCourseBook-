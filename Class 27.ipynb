{
 "cells": [
  {
   "cell_type": "markdown",
   "id": "aa4be839",
   "metadata": {},
   "source": [
    "# Class 26"
   ]
  },
  {
   "cell_type": "code",
   "execution_count": 1,
   "id": "0db45175",
   "metadata": {},
   "outputs": [
    {
     "ename": "FileNotFoundError",
     "evalue": "[Errno 2] No such file or directory: 'file.txt'",
     "output_type": "error",
     "traceback": [
      "\u001b[1;31m---------------------------------------------------------------------------\u001b[0m",
      "\u001b[1;31mFileNotFoundError\u001b[0m                         Traceback (most recent call last)",
      "\u001b[1;32mC:\\Users\\LAB02R~1\\AppData\\Local\\Temp/ipykernel_11676/1666257584.py\u001b[0m in \u001b[0;36m<module>\u001b[1;34m\u001b[0m\n\u001b[1;32m----> 1\u001b[1;33m \u001b[1;32mwith\u001b[0m \u001b[0mopen\u001b[0m \u001b[1;33m(\u001b[0m\u001b[1;34m'file.txt'\u001b[0m\u001b[1;33m,\u001b[0m\u001b[1;34m'r'\u001b[0m\u001b[1;33m)\u001b[0m \u001b[1;32mas\u001b[0m \u001b[0mf\u001b[0m\u001b[1;33m:\u001b[0m\u001b[1;33m\u001b[0m\u001b[1;33m\u001b[0m\u001b[0m\n\u001b[0m\u001b[0;32m      2\u001b[0m     \u001b[0mprint\u001b[0m\u001b[1;33m(\u001b[0m\u001b[0mf\u001b[0m\u001b[1;33m.\u001b[0m\u001b[0mread\u001b[0m\u001b[1;33m(\u001b[0m\u001b[1;33m)\u001b[0m\u001b[1;33m)\u001b[0m\u001b[1;33m\u001b[0m\u001b[1;33m\u001b[0m\u001b[0m\n",
      "\u001b[1;31mFileNotFoundError\u001b[0m: [Errno 2] No such file or directory: 'file.txt'"
     ]
    }
   ],
   "source": [
    "with open ('file.txt','r') as f:\n",
    "    print(f.read())"
   ]
  },
  {
   "cell_type": "code",
   "execution_count": 2,
   "id": "674cd61a",
   "metadata": {},
   "outputs": [],
   "source": [
    "with open ('file.txt','w') as f:\n",
    "    f.write('Hello world')"
   ]
  },
  {
   "cell_type": "code",
   "execution_count": 3,
   "id": "bc28a11a",
   "metadata": {},
   "outputs": [
    {
     "name": "stdout",
     "output_type": "stream",
     "text": [
      "Hello world\n"
     ]
    }
   ],
   "source": [
    "with open ('file.txt','r') as f:\n",
    "    print(f.read())"
   ]
  },
  {
   "cell_type": "code",
   "execution_count": 14,
   "id": "d3e79df6",
   "metadata": {},
   "outputs": [],
   "source": [
    "import csv\n",
    "with open(\"Competition.csv\") as f:\n",
    "    contents_of_f = csv.reader(f)\n"
   ]
  },
  {
   "cell_type": "code",
   "execution_count": 23,
   "id": "17b5cdb5",
   "metadata": {},
   "outputs": [],
   "source": [
    "with open(\"Competition.csv\", \"w\", newline=\"\") as f:\n",
    "    data_handler = csv.writer(f, delimiter=\",\")\n",
    "    data_handler.writerow([\"Year2\", \"Event2\",\n",
    "    \"Winner2\"])\n",
    "    data_handler.writerow([\"1995\", \"Best-Kept Lawn\",\n",
    "    \"None\"])\n",
    "    data_handler.writerow([\"1999\", \"Gobstones\",\n",
    "    \"Welch National\"])"
   ]
  },
  {
   "cell_type": "code",
   "execution_count": 24,
   "id": "f33c5198",
   "metadata": {},
   "outputs": [
    {
     "name": "stdout",
     "output_type": "stream",
     "text": [
      "['Year2', 'Event2', 'Winner2']\n",
      "['1995', 'Best-Kept Lawn', 'None']\n",
      "['1999', 'Gobstones', 'Welch National']\n"
     ]
    }
   ],
   "source": [
    "with open(\"Competition.csv\") as f:\n",
    "    contents_of_f = csv.reader(f)\n",
    "#     reader_of_f = csv.reader(f)\n",
    "    potter_competition = []\n",
    "    for each_line in contents_of_f:\n",
    "        print( each_line)\n",
    "# print(potter_competition)"
   ]
  },
  {
   "cell_type": "code",
   "execution_count": 27,
   "id": "c4bd707c",
   "metadata": {},
   "outputs": [],
   "source": [
    "with open(\"Competition.csv\", \"w\", newline=\"\") as f:\n",
    "    data_handler = csv.writer(f)\n",
    "    data_handler.writerow([\"Year2\", \"Event2\",\n",
    "    \"Winner2\"])\n",
    "    data_handler.writerow([\"1995\", \"Best-Kept Lawn\",\n",
    "    \"None\"])\n",
    "    data_handler.writerow([\"1999\", \"Gobstones\",\n",
    "    \"Welch National\"])"
   ]
  },
  {
   "cell_type": "raw",
   "id": "a456bf58",
   "metadata": {},
   "source": [
    "JSON is just like dictionary\n",
    "but in json key is not numeric like dictionary"
   ]
  },
  {
   "cell_type": "code",
   "execution_count": 31,
   "id": "5dd97e88",
   "metadata": {},
   "outputs": [],
   "source": [
    "#for storing\n",
    "import json  #for list\n",
    "alphabet_letters = [\"a\", \"b\", \"c\"]\n",
    "with open(\"alphabet_list.json\", \"w\") as f:\n",
    "    json.dump(alphabet_letters, f)\n"
   ]
  },
  {
   "cell_type": "code",
   "execution_count": 33,
   "id": "189b019b",
   "metadata": {},
   "outputs": [],
   "source": [
    "#for Distionary\n",
    "customer_29876 = {\n",
    "\"first name\": \"David\",\n",
    "\"last name\": \"Elliott\",\n",
    "\"address\": \"4803 Wellesley St.\",\n",
    "}\n",
    "with open(\"customer_29876.json\", \"w\") as f:\n",
    "    json.dump(customer_29876, f)"
   ]
  },
  {
   "cell_type": "code",
   "execution_count": 34,
   "id": "3479ca0f",
   "metadata": {},
   "outputs": [
    {
     "name": "stdout",
     "output_type": "stream",
     "text": [
      "{'first name': 'David', 'last name': 'Elliott', 'address': '4803 Wellesley St.'}\n",
      "Elliott\n"
     ]
    }
   ],
   "source": [
    "#for retrive\n",
    "customer_29876 = {\n",
    "\"first name\": \"David\",\n",
    "\"last name\": \"Elliott\",\n",
    "\"address\": \"4803 Wellesley St.\",\n",
    "}\n",
    "\n",
    "with open(\"customer_29876.json\") as f:\n",
    "    customer_29876 = json.load(f)\n",
    "    \n",
    "print(customer_29876)\n",
    "print(customer_29876[\"last name\"])\n",
    "\n",
    "\n",
    "    "
   ]
  },
  {
   "cell_type": "markdown",
   "id": "71f44c2f",
   "metadata": {},
   "source": [
    "# Class 27"
   ]
  },
  {
   "cell_type": "raw",
   "id": "e09ff018",
   "metadata": {},
   "source": [
    "Numpy: numerical python"
   ]
  },
  {
   "cell_type": "code",
   "execution_count": 3,
   "id": "49fa6436",
   "metadata": {},
   "outputs": [],
   "source": [
    "import numpy as np\n"
   ]
  },
  {
   "cell_type": "code",
   "execution_count": 4,
   "id": "64f4bab1",
   "metadata": {},
   "outputs": [
    {
     "name": "stdout",
     "output_type": "stream",
     "text": [
      "Wall time: 0 ns\n"
     ]
    }
   ],
   "source": [
    "%time # magic function"
   ]
  },
  {
   "cell_type": "code",
   "execution_count": 9,
   "id": "878d4ca2",
   "metadata": {},
   "outputs": [
    {
     "data": {
      "text/plain": [
       "array([[1.55656389, 0.13382661, 0.16916976],\n",
       "       [0.89702205, 0.14282031, 2.00995262]])"
      ]
     },
     "execution_count": 9,
     "metadata": {},
     "output_type": "execute_result"
    }
   ],
   "source": [
    "data= np.random.randn(2,3)\n",
    "data"
   ]
  },
  {
   "cell_type": "code",
   "execution_count": 7,
   "id": "b8bea8c2",
   "metadata": {},
   "outputs": [
    {
     "data": {
      "text/plain": [
       "2"
      ]
     },
     "execution_count": 7,
     "metadata": {},
     "output_type": "execute_result"
    }
   ],
   "source": [
    "# data= np.random.randint(2,3)\n",
    "# data"
   ]
  },
  {
   "cell_type": "code",
   "execution_count": 11,
   "id": "f8b5ff2c",
   "metadata": {},
   "outputs": [
    {
     "data": {
      "text/plain": [
       "array([[15.56563889,  1.33826606,  1.69169765],\n",
       "       [ 8.97022054,  1.42820313, 20.09952622]])"
      ]
     },
     "execution_count": 11,
     "metadata": {},
     "output_type": "execute_result"
    }
   ],
   "source": [
    "data * 10 #vectorize operation #value increase in all 3 direction"
   ]
  },
  {
   "cell_type": "code",
   "execution_count": 21,
   "id": "2cca7df0",
   "metadata": {},
   "outputs": [
    {
     "data": {
      "text/plain": [
       "array([[[ 0,  1,  2,  3],\n",
       "        [ 4,  5,  6,  7],\n",
       "        [ 8,  9, 10, 11],\n",
       "        [12, 13, 14, 15],\n",
       "        [16, 17, 18, 19],\n",
       "        [20, 21, 22, 23],\n",
       "        [24, 25, 26, 27],\n",
       "        [28, 29, 30, 31]],\n",
       "\n",
       "       [[32, 33, 34, 35],\n",
       "        [36, 37, 38, 39],\n",
       "        [40, 41, 42, 43],\n",
       "        [44, 45, 46, 47],\n",
       "        [48, 49, 50, 51],\n",
       "        [52, 53, 54, 55],\n",
       "        [56, 57, 58, 59],\n",
       "        [60, 61, 62, 63]]])"
      ]
     },
     "execution_count": 21,
     "metadata": {},
     "output_type": "execute_result"
    }
   ],
   "source": [
    "arr=np.arange(64).reshape((2,8,4))\n",
    "arr"
   ]
  },
  {
   "cell_type": "code",
   "execution_count": 23,
   "id": "1b58ac81",
   "metadata": {},
   "outputs": [],
   "source": [
    "arr1=np.arange(64).reshape((2,8,4))"
   ]
  },
  {
   "cell_type": "code",
   "execution_count": 24,
   "id": "9f53d187",
   "metadata": {},
   "outputs": [
    {
     "data": {
      "text/plain": [
       "array([[[   0,    1,    4,    9],\n",
       "        [  16,   25,   36,   49],\n",
       "        [  64,   81,  100,  121],\n",
       "        [ 144,  169,  196,  225],\n",
       "        [ 256,  289,  324,  361],\n",
       "        [ 400,  441,  484,  529],\n",
       "        [ 576,  625,  676,  729],\n",
       "        [ 784,  841,  900,  961]],\n",
       "\n",
       "       [[1024, 1089, 1156, 1225],\n",
       "        [1296, 1369, 1444, 1521],\n",
       "        [1600, 1681, 1764, 1849],\n",
       "        [1936, 2025, 2116, 2209],\n",
       "        [2304, 2401, 2500, 2601],\n",
       "        [2704, 2809, 2916, 3025],\n",
       "        [3136, 3249, 3364, 3481],\n",
       "        [3600, 3721, 3844, 3969]]])"
      ]
     },
     "execution_count": 24,
     "metadata": {},
     "output_type": "execute_result"
    }
   ],
   "source": [
    "arr * arr1"
   ]
  },
  {
   "cell_type": "code",
   "execution_count": null,
   "id": "d45e3f62",
   "metadata": {},
   "outputs": [],
   "source": []
  }
 ],
 "metadata": {
  "kernelspec": {
   "display_name": "Python 3 (ipykernel)",
   "language": "python",
   "name": "python3"
  },
  "language_info": {
   "codemirror_mode": {
    "name": "ipython",
    "version": 3
   },
   "file_extension": ".py",
   "mimetype": "text/x-python",
   "name": "python",
   "nbconvert_exporter": "python",
   "pygments_lexer": "ipython3",
   "version": "3.9.7"
  }
 },
 "nbformat": 4,
 "nbformat_minor": 5
}
