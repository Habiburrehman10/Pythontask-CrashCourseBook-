{
 "cells": [
  {
   "cell_type": "markdown",
   "id": "85d63f25",
   "metadata": {},
   "source": [
    "# FILE"
   ]
  },
  {
   "cell_type": "raw",
   "id": "3ad4e4e5",
   "metadata": {},
   "source": [
    "if we create a list and append some values in it,when we restart the kernel we have to run those code of lines again to get all that work"
   ]
  },
  {
   "cell_type": "code",
   "execution_count": 5,
   "id": "31503236",
   "metadata": {},
   "outputs": [
    {
     "name": "stdout",
     "output_type": "stream",
     "text": [
      "the file you are trying to read is not available\n"
     ]
    }
   ],
   "source": [
    "try:\n",
    "    with open('testfile.txt','r') as f:\n",
    "        print(f.read())\n",
    "except FileNotFoundError:\n",
    "    print('the file you are trying to read is not available')"
   ]
  },
  {
   "cell_type": "code",
   "execution_count": 4,
   "id": "c9bd37fb",
   "metadata": {},
   "outputs": [],
   "source": [
    "try:\n",
    "    with open('testfile.txt','w') as f:\n",
    "        f.write(\"python: \\n \\t We are learning python\") #this will overwrite the existing text\n",
    "except FileNotFoundError:\n",
    "    print('the file you are trying to read is not available')"
   ]
  },
  {
   "cell_type": "code",
   "execution_count": 6,
   "id": "6c243f18",
   "metadata": {},
   "outputs": [
    {
     "name": "stdout",
     "output_type": "stream",
     "text": [
      "python: \n",
      " \t We are learning python\n"
     ]
    }
   ],
   "source": [
    "try:\n",
    "    with open('testfile.txt','r') as f:\n",
    "        print(f.read())\n",
    "except FileNotFoundError:\n",
    "    print('the file you are trying to read is not available')"
   ]
  },
  {
   "cell_type": "code",
   "execution_count": 9,
   "id": "4c616947",
   "metadata": {},
   "outputs": [],
   "source": [
    "try:\n",
    "    with open('testfile.txt','a') as f:\n",
    "        f.write('\\n It is easy to learn')\n",
    "except FileNotFoundError:\n",
    "    print('the file you are trying to read is not available')"
   ]
  },
  {
   "cell_type": "code",
   "execution_count": 11,
   "id": "ee0b6495",
   "metadata": {},
   "outputs": [
    {
     "name": "stdout",
     "output_type": "stream",
     "text": [
      "reading file......python: \n",
      " \t We are learning python\n"
     ]
    }
   ],
   "source": [
    "try:\n",
    "    with open('testfile1.txt','w+') as f:\n",
    "        f.write(\"python: \\n \\t We are learning python\") #this will overwrite the existing text(if any)\n",
    "        f.seek(0)\n",
    "        print(\"reading file......\"+f.read())\n",
    "except FileNotFoundError:\n",
    "    print('the file you are trying to read is not available')"
   ]
  },
  {
   "cell_type": "code",
   "execution_count": 12,
   "id": "6df01826",
   "metadata": {},
   "outputs": [],
   "source": [
    "f=open('testfile.txt','r') #if we use this syntax then it is necessary to close the file"
   ]
  },
  {
   "cell_type": "code",
   "execution_count": 14,
   "id": "e5372df8",
   "metadata": {},
   "outputs": [
    {
     "ename": "UnsupportedOperation",
     "evalue": "not writable",
     "output_type": "error",
     "traceback": [
      "\u001b[1;31m---------------------------------------------------------------------------\u001b[0m",
      "\u001b[1;31mUnsupportedOperation\u001b[0m                      Traceback (most recent call last)",
      "Input \u001b[1;32mIn [14]\u001b[0m, in \u001b[0;36m<cell line: 1>\u001b[1;34m()\u001b[0m\n\u001b[1;32m----> 1\u001b[0m \u001b[43mf\u001b[49m\u001b[38;5;241;43m.\u001b[39;49m\u001b[43mwrite\u001b[49m\u001b[43m(\u001b[49m\u001b[38;5;124;43m'\u001b[39;49m\u001b[38;5;124;43mhello\u001b[39;49m\u001b[38;5;124;43m'\u001b[39;49m\u001b[43m)\u001b[49m\n",
      "\u001b[1;31mUnsupportedOperation\u001b[0m: not writable"
     ]
    }
   ],
   "source": [
    "f.write('hello')"
   ]
  },
  {
   "cell_type": "code",
   "execution_count": null,
   "id": "dc6c4bd4",
   "metadata": {},
   "outputs": [],
   "source": []
  }
 ],
 "metadata": {
  "kernelspec": {
   "display_name": "Python 3 (ipykernel)",
   "language": "python",
   "name": "python3"
  },
  "language_info": {
   "codemirror_mode": {
    "name": "ipython",
    "version": 3
   },
   "file_extension": ".py",
   "mimetype": "text/x-python",
   "name": "python",
   "nbconvert_exporter": "python",
   "pygments_lexer": "ipython3",
   "version": "3.9.12"
  }
 },
 "nbformat": 4,
 "nbformat_minor": 5
}
