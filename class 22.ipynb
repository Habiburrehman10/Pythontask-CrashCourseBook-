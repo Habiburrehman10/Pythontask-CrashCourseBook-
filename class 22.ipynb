{
 "cells": [
  {
   "cell_type": "code",
   "execution_count": null,
   "id": "0864d4bb",
   "metadata": {},
   "outputs": [],
   "source": [
    "%run pyhton.py"
   ]
  },
  {
   "cell_type": "code",
   "execution_count": null,
   "id": "aa658fc8",
   "metadata": {},
   "outputs": [],
   "source": [
    "#Value \n",
    "\n",
    "Number No inverted comma \n",
    "string \"\"\n",
    "Boolean No Inverted comma"
   ]
  },
  {
   "cell_type": "markdown",
   "id": "0d9794f1",
   "metadata": {},
   "source": [
    "## python"
   ]
  },
  {
   "cell_type": "markdown",
   "id": "c5c0b274",
   "metadata": {},
   "source": [
    "##python"
   ]
  },
  {
   "cell_type": "code",
   "execution_count": null,
   "id": "b48ba709",
   "metadata": {},
   "outputs": [],
   "source": [
    "## python\n",
    "#shift +Enter krke heading bn jayegi\n"
   ]
  },
  {
   "cell_type": "code",
   "execution_count": null,
   "id": "d4e23274",
   "metadata": {},
   "outputs": [],
   "source": [
    "#print print is a python built in function/statement ()"
   ]
  },
  {
   "cell_type": "code",
   "execution_count": null,
   "id": "8f022f3d",
   "metadata": {},
   "outputs": [],
   "source": [
    "print (\"pakistan Zindabad\")\n",
    "#Funcname     Arguments\n",
    "#Comment "
   ]
  },
  {
   "cell_type": "code",
   "execution_count": null,
   "id": "cdd6d3dc",
   "metadata": {},
   "outputs": [],
   "source": [
    "print(\"Iam a string value\",11,12,True,False,sep=\" \")\n",
    "\n",
    "#print(value, ..., sep=' ', end='\\n', file=sys.stdout, flush=False)\n",
    "\n",
    "\n"
   ]
  },
  {
   "cell_type": "code",
   "execution_count": null,
   "id": "06e7d27f",
   "metadata": {},
   "outputs": [],
   "source": [
    "#In() Execution number kehlata hai (left side pe jo curly bracket hai)\n"
   ]
  },
  {
   "cell_type": "code",
   "execution_count": null,
   "id": "18345afe",
   "metadata": {},
   "outputs": [],
   "source": [
    "\\n \\t Excape character "
   ]
  },
  {
   "cell_type": "code",
   "execution_count": null,
   "id": "092a490e",
   "metadata": {},
   "outputs": [],
   "source": [
    "print(\"python for \\n \\t all\")"
   ]
  },
  {
   "cell_type": "code",
   "execution_count": null,
   "id": "91f279ba",
   "metadata": {},
   "outputs": [],
   "source": [
    "print(\"pakistan Zindabad\",end=\"\\n\")\n",
    "print(\"pakistan Zindabad\")"
   ]
  },
  {
   "cell_type": "code",
   "execution_count": null,
   "id": "90ae944e",
   "metadata": {},
   "outputs": [],
   "source": [
    "#date type in python\n"
   ]
  },
  {
   "cell_type": "markdown",
   "id": "f9e8e267",
   "metadata": {},
   "source": [
    "## Variable for string"
   ]
  },
  {
   "cell_type": "code",
   "execution_count": null,
   "id": "52661415",
   "metadata": {},
   "outputs": [],
   "source": [
    "Age =21.7\n",
    "\n",
    "\n",
    "#age is vaiable\n",
    "#21.7 is a value \n",
    "= assignment operator\n",
    "\n",
    "##What is variable = \n",
    "\n",
    "variable is the identifier which stores data in it "
   ]
  },
  {
   "cell_type": "markdown",
   "id": "7da8711c",
   "metadata": {},
   "source": [
    "## Data type in python"
   ]
  },
  {
   "cell_type": "code",
   "execution_count": null,
   "id": "4966f6ed",
   "metadata": {},
   "outputs": [],
   "source": [
    "Integer (whole number )\n",
    "Float (Decimal value )\n",
    "string\n",
    "Boolean ( T , F)"
   ]
  },
  {
   "cell_type": "code",
   "execution_count": null,
   "id": "5fb93e99",
   "metadata": {},
   "outputs": [],
   "source": [
    "Name=\"huzaifa\""
   ]
  },
  {
   "cell_type": "code",
   "execution_count": null,
   "id": "34812c06",
   "metadata": {},
   "outputs": [],
   "source": [
    "Name\n"
   ]
  },
  {
   "cell_type": "code",
   "execution_count": null,
   "id": "3b4b4faf",
   "metadata": {},
   "outputs": [],
   "source": [
    "id(Name)  ye iska addres btaraha hai"
   ]
  },
  {
   "cell_type": "code",
   "execution_count": null,
   "id": "445df83e",
   "metadata": {},
   "outputs": [],
   "source": [
    "type(Name)"
   ]
  },
  {
   "cell_type": "code",
   "execution_count": null,
   "id": "0345ff58",
   "metadata": {},
   "outputs": [],
   "source": [
    "Name=2"
   ]
  },
  {
   "cell_type": "code",
   "execution_count": null,
   "id": "5ef03b36",
   "metadata": {},
   "outputs": [],
   "source": [
    "Name"
   ]
  },
  {
   "cell_type": "code",
   "execution_count": null,
   "id": "66e9dd30",
   "metadata": {},
   "outputs": [],
   "source": [
    "type(Name)"
   ]
  },
  {
   "cell_type": "markdown",
   "id": "328ff52b",
   "metadata": {},
   "source": [
    "# Operators"
   ]
  },
  {
   "cell_type": "code",
   "execution_count": null,
   "id": "c209bcd3",
   "metadata": {},
   "outputs": [],
   "source": [
    "**#Addition(+)\n",
    "  #Subtraction(-)\n",
    "  # multiply (*)\n",
    "    #Divide (/ or //)**\n",
    "    \n"
   ]
  },
  {
   "cell_type": "code",
   "execution_count": null,
   "id": "a376a6bf",
   "metadata": {},
   "outputs": [],
   "source": [
    "Marks=4\n"
   ]
  },
  {
   "cell_type": "code",
   "execution_count": null,
   "id": "cc17f04a",
   "metadata": {},
   "outputs": [],
   "source": [
    "Age=2"
   ]
  },
  {
   "cell_type": "code",
   "execution_count": null,
   "id": "c6b6ec82",
   "metadata": {},
   "outputs": [],
   "source": [
    "Age+5"
   ]
  },
  {
   "cell_type": "code",
   "execution_count": null,
   "id": "6efb2d4f",
   "metadata": {},
   "outputs": [],
   "source": [
    "Marks +Age"
   ]
  },
  {
   "cell_type": "code",
   "execution_count": null,
   "id": "bfb67a3b",
   "metadata": {},
   "outputs": [],
   "source": [
    "Age=Age+1"
   ]
  },
  {
   "cell_type": "code",
   "execution_count": null,
   "id": "29c15ff2",
   "metadata": {},
   "outputs": [],
   "source": [
    "Marks +Age\n"
   ]
  },
  {
   "cell_type": "code",
   "execution_count": null,
   "id": "146c2307",
   "metadata": {},
   "outputs": [],
   "source": [
    "Age+=1"
   ]
  },
  {
   "cell_type": "code",
   "execution_count": null,
   "id": "4440a796",
   "metadata": {},
   "outputs": [],
   "source": [
    "print(Age)"
   ]
  },
  {
   "cell_type": "code",
   "execution_count": null,
   "id": "6a4b83fb",
   "metadata": {},
   "outputs": [],
   "source": [
    "10/3\n",
    "\n",
    "#Float me value ayegi"
   ]
  },
  {
   "cell_type": "code",
   "execution_count": null,
   "id": "be58d6ea",
   "metadata": {},
   "outputs": [],
   "source": [
    "10//3\n",
    "#// double slash use krne se decimal part remove hojayega"
   ]
  },
  {
   "cell_type": "code",
   "execution_count": null,
   "id": "11fe8b0a",
   "metadata": {},
   "outputs": [],
   "source": [
    "##Floor Division ( value km krna ) and Ceil Divison ( value barh jana )"
   ]
  },
  {
   "cell_type": "markdown",
   "id": "f130cdbb",
   "metadata": {},
   "source": [
    "# Floor and Ceil ( Sub topic)"
   ]
  },
  {
   "cell_type": "code",
   "execution_count": null,
   "id": "920d20a5",
   "metadata": {},
   "outputs": [],
   "source": [
    "import math\n"
   ]
  },
  {
   "cell_type": "code",
   "execution_count": null,
   "id": "098e67cb",
   "metadata": {},
   "outputs": [],
   "source": [
    "import math\n",
    "math.floor(23.5) #previous Number "
   ]
  },
  {
   "cell_type": "code",
   "execution_count": null,
   "id": "5ce4b477",
   "metadata": {},
   "outputs": [],
   "source": [
    "math.ceil(23.52) #next number "
   ]
  },
  {
   "cell_type": "code",
   "execution_count": null,
   "id": "ce08b62c",
   "metadata": {},
   "outputs": [],
   "source": [
    "import math as n\n",
    "\n",
    "print(n.floor(23.1))\n",
    "print(n.ceil(23.5))"
   ]
  },
  {
   "cell_type": "code",
   "execution_count": null,
   "id": "a34c88c4",
   "metadata": {},
   "outputs": [],
   "source": [
    "a=\"huzaifa\"\n",
    "print(a)\n",
    "a=\"huzaifa abha \"\n",
    "print(a)"
   ]
  },
  {
   "cell_type": "markdown",
   "id": "bbdaa02a",
   "metadata": {},
   "source": [
    "## variable names Legal and Illegel\n"
   ]
  },
  {
   "cell_type": "code",
   "execution_count": null,
   "id": "ff27b9a6",
   "metadata": {},
   "outputs": [],
   "source": [
    "Else =\" huzaifa\"\n",
    "\n",
    "Reserved word cannot used "
   ]
  },
  {
   "cell_type": "code",
   "execution_count": null,
   "id": "eec93094",
   "metadata": {},
   "outputs": [],
   "source": [
    "Special Characters . ? "
   ]
  },
  {
   "cell_type": "code",
   "execution_count": null,
   "id": "63158ec5",
   "metadata": {},
   "outputs": [],
   "source": [
    "father_Name =\"Waseem \""
   ]
  },
  {
   "cell_type": "code",
   "execution_count": null,
   "id": "2c1d4d5d",
   "metadata": {},
   "outputs": [],
   "source": [
    "Student= \"huzaifa\""
   ]
  },
  {
   "cell_type": "code",
   "execution_count": null,
   "id": "cdf925c5",
   "metadata": {},
   "outputs": [],
   "source": [
    "Studentwaseem =\" huzaifa\""
   ]
  },
  {
   "cell_type": "code",
   "execution_count": null,
   "id": "e0b1efb1",
   "metadata": {},
   "outputs": [],
   "source": [
    "print(Studentwaseem)"
   ]
  },
  {
   "cell_type": "code",
   "execution_count": null,
   "id": "c769d610",
   "metadata": {},
   "outputs": [],
   "source": [
    "import sys\n",
    "print(sys.getsizeof(Studentwaseem))"
   ]
  },
  {
   "cell_type": "markdown",
   "id": "1f2fef5c",
   "metadata": {},
   "source": [
    "## User Input "
   ]
  },
  {
   "cell_type": "code",
   "execution_count": null,
   "id": "95fa74f4",
   "metadata": {},
   "outputs": [],
   "source": [
    "age=input(\"Enter your age : \")\n",
    "Name=input(\"Enter your name : \")\n",
    "print(\"My name is :\", Name,\"\\nAnd age is :\",age)\n"
   ]
  },
  {
   "cell_type": "code",
   "execution_count": null,
   "id": "3473a41c",
   "metadata": {},
   "outputs": [],
   "source": [
    "type(age)"
   ]
  },
  {
   "cell_type": "code",
   "execution_count": null,
   "id": "400561d0",
   "metadata": {},
   "outputs": [],
   "source": [
    "b = 2"
   ]
  },
  {
   "cell_type": "code",
   "execution_count": null,
   "id": "fee529b4",
   "metadata": {},
   "outputs": [],
   "source": [
    "type(b)"
   ]
  },
  {
   "cell_type": "code",
   "execution_count": null,
   "id": "cba57cb7",
   "metadata": {},
   "outputs": [],
   "source": [
    "c =2\n",
    "type(c)"
   ]
  },
  {
   "cell_type": "markdown",
   "id": "e89df47a",
   "metadata": {},
   "source": [
    "## String Concatenation"
   ]
  },
  {
   "cell_type": "code",
   "execution_count": null,
   "id": "1fd7c0a3",
   "metadata": {},
   "outputs": [],
   "source": [
    "First_name = \" Huzaifa\"\n",
    "last_name = \"Abha\"\n"
   ]
  },
  {
   "cell_type": "code",
   "execution_count": null,
   "id": "f3abda46",
   "metadata": {},
   "outputs": [],
   "source": [
    "a= First_name + \" \" + last_name\n",
    "print(a)"
   ]
  },
  {
   "cell_type": "code",
   "execution_count": null,
   "id": "79657922",
   "metadata": {},
   "outputs": [],
   "source": [
    "+Operator \n",
    "\n",
    "Int =int +int addition \n",
    "String +String  Concatenation "
   ]
  },
  {
   "cell_type": "code",
   "execution_count": null,
   "id": "a21eff09",
   "metadata": {},
   "outputs": [],
   "source": [
    "First_name = 2\n",
    "last_name = \"Abha\"\n",
    "a= First_name + \" \" + last_name\n",
    "print(a)\n",
    ", "
   ]
  },
  {
   "cell_type": "code",
   "execution_count": null,
   "id": "2dcbb257",
   "metadata": {},
   "outputs": [],
   "source": [
    "Name = \"abha\"\n",
    "age = \" 22\"\n",
    "a= \"my name is : \" +Name +\" and age is:\" +age\n",
    "print(a)"
   ]
  },
  {
   "cell_type": "code",
   "execution_count": null,
   "id": "0250a2ff",
   "metadata": {},
   "outputs": [],
   "source": []
  },
  {
   "cell_type": "code",
   "execution_count": null,
   "id": "d6d6432d",
   "metadata": {},
   "outputs": [],
   "source": []
  },
  {
   "cell_type": "markdown",
   "id": "7aae396b",
   "metadata": {},
   "source": [
    "## type casting "
   ]
  },
  {
   "cell_type": "code",
   "execution_count": null,
   "id": "ad355c58",
   "metadata": {},
   "outputs": [],
   "source": [
    "age=int(input(\"Enter your age : \"))\n",
    "Name=input(\"Enter your name : \")\n",
    "print(\"My name is :\"+ Name +\" And age is :\"+str(age))\n"
   ]
  },
  {
   "cell_type": "code",
   "execution_count": null,
   "id": "f0f8a259",
   "metadata": {},
   "outputs": [],
   "source": [
    "int(\"515\")\n"
   ]
  },
  {
   "cell_type": "markdown",
   "id": "08e6a6d9",
   "metadata": {},
   "source": [
    "## String Formation"
   ]
  },
  {
   "cell_type": "code",
   "execution_count": null,
   "id": "c0d823cd",
   "metadata": {},
   "outputs": [],
   "source": [
    "Company = input(\"Enter the company name\")\n",
    "number_of_units= int(input(\"how many unit sold out :\" ))\n",
    "price_per_unit =int(input(\"Enter the price per unit : \"))\n",
    "print(\"you have ordered {} units from the company {} and the per unit price {}\".format(number_of_units,Company,price_per_unit))\n"
   ]
  },
  {
   "cell_type": "code",
   "execution_count": null,
   "id": "ff477c9c",
   "metadata": {},
   "outputs": [],
   "source": [
    "Company = input(\"Enter the company name\")\n",
    "number_of_units= int(input(\"how many unit sold out :\" ))\n",
    "price_per_unit =int(input(\"Enter the price per unit : \"))\n",
    "print(\"you have ordered \" + str(number_of_units)+\" from the company \" + Company +  \"and the per unit price \" + str(price_per_unit ))"
   ]
  },
  {
   "cell_type": "markdown",
   "id": "3389959c",
   "metadata": {},
   "source": [
    "## String formation ( Direct method)\n",
    "\n",
    "\n",
    "Name = \"huzaifa\"\n",
    "father_name = \"waseem \"\n",
    "\n",
    "print(f\"My name is {Name} and my father name is {father_name}\")"
   ]
  },
  {
   "cell_type": "code",
   "execution_count": null,
   "id": "d796e826",
   "metadata": {},
   "outputs": [],
   "source": [
    "## String formation ( Indexing  method using format)\n",
    "\n",
    "print(\"i am {} I am {} yrs old and I admitted in {}\".format( \"huzaifa\", \"29 \", \"saylani\"))"
   ]
  },
  {
   "cell_type": "code",
   "execution_count": null,
   "id": "7260bbd2",
   "metadata": {},
   "outputs": [],
   "source": [
    "Name =\" huzaifa\"\n",
    "age = \"29\"\n",
    "institute = \"saylani\"\n",
    "\n",
    "f\"i am {Name} I am {age} yrs old and I admitted in {institute}\" # f use krnay se indexing ab direct usko consider nai krega "
   ]
  },
  {
   "cell_type": "markdown",
   "id": "967b683c",
   "metadata": {},
   "source": [
    "## String can be used as \" \" ,' ',''' '''\n",
    "\n"
   ]
  },
  {
   "cell_type": "code",
   "execution_count": null,
   "id": "9d34c432",
   "metadata": {},
   "outputs": [],
   "source": [
    "print('I am all students of \"Saylani Institute \"') #Single quote use kiya hai double quote ko use krnay ke liye "
   ]
  },
  {
   "cell_type": "code",
   "execution_count": null,
   "id": "c39ad99f",
   "metadata": {},
   "outputs": [],
   "source": [
    "print(\"I am all students of \\\"Saylani Institute \\\"\") # Slash use kiya hai double quote me rakhnay ke liye "
   ]
  },
  {
   "cell_type": "markdown",
   "id": "3579cc20",
   "metadata": {},
   "source": [
    " ## New topic (Multiline string formation )"
   ]
  },
  {
   "cell_type": "code",
   "execution_count": null,
   "id": "d1504f72",
   "metadata": {},
   "outputs": [],
   "source": [
    "print(\"         Saylani Mass IT training \\n\\n Name : Huzaifa \\n Course : AI and DS \\n \")"
   ]
  },
  {
   "cell_type": "code",
   "execution_count": null,
   "id": "3dfb37e4",
   "metadata": {},
   "outputs": [],
   "source": [
    "Student_name = input(\" Enter student name: \")\n",
    "father_name =input(\" Enter father name: \")\n",
    "coursetime = input(\" Enter course time\")\n",
    "\n",
    "print(f\"\"\" \\n     Saylani Mass Program\n",
    "\n",
    "Name :{Student_name}\n",
    "father name : {father_name}\n",
    "Time : {coursetime}\n",
    "\n",
    "\"\"\")"
   ]
  },
  {
   "cell_type": "code",
   "execution_count": null,
   "id": "56f5449c",
   "metadata": {},
   "outputs": [],
   "source": [
    "a=\"i am Huzaifa waseem and I live in north karachi\"\n",
    "\n",
    "a.find(\"huzaifa\") # 1 ) -1 ka mtlb hai ke letter nai mila  2) -1 last letter ko find krnay ke liye use houta hai\n"
   ]
  },
  {
   "cell_type": "code",
   "execution_count": null,
   "id": "d949b95b",
   "metadata": {},
   "outputs": [],
   "source": [
    "a.count(a)"
   ]
  },
  {
   "cell_type": "code",
   "execution_count": null,
   "id": "a77df789",
   "metadata": {},
   "outputs": [],
   "source": [
    "a.capitalize()"
   ]
  },
  {
   "cell_type": "code",
   "execution_count": null,
   "id": "d5d71b79",
   "metadata": {},
   "outputs": [],
   "source": [
    "a.upper()"
   ]
  },
  {
   "cell_type": "code",
   "execution_count": null,
   "id": "68b54c28",
   "metadata": {},
   "outputs": [],
   "source": [
    "a.lower()\n"
   ]
  },
  {
   "cell_type": "code",
   "execution_count": null,
   "id": "25032c12",
   "metadata": {},
   "outputs": [],
   "source": [
    "a.find(\"i\",32)"
   ]
  },
  {
   "cell_type": "code",
   "execution_count": null,
   "id": "e5c0ac26",
   "metadata": {},
   "outputs": [],
   "source": [
    "a.find(\"and\")"
   ]
  },
  {
   "cell_type": "code",
   "execution_count": null,
   "id": "6cf36482",
   "metadata": {},
   "outputs": [],
   "source": [
    "a.casefold()"
   ]
  },
  {
   "cell_type": "code",
   "execution_count": null,
   "id": "3e3660c9",
   "metadata": {},
   "outputs": [],
   "source": [
    "a.index(\"Huzaifa\")"
   ]
  },
  {
   "cell_type": "code",
   "execution_count": null,
   "id": "be215802",
   "metadata": {},
   "outputs": [],
   "source": [
    "# isalpha  # check whether it is alphabet aur not and result is trueand false"
   ]
  },
  {
   "cell_type": "code",
   "execution_count": null,
   "id": "26ce8e22",
   "metadata": {},
   "outputs": [],
   "source": [
    "Country = \" Pakistan \""
   ]
  },
  {
   "cell_type": "code",
   "execution_count": null,
   "id": "0ccec2ff",
   "metadata": {},
   "outputs": [],
   "source": [
    "Country.lstrip()  # srf left wali ke space khtam krega\n",
    "# Country.rstrip() # right walay ke space khtam\n",
    "# Country.strip()  #both space khtam krega "
   ]
  },
  {
   "cell_type": "code",
   "execution_count": null,
   "id": "063883ea",
   "metadata": {},
   "outputs": [],
   "source": [
    "# string is iterable but it is immutable  # iterable ka mtlb has alg alg character ko istemal krsktay hain # immutable means cannot change orignal value\n",
    "\n"
   ]
  },
  {
   "cell_type": "code",
   "execution_count": null,
   "id": "0ccd6041",
   "metadata": {},
   "outputs": [],
   "source": [
    "Join"
   ]
  },
  {
   "cell_type": "code",
   "execution_count": null,
   "id": "be9e80d9",
   "metadata": {},
   "outputs": [],
   "source": [
    "abc = \" huzaifa \"\n",
    "\n",
    "print(\"Hello {} , Welcome to the  Python crash program \". format(abc))\n"
   ]
  },
  {
   "cell_type": "markdown",
   "id": "a1626e23",
   "metadata": {},
   "source": [
    "### Exercise 1"
   ]
  },
  {
   "cell_type": "code",
   "execution_count": null,
   "id": "a8478ad6",
   "metadata": {},
   "outputs": [],
   "source": [
    "\n",
    "\n",
    "abc = \" huzaifa \"\n",
    "\n",
    "print(f\"Hello {abc} , Welcome to the  Python crash program \")\n",
    "\n",
    "print(abc.lower())\n",
    "print(abc.upper())\n",
    "print(abc.capitalize())\n",
    "print(abc.lstrip())\n",
    "print(abc.rstrip())\n",
    "print(abc.strip())\n"
   ]
  },
  {
   "cell_type": "code",
   "execution_count": null,
   "id": "3aad964a",
   "metadata": {},
   "outputs": [],
   "source": [
    "print('Albert Einstein once said ,\"A person who never made a \\nmistake never  tried anything new\"' )"
   ]
  },
  {
   "cell_type": "markdown",
   "id": "ef6cac2b",
   "metadata": {},
   "source": [
    "## More on operators\n"
   ]
  },
  {
   "cell_type": "markdown",
   "id": "69eb591b",
   "metadata": {},
   "source": [
    "= assignment \n",
    "== equals to \n",
    "!= not equals to\n",
    "** not equal to \n",
    "% modulus\n",
    "> gretaer than\n",
    "< less than \n",
    ">= greter than equal to \n",
    "<= less than equal to \n",
    "and  (logical and )\n",
    "or ( logical or)"
   ]
  },
  {
   "cell_type": "code",
   "execution_count": null,
   "id": "66a949de",
   "metadata": {},
   "outputs": [],
   "source": [
    "a=2\n",
    "b=4 \n",
    "a==b\n",
    "a!=b"
   ]
  },
  {
   "cell_type": "code",
   "execution_count": null,
   "id": "7ba6baae",
   "metadata": {},
   "outputs": [],
   "source": [
    "10%3"
   ]
  },
  {
   "cell_type": "code",
   "execution_count": null,
   "id": "2604c401",
   "metadata": {},
   "outputs": [],
   "source": [
    "9%3"
   ]
  },
  {
   "cell_type": "markdown",
   "id": "9806a5b5",
   "metadata": {},
   "source": [
    "## Logcal and logical or \n",
    "\n",
    "\n",
    "R1        R2          or         and\n",
    "T          T         T           T \n",
    "T          F         T            F\n",
    "F          T         T            F\n",
    "F          F         F            F\n"
   ]
  },
  {
   "cell_type": "code",
   "execution_count": null,
   "id": "7b5b22d3",
   "metadata": {},
   "outputs": [],
   "source": [
    "10>5 or 5<2 "
   ]
  },
  {
   "cell_type": "code",
   "execution_count": null,
   "id": "3c249d6b",
   "metadata": {},
   "outputs": [],
   "source": [
    "10>5 and  5<2"
   ]
  },
  {
   "cell_type": "markdown",
   "id": "a9e8e26d",
   "metadata": {},
   "source": [
    "## If statement "
   ]
  },
  {
   "cell_type": "code",
   "execution_count": null,
   "id": "39cf516d",
   "metadata": {},
   "outputs": [],
   "source": [
    "num1=int(input(\"Enter a number of your choice \"))\n",
    "num2=int(input(\"Enter another number\"))\n",
    "if num1==num2:\n",
    "    print(f\"Number {num1} is equal to number {num2}\")\n",
    "    \n",
    "else:   \n",
    "    print(\" {} is not equal to {} \")\n"
   ]
  },
  {
   "cell_type": "code",
   "execution_count": null,
   "id": "9ad875f2",
   "metadata": {},
   "outputs": [],
   "source": [
    "num1=int(input(\"Enter a number of your choice \"))\n",
    "num2=int(input(\"Enter another number\"))\n",
    "if num1==num2:\n",
    "    print(f\"Number {num1} is equal to number {num2}\")\n",
    "    \n",
    "elif num1>num2:\n",
    "         print(f\"{num1} is greater than  {num2} \")\n",
    "elif num1<num2:\n",
    "        print (f\"{num1} is less  than  {num2} \")\n",
    "else:\n",
    "    \n",
    "    print(\" Number doesnot exist\")\n",
    "    "
   ]
  },
  {
   "cell_type": "code",
   "execution_count": null,
   "id": "d53f7e1b",
   "metadata": {},
   "outputs": [],
   "source": [
    "num=int(input(\"Enter Number : \"))\n",
    "\n",
    "if num % 5 ==0:\n",
    "    print(\"it is divisble by 5\")\n",
    "\n",
    "elif num % 7 == 0:\n",
    "    print(\"it is divisble by 7\")\n",
    "else:\n",
    "    print(f\"{num} is not divisible by 5 or 7\")\n",
    "\n"
   ]
  },
  {
   "cell_type": "code",
   "execution_count": null,
   "id": "312a29b6",
   "metadata": {},
   "outputs": [],
   "source": [
    "print('''\n",
    "Twinkle, twinkle, little star,\n",
    "\tHow I wonder what you are! \n",
    "\t\tUp above the world so high,   \t\t\n",
    "\t\tLike a diamond in the sky. \n",
    "Twinkle, twinkle, little star, \n",
    "\tHow I wonder what you are\n",
    "''')"
   ]
  },
  {
   "cell_type": "code",
   "execution_count": null,
   "id": "3f8ea568",
   "metadata": {},
   "outputs": [],
   "source": [
    "num=int(input(\"Enter Number : \"))\n",
    "\n",
    "if (num%5==0) or (num%7==0):\n",
    "    print(f\"{num} is divisible by 5 or 7\")\n",
    "    \n",
    "else:\n",
    "    print(f\"{num} is not divisible by 5 or 7\")"
   ]
  },
  {
   "cell_type": "markdown",
   "id": "bd319201",
   "metadata": {},
   "source": [
    "## Class 5 23-May"
   ]
  },
  {
   "cell_type": "code",
   "execution_count": null,
   "id": "68d5c1fc",
   "metadata": {},
   "outputs": [],
   "source": [
    "\n",
    "Student_name = input(\"Enter Student name :\")\n",
    "Num1 = float(input(\" Enter Physics mark :\"))\n",
    "Num2 = (float(input(\" Enter Maths mark :\")))\n",
    "Num3 = (float(input(\" Enter Chem mark :\")))\n",
    "Num4 = (float(input(\" Enter Comp mark :\")))\n",
    "Num5 = (float(input(\" Enter Urdu mark :\")))\n",
    "\n",
    "Obtained_marks=round( Num1+Num2+Num3+Num4+Num5)\n",
    "\n",
    "percentage = (Obtained_marks/500)*100\n",
    "print(percentage)\n",
    "percentage=round(percentage)\n",
    "grade= None  ### yahan pe grade a variable assign kiya hai\n",
    "\n",
    "if percentage >=80 and percentage < 100:\n",
    "     grade =\"A+\"\n",
    "\n",
    "elif percentage >=70 and percentage < 80:\n",
    "    grade =\"A\"\n",
    "    \n",
    "elif percentage >=60 and percentage < 70:\n",
    "    grade =\"B\"\n",
    "    \n",
    "elif percentage >=50 and percentage < 60:\n",
    "    grade =\"C\"\n",
    "else:\n",
    "    grade =\"F\"\n",
    "    \n",
    "print(f\"\"\"  \n",
    "                      *************************************************************************\n",
    "                      *                      SMIT Training Institute                           *\n",
    "                      *                                                                        *\n",
    "                      **************************************************************************\n",
    "\n",
    "                                      Student name : {Student_name}\n",
    "                                      \n",
    "                                      Physics Marks : {Num1} \n",
    "                                      \n",
    "                                      Mathematics  Marks : {Num2}\n",
    "                                      \n",
    "                                      Chemistry Marks : {Num3}\n",
    "                                      \n",
    "                                      Computer Marks : {Num4}\n",
    "                                      \n",
    "                                      urdu Marks : {Num5}\n",
    "-------------------------------------\n",
    "Obtained marks :{Obtained_marks}     -\n",
    "\n",
    "Percentage : {percentage} %            -\n",
    "\n",
    "Grade : {grade}                      -\n",
    "                                     -\n",
    "--------------------------------------                                     \n",
    "\"\"\")\n",
    " "
   ]
  },
  {
   "cell_type": "markdown",
   "id": "868a03eb",
   "metadata": {},
   "source": [
    "## Nested IF's\n",
    "\n"
   ]
  },
  {
   "cell_type": "code",
   "execution_count": null,
   "id": "d2f55f56",
   "metadata": {},
   "outputs": [],
   "source": [
    "user_name =\"huzaifa abha\"\n",
    "pass_word =\"123\"\n",
    "\n",
    "username= input(\"Enter your username :\")\n",
    "\n",
    "\n",
    "if username == user_name :\n",
    "    password= input(\"Enter your Password :\")\n",
    "    \n",
    "    if password == pass_word:\n",
    "        print(\"Login Approved\")\n",
    "    else:\n",
    "        print(\"Wrong password\")\n",
    "else:\n",
    "    print(\" username doesnot exist\")"
   ]
  },
  {
   "cell_type": "code",
   "execution_count": null,
   "id": "95e0a56d",
   "metadata": {},
   "outputs": [],
   "source": [
    "user_name =\"huzaifa abha\"\n",
    "pass_word =\"123\"\n",
    "\n",
    "username= input(\"Enter your username :\")\n",
    "\n",
    "\n",
    "if username == user_name :\n",
    "    password= input(\"Enter your Password :\")\n",
    "    \n",
    "    if password == pass_word:\n",
    "        \n",
    "        print(\"Login Approved\")\n",
    "        \n",
    "        Student_name = input(\"Enter Student name :\")\n",
    "        Num1 = float(input(\" Enter Physics mark :\"))\n",
    "        Num2 = (float(input(\" Enter Maths mark :\")))\n",
    "        Num3 = (float(input(\" Enter Chem mark :\")))\n",
    "        Num4 = (float(input(\" Enter Comp mark :\")))\n",
    "        Num5 = (float(input(\" Enter Urdu mark :\")))\n",
    "\n",
    "        Obtained_marks=round( Num1+Num2+Num3+Num4+Num5)\n",
    "\n",
    "        percentage = (Obtained_marks/500)*100\n",
    "        print(percentage)\n",
    "        percentage=round(percentage)\n",
    "        grade= None  ### yahan pe grade a variable assign kiya hai\n",
    "\n",
    "        if percentage >=80 and percentage < 100:\n",
    "                grade =\"A+\"\n",
    "\n",
    "        elif percentage >=70 and percentage < 80:\n",
    "                grade =\"A\"\n",
    "    \n",
    "        elif percentage >=60 and percentage < 70:\n",
    "               grade =\"B\"\n",
    "     \n",
    "        elif percentage >=50 and percentage < 60:\n",
    "                grade =\"C\"\n",
    "        else:\n",
    "                grade =\"F\"\n",
    "    \n",
    "        print(f\"\"\"  \n",
    "                      *************************************************************************\n",
    "                      *                      SMIT Training Institute                           *\n",
    "                      *                                                                        *\n",
    "                      **************************************************************************\n",
    "\n",
    "                                      Student name : {Student_name}\n",
    "                                      \n",
    "                                      Physics Marks : {Num1} \n",
    "                                      \n",
    "                                      Mathematics  Marks : {Num2}\n",
    "                                      \n",
    "                                      Chemistry Marks : {Num3}\n",
    "                                      \n",
    "                                      Computer Marks : {Num4}\n",
    "                                      \n",
    "                                      urdu Marks : {Num5}\n",
    "                                      -------------------------------------\n",
    "                                 Obtained marks :{Obtained_marks}     -\n",
    "\n",
    "                                 Percentage : {percentage} %            -\n",
    "\n",
    "                                 Grade : {grade}                      -\n",
    "                                     -\n",
    "                                  --------------------------------------                                     \n",
    "              \"\"\")\n",
    "       \n",
    "    else:\n",
    "        print(\"Wrong password\")\n",
    "else:\n",
    "    print(\"Wrong user name \")\n",
    "    "
   ]
  },
  {
   "cell_type": "code",
   "execution_count": null,
   "id": "2a3fbfd9",
   "metadata": {},
   "outputs": [],
   "source": [
    "\n",
    "\n",
    "# ## Assignment \n",
    "# 1) A company decided to give bonus of 5% to employee if his/her year of service is more than 5 years.\n",
    "Ask user for their salary and year of service and print the net bonus amount.\n",
    "# In[9]:\n",
    "\n",
    "\n",
    "Salary = int(input(\"Enter your salary : \"))\n",
    "Service_year = int(input(\"Enter your Service year : \"))\n",
    "New_salary = None \n",
    "if Service_year > 5:\n",
    "    New_salary= Salary + Salary * 0.05\n",
    "    print(f\"your new salary is {New_salary}\")\n",
    "else:\n",
    "    print(f\"you salary is {Salary} and you are not eligible for bonus\")\n",
    "    \n",
    "\n",
    "\n",
    "# In[ ]:\n",
    "\n",
    "\n",
    "#2 Write a program to check whether a person is eligible for voting or not. (accept age from user\n",
    "\n",
    "\n",
    "# In[10]:\n",
    "\n",
    "\n",
    "Age= int(input(\"Enter your age : \"))\n",
    "\n",
    "if Age >=18 :\n",
    "    print(\" You are Eligible for voting \")\n",
    "else:\n",
    "    print(\" Your are not Eligible for vote \")\n",
    "\n",
    "#Q8. Write a program to calculate the electricity bill (accept number of unit from user) according to the following criteria :\n",
    "             Unit                                                     Price  \n",
    "First 100 units                                               no charge\n",
    "Next 100 units                                              Rs 5 per unit\n",
    "After 200 units                                             Rs 10 per unit\n",
    "(For example if input unit is 350 than total bill amount is Rs2000)\n",
    "\n",
    "# In[16]:\n",
    "\n",
    "\n",
    "units=int(input(\"Enter your bills unit \"))\n",
    "a=0\n",
    "b=0\n",
    "c=0\n",
    "if units >0 and units < 100 :\n",
    "    a=units*10\n",
    "    total=a\n",
    "elif units > 100 and units <200:\n",
    "    \n",
    "    b = (units-100)*20\n",
    "    a=100*10\n",
    "    total = a+b\n",
    "\n",
    "elif units>200:\n",
    "    c = (units -200)\n",
    "    c1=c*30\n",
    "\n",
    "    d=(units-c)\n",
    "    e=(d-100)*20\n",
    "    e1 =(d-100)*10\n",
    "    #b = 100*20\n",
    "    #a=100*10\n",
    "    total = c1+e+e1\n",
    "    \n",
    "else:\n",
    "    print(\"\")\n",
    "    \n",
    "print(total)\n",
    "    \n",
    "    \n",
    "\n",
    "\n",
    "# In[ ]:\n",
    "\n",
    "\n",
    "9 ) Write a program to display the last digit of a number.\n",
    "(hint : any number % 10 will return the last digit)\n",
    "\n",
    "\n",
    "# In[27]:\n",
    "\n",
    "\n",
    "#a=int(input(\"Enter number :\"))\n",
    "#b=repr(a)\n",
    "#c=b[-1]\n",
    "#d=int(c)\n",
    "#print(d)\n",
    "\n",
    "a=int(input(\"Enter number :\"))\n",
    "\n",
    "last_digit= a%10\n",
    "\n",
    "if last_digit %3==0:\n",
    "    print(f\"{last_digit} is last digit and  It is divisible by 3\")\n",
    "\n",
    "\n",
    "# In[1]:\n",
    "\n",
    "\n",
    "#12) Take two int values from user and print greatest among them.\n",
    "\n",
    "num1=int(input(\"Enter number 1 :\"))\n",
    "num2=int(input(\"Enter number 2 :\"))\n",
    "if num1>num2 :\n",
    "    print(\" num1 is greater than num2\")\n",
    "else:\n",
    "    print(\"num2 is greater \")\n",
    "\n",
    "14) A shop will give discount of 10% if the cost of purchased quantity is more than 1000.\n",
    "Ask user for quantity\n",
    "Suppose, one unit will cost 100.\n",
    "Judge and print total cost for user.\n",
    "# In[5]:\n",
    "\n",
    "\n",
    "quantity = int(input(\"Enter number of quantity :\"))\n",
    "per_unit_cost = 100\n",
    "total_cost =quantity*per_unit_cost\n",
    "new_cost =0\n",
    "if total_cost>1000:\n",
    "    new_cost = total_cost - (total_cost*0.10)\n",
    "    print(f\"your new cost is {new_cost}\")\n",
    "else:\n",
    "    print(f\"your cost  is {total_cost} \")\n",
    "\n",
    "\n",
    "# In[ ]:\n",
    "\n",
    "\n",
    "#16) Take input of age of 3 people by user and determine oldest and youngest among them.\n",
    "\n",
    "Age1 = int(input(\"Enter Age1 :\"))\n",
    "Age2 = int(input(\"Enter Age2 :\"))\n",
    "Age3 = int(input(\"Enter Age3 :\"))\n",
    "\n",
    "if Age1>Age2 and Age1>Age2:\n",
    "    print(person1 age is greater than people 2 and people 3)\n",
    "\n"
   ]
  },
  {
   "cell_type": "markdown",
   "id": "11fc899b",
   "metadata": {},
   "source": [
    "## Class 8 "
   ]
  },
  {
   "cell_type": "markdown",
   "id": "6eae07dd",
   "metadata": {},
   "source": [
    "## Python data Structure \n"
   ]
  },
  {
   "cell_type": "code",
   "execution_count": null,
   "id": "d378d068",
   "metadata": {},
   "outputs": [],
   "source": [
    "# List \n",
    "\n",
    "Courses = []\n"
   ]
  },
  {
   "cell_type": "code",
   "execution_count": null,
   "id": "a991db2c",
   "metadata": {},
   "outputs": [],
   "source": [
    "Students=[\"huzaifa\" ,\"Waseem\" ,\"ahmed \"]\n",
    "#index       0          1         2\n",
    "#index       -3         -2        -1\n",
    "\n",
    "# - Index isliye use houta hai ke last digit ko call krwana ho yaa , last ke 10 ko call krwana ho"
   ]
  },
  {
   "cell_type": "code",
   "execution_count": null,
   "id": "03c3621a",
   "metadata": {},
   "outputs": [],
   "source": [
    "Students[0] , Students[-2]"
   ]
  },
  {
   "cell_type": "code",
   "execution_count": null,
   "id": "4cb85f3e",
   "metadata": {},
   "outputs": [],
   "source": [
    "Students[0]=\"abha\"\n"
   ]
  },
  {
   "cell_type": "code",
   "execution_count": null,
   "id": "d75b9869",
   "metadata": {},
   "outputs": [],
   "source": [
    "Students[0]\n"
   ]
  },
  {
   "cell_type": "code",
   "execution_count": null,
   "id": "e03ffadd",
   "metadata": {},
   "outputs": [],
   "source": [
    "Students"
   ]
  },
  {
   "cell_type": "code",
   "execution_count": null,
   "id": "f8f4f2d7",
   "metadata": {},
   "outputs": [],
   "source": [
    "#### Crud ( Create , Retrieve , update , Delete ) "
   ]
  },
  {
   "cell_type": "code",
   "execution_count": null,
   "id": "5958a103",
   "metadata": {},
   "outputs": [],
   "source": [
    "SMIT = [\"AI\" , \"DS\" , \"Web\"]"
   ]
  },
  {
   "cell_type": "code",
   "execution_count": null,
   "id": "5cf237ed",
   "metadata": {},
   "outputs": [],
   "source": [
    "SMIT \n"
   ]
  },
  {
   "cell_type": "code",
   "execution_count": null,
   "id": "fd24d593",
   "metadata": {},
   "outputs": [],
   "source": [
    "del SMIT[2]"
   ]
  },
  {
   "cell_type": "code",
   "execution_count": null,
   "id": "905529ba",
   "metadata": {},
   "outputs": [],
   "source": [
    "SMIT\n"
   ]
  },
  {
   "cell_type": "code",
   "execution_count": null,
   "id": "07559553",
   "metadata": {},
   "outputs": [],
   "source": [
    "misclist =[SMIT,Students, False ]"
   ]
  },
  {
   "cell_type": "code",
   "execution_count": null,
   "id": "fedd39d4",
   "metadata": {},
   "outputs": [],
   "source": [
    "misclist\n",
    "\n"
   ]
  },
  {
   "cell_type": "raw",
   "id": "32a6ed9c",
   "metadata": {},
   "source": [
    "Courses.append #append is used for adding new object"
   ]
  },
  {
   "cell_type": "code",
   "execution_count": null,
   "id": "84d9d47a",
   "metadata": {},
   "outputs": [],
   "source": [
    "misclist.append(\"hello\")"
   ]
  },
  {
   "cell_type": "code",
   "execution_count": null,
   "id": "2837a97b",
   "metadata": {},
   "outputs": [],
   "source": [
    "misclist\n"
   ]
  },
  {
   "cell_type": "code",
   "execution_count": null,
   "id": "f4364bd1",
   "metadata": {},
   "outputs": [],
   "source": [
    "misclist.insert(2, \" huz\")"
   ]
  },
  {
   "cell_type": "code",
   "execution_count": null,
   "id": "714422a5",
   "metadata": {},
   "outputs": [],
   "source": [
    "misclist"
   ]
  },
  {
   "cell_type": "code",
   "execution_count": null,
   "id": "d65e79ba",
   "metadata": {},
   "outputs": [],
   "source": [
    "abha = misclist.pop(-2)   # variable me store kiy hai "
   ]
  },
  {
   "cell_type": "code",
   "execution_count": null,
   "id": "14f5123c",
   "metadata": {},
   "outputs": [],
   "source": [
    "misclist"
   ]
  },
  {
   "cell_type": "code",
   "execution_count": null,
   "id": "72f23fa1",
   "metadata": {},
   "outputs": [],
   "source": [
    "abha"
   ]
  },
  {
   "cell_type": "code",
   "execution_count": null,
   "id": "394df799",
   "metadata": {},
   "outputs": [],
   "source": [
    "misclist.remove(\"hello\")\n"
   ]
  },
  {
   "cell_type": "code",
   "execution_count": null,
   "id": "ea0f157f",
   "metadata": {},
   "outputs": [],
   "source": [
    "misclist\n"
   ]
  },
  {
   "cell_type": "code",
   "execution_count": null,
   "id": "17447df4",
   "metadata": {},
   "outputs": [],
   "source": [
    "misclist.remove(Students)"
   ]
  },
  {
   "cell_type": "code",
   "execution_count": null,
   "id": "33731e0d",
   "metadata": {},
   "outputs": [],
   "source": [
    "misclist"
   ]
  },
  {
   "cell_type": "code",
   "execution_count": null,
   "id": "3699ffb5",
   "metadata": {},
   "outputs": [],
   "source": [
    "Students"
   ]
  },
  {
   "cell_type": "code",
   "execution_count": null,
   "id": "28a72cbf",
   "metadata": {},
   "outputs": [],
   "source": [
    "Students"
   ]
  },
  {
   "cell_type": "raw",
   "id": "306abfe6",
   "metadata": {},
   "source": [
    "#Important for exam \n",
    "\n",
    "#pass by reference  ( Isme ref/address trnasfer houta hai)  val 1= value2  \n",
    "\n",
    "#pass by value ( Isme value ke through save krwayengay)"
   ]
  },
  {
   "cell_type": "code",
   "execution_count": null,
   "id": "48f830b2",
   "metadata": {},
   "outputs": [],
   "source": [
    "new_misclist= misclist.copy()  ## pass by value ke through copy kiya hai jiski waja se miscslist me koi chiz update hogi tou wo micslist me update nai hogi"
   ]
  },
  {
   "cell_type": "code",
   "execution_count": null,
   "id": "bb565446",
   "metadata": {},
   "outputs": [],
   "source": [
    "new_misclist"
   ]
  },
  {
   "cell_type": "code",
   "execution_count": null,
   "id": "dae00248",
   "metadata": {},
   "outputs": [],
   "source": [
    "misclist.append(\"abha\")"
   ]
  },
  {
   "cell_type": "code",
   "execution_count": null,
   "id": "fda4a7bb",
   "metadata": {},
   "outputs": [],
   "source": [
    "new_misclist"
   ]
  },
  {
   "cell_type": "code",
   "execution_count": null,
   "id": "b72a1a04",
   "metadata": {},
   "outputs": [],
   "source": [
    "misclist.count(\"DS\")"
   ]
  },
  {
   "cell_type": "code",
   "execution_count": null,
   "id": "8c7e691b",
   "metadata": {},
   "outputs": [],
   "source": [
    "cars =[\"honda\", \"toyota\" , \"Changan\"]\n"
   ]
  },
  {
   "cell_type": "code",
   "execution_count": null,
   "id": "432067d0",
   "metadata": {},
   "outputs": [],
   "source": [
    "cars\n"
   ]
  },
  {
   "cell_type": "code",
   "execution_count": null,
   "id": "4f4a1503",
   "metadata": {},
   "outputs": [],
   "source": [
    "my_cars = cars.copy()"
   ]
  },
  {
   "cell_type": "code",
   "execution_count": null,
   "id": "55f4f489",
   "metadata": {},
   "outputs": [],
   "source": [
    "my_cars.append(\"zz\")"
   ]
  },
  {
   "cell_type": "code",
   "execution_count": null,
   "id": "cd9d6148",
   "metadata": {},
   "outputs": [],
   "source": [
    "my_cars.append(\" lexus\")"
   ]
  },
  {
   "cell_type": "code",
   "execution_count": null,
   "id": "9a241cce",
   "metadata": {},
   "outputs": [],
   "source": [
    "cars"
   ]
  },
  {
   "cell_type": "code",
   "execution_count": null,
   "id": "c510bbd1",
   "metadata": {},
   "outputs": [],
   "source": [
    "my_cars.append(cars)"
   ]
  },
  {
   "cell_type": "code",
   "execution_count": null,
   "id": "3820fe59",
   "metadata": {},
   "outputs": [],
   "source": [
    "my_cars"
   ]
  },
  {
   "cell_type": "code",
   "execution_count": null,
   "id": "c509ec81",
   "metadata": {},
   "outputs": [],
   "source": [
    "my_cars.extend(cars)"
   ]
  },
  {
   "cell_type": "code",
   "execution_count": null,
   "id": "a057085b",
   "metadata": {},
   "outputs": [],
   "source": [
    "my_cars"
   ]
  },
  {
   "cell_type": "code",
   "execution_count": null,
   "id": "3d11e1c1",
   "metadata": {},
   "outputs": [],
   "source": [
    "my_cars.pop(5) # pop value deta hai delte krnay ke baad"
   ]
  },
  {
   "cell_type": "code",
   "execution_count": null,
   "id": "077fcfa0",
   "metadata": {},
   "outputs": [],
   "source": [
    "my_cars"
   ]
  },
  {
   "cell_type": "code",
   "execution_count": null,
   "id": "2fbdd6f6",
   "metadata": {},
   "outputs": [],
   "source": [
    "my_cars.sort()"
   ]
  },
  {
   "cell_type": "code",
   "execution_count": null,
   "id": "2be91a2b",
   "metadata": {},
   "outputs": [],
   "source": [
    "my_cars"
   ]
  },
  {
   "cell_type": "markdown",
   "id": "91b5bde6",
   "metadata": {},
   "source": [
    "# Indexing and Slicing"
   ]
  },
  {
   "cell_type": "code",
   "execution_count": null,
   "id": "bdc7f490",
   "metadata": {},
   "outputs": [],
   "source": [
    "marks =[90,20,25,204,25,]"
   ]
  },
  {
   "cell_type": "code",
   "execution_count": null,
   "id": "a0359892",
   "metadata": {},
   "outputs": [],
   "source": [
    "marks[3] #indexing "
   ]
  },
  {
   "cell_type": "code",
   "execution_count": null,
   "id": "59ceb634",
   "metadata": {},
   "outputs": [],
   "source": [
    "marks[1:4]  # less than one tak assign hoga"
   ]
  },
  {
   "cell_type": "code",
   "execution_count": null,
   "id": "8b50f3a2",
   "metadata": {},
   "outputs": [],
   "source": [
    "marks[2:] # no need to assign second number , it will call number "
   ]
  },
  {
   "cell_type": "code",
   "execution_count": null,
   "id": "de7790aa",
   "metadata": {},
   "outputs": [],
   "source": [
    "marks[:2] #no need to assign first number "
   ]
  },
  {
   "cell_type": "code",
   "execution_count": null,
   "id": "9a57f0cc",
   "metadata": {},
   "outputs": [],
   "source": [
    "marks[:] # no need to assign first nad second number , call all list"
   ]
  },
  {
   "cell_type": "code",
   "execution_count": null,
   "id": "91ef5f54",
   "metadata": {},
   "outputs": [],
   "source": [
    "marks.insert(3,55)"
   ]
  },
  {
   "cell_type": "code",
   "execution_count": null,
   "id": "b2500ba1",
   "metadata": {},
   "outputs": [],
   "source": [
    "marks"
   ]
  },
  {
   "cell_type": "code",
   "execution_count": null,
   "id": "505cee45",
   "metadata": {},
   "outputs": [],
   "source": [
    "marks.append(12)"
   ]
  },
  {
   "cell_type": "code",
   "execution_count": null,
   "id": "e8a18836",
   "metadata": {},
   "outputs": [],
   "source": [
    "marks\n"
   ]
  },
  {
   "cell_type": "code",
   "execution_count": null,
   "id": "cc586c04",
   "metadata": {},
   "outputs": [],
   "source": [
    "marks.pop(-2)"
   ]
  },
  {
   "cell_type": "code",
   "execution_count": null,
   "id": "b7420fbc",
   "metadata": {},
   "outputs": [],
   "source": [
    "marks"
   ]
  },
  {
   "cell_type": "code",
   "execution_count": null,
   "id": "d4898863",
   "metadata": {},
   "outputs": [],
   "source": [
    "del marks[0]"
   ]
  },
  {
   "cell_type": "code",
   "execution_count": null,
   "id": "135eff79",
   "metadata": {},
   "outputs": [],
   "source": [
    "marks"
   ]
  },
  {
   "cell_type": "code",
   "execution_count": null,
   "id": "86e03dd3",
   "metadata": {},
   "outputs": [],
   "source": [
    "marks.pop(-2)"
   ]
  },
  {
   "cell_type": "code",
   "execution_count": null,
   "id": "a8937bc7",
   "metadata": {},
   "outputs": [],
   "source": [
    "marks"
   ]
  },
  {
   "cell_type": "code",
   "execution_count": null,
   "id": "151eeeea",
   "metadata": {},
   "outputs": [],
   "source": [
    "marks[0:3:2] #Stepping method \n",
    "          2 is for stepping "
   ]
  },
  {
   "cell_type": "code",
   "execution_count": null,
   "id": "ece6b511",
   "metadata": {},
   "outputs": [],
   "source": [
    "marks"
   ]
  },
  {
   "cell_type": "code",
   "execution_count": null,
   "id": "b90411ad",
   "metadata": {},
   "outputs": [],
   "source": [
    "marks[::-1] # -1 is used fro stepping "
   ]
  },
  {
   "cell_type": "code",
   "execution_count": null,
   "id": "fcc44d3c",
   "metadata": {},
   "outputs": [],
   "source": [
    "marks[-1:-4:-2] # -2 is used for stepping "
   ]
  },
  {
   "cell_type": "markdown",
   "id": "6eb579db",
   "metadata": {},
   "source": [
    "## For Loop "
   ]
  },
  {
   "cell_type": "code",
   "execution_count": null,
   "id": "afda51e8",
   "metadata": {},
   "outputs": [],
   "source": [
    "#to reduce repetition\n",
    "\n"
   ]
  },
  {
   "cell_type": "code",
   "execution_count": null,
   "id": "03dc742d",
   "metadata": {},
   "outputs": [],
   "source": [
    "for i in  range(0,10):    \n",
    "    print(i,end=\" \")    \n"
   ]
  },
  {
   "cell_type": "code",
   "execution_count": null,
   "id": "93295832",
   "metadata": {
    "scrolled": true
   },
   "outputs": [],
   "source": [
    "for i in  range(10,0,-1):    # \n",
    "    print(i,end=\" \")        # end \n",
    "    "
   ]
  },
  {
   "cell_type": "code",
   "execution_count": null,
   "id": "127de75d",
   "metadata": {},
   "outputs": [],
   "source": [
    "for i  in range(1,1000):\n",
    "    if i%3==0:\n",
    "        break\n",
    "    \n",
    "    print(i)\n",
    "    \n"
   ]
  },
  {
   "cell_type": "code",
   "execution_count": null,
   "id": "0a274c1e",
   "metadata": {},
   "outputs": [],
   "source": [
    "even=[]\n",
    "odd=[]\n",
    "\n",
    "for i in range (1,100):\n",
    "    if i%2==0:\n",
    "        even.append(i)\n",
    "    else:\n",
    "        odd.append(i)\n",
    "\n",
    "print(\"Even=\", even)\n",
    "\n",
    "print(odd)\n"
   ]
  },
  {
   "cell_type": "code",
   "execution_count": null,
   "id": "bac1e02d",
   "metadata": {},
   "outputs": [],
   "source": [
    "even=[]\n",
    "odd=[]\n",
    "\n",
    "for i in range (1,100):\n",
    "    if i%5!=0:               #No need to write modulus of 5 in each odd and even line  so we have first ask initially\n",
    "        \n",
    "        if i%2==0:  \n",
    "                \n",
    "                even.append(i)                # if i%5!=0 : Nested if can be used for this \n",
    "        else: \n",
    "            \n",
    "            odd.append(i)\n",
    "       \n",
    "\n",
    "print(\"Even=\", even)\n",
    "\n",
    "print(\"Odd=\", odd)\n",
    "\n",
    "   "
   ]
  },
  {
   "cell_type": "code",
   "execution_count": null,
   "id": "29df740a",
   "metadata": {},
   "outputs": [],
   "source": [
    "for i in range (1,250):\n",
    "    if i%2==0:\n",
    "        continue #skip this statement \n",
    "    else:\n",
    "        print(i,end=\" \")\n"
   ]
  },
  {
   "cell_type": "markdown",
   "id": "8a4146dc",
   "metadata": {},
   "source": [
    "### iterating over a list for loop "
   ]
  },
  {
   "cell_type": "code",
   "execution_count": null,
   "id": "c6dd35ee",
   "metadata": {},
   "outputs": [],
   "source": [
    "list1 =[\"huzaifa\",\"abha \"]\n"
   ]
  },
  {
   "cell_type": "code",
   "execution_count": null,
   "id": "402b15bc",
   "metadata": {},
   "outputs": [],
   "source": [
    "for name in list1:\n",
    "    print(f\"Welcome Mr. {name}\")"
   ]
  },
  {
   "cell_type": "code",
   "execution_count": null,
   "id": "265e96cd",
   "metadata": {},
   "outputs": [],
   "source": [
    "Guest_name=[]\n",
    "for name in range(5):\n",
    "    name=input(\"Enter guest name : \").upper()\n",
    "    if name==\"HUZAIFA\" : #or name in Guest_list  :\n",
    "        continue\n",
    "        \n",
    "    else:\n",
    "        Guest_name.append(name)\n",
    "print(Guest_name)\n",
    "        \n",
    "    \n"
   ]
  },
  {
   "cell_type": "markdown",
   "id": "4743daa8",
   "metadata": {},
   "source": [
    "## Exercise "
   ]
  },
  {
   "cell_type": "code",
   "execution_count": null,
   "id": "5182ecdd",
   "metadata": {},
   "outputs": [],
   "source": [
    "1 # counting to twenty\n",
    "\n",
    "for a in range(1,21):\n",
    "    \n",
    "    print(a, end =\" \")"
   ]
  },
  {
   "cell_type": "code",
   "execution_count": null,
   "id": "0e91e9e0",
   "metadata": {},
   "outputs": [],
   "source": [
    "list=[]\n",
    "for a in range (1,1000):\n",
    "    list.append(a)\n",
    "print(list)"
   ]
  },
  {
   "cell_type": "code",
   "execution_count": null,
   "id": "394f46d1",
   "metadata": {},
   "outputs": [],
   "source": [
    "list=[]\n",
    "\n",
    "for a in range (1,1000):\n",
    "    list.append(a)\n",
    "    \n",
    "print(min(list))\n",
    "print(max(list))\n",
    "print(sum(list))"
   ]
  },
  {
   "cell_type": "code",
   "execution_count": null,
   "id": "b27b6abd",
   "metadata": {},
   "outputs": [],
   "source": [
    "List1=[]\n",
    "for a in range(3,30):\n",
    "    if a%3==0:\n",
    "        \n",
    "        List1.append(a)\n",
    "    \n",
    "print(List1)\n"
   ]
  },
  {
   "cell_type": "code",
   "execution_count": null,
   "id": "f9187462",
   "metadata": {},
   "outputs": [],
   "source": [
    "#third argument of list means stepping \n",
    "List1=[]\n",
    "for a in range(1,20,3):\n",
    "    if a%2!=0:\n",
    "        \n",
    "        List1.append(a)\n",
    "    \n",
    "print(List1)"
   ]
  },
  {
   "cell_type": "markdown",
   "id": "c36a94ba",
   "metadata": {},
   "source": [
    "## List Comprehension"
   ]
  },
  {
   "cell_type": "code",
   "execution_count": null,
   "id": "4d68c1ff",
   "metadata": {},
   "outputs": [],
   "source": [
    "#Without list comprehension\n",
    "\n",
    "square=[]\n",
    "for a in range (1,10):\n",
    "    sq=a**2\n",
    "    square.append(sq)\n",
    "print(square)"
   ]
  },
  {
   "cell_type": "code",
   "execution_count": null,
   "id": "30a90a18",
   "metadata": {},
   "outputs": [],
   "source": [
    "Squares=[a**2 for a in range(1,10)]         #With list comprehension \n",
    "Squares"
   ]
  },
  {
   "cell_type": "markdown",
   "id": "df096fb6",
   "metadata": {},
   "source": [
    "## Class 10"
   ]
  },
  {
   "cell_type": "markdown",
   "id": "99c2c563",
   "metadata": {},
   "source": [
    "\n",
    "## nEsted For loop "
   ]
  },
  {
   "cell_type": "code",
   "execution_count": null,
   "id": "ecef2cef",
   "metadata": {},
   "outputs": [],
   "source": [
    "lst1=[\"huzaifa\", \"abha \", \"ahmed \"]\n",
    "lst2=[\"Shahid\", \"Aslam\",\"Furqan\"]\n",
    "\n",
    "for name in lst1:\n",
    "    for name2 in lst2:\n",
    "        print(f\"{name} {name2}\")\n",
    "        \n",
    "    "
   ]
  },
  {
   "cell_type": "code",
   "execution_count": null,
   "id": "fb3b1e20",
   "metadata": {},
   "outputs": [],
   "source": [
    "lst1=[\"huzaifa\", \"abha \", \"ahmed \"]\n",
    "lst2=[\"Shahid\", \"Aslam\",\"Furqan\"]\n",
    "\n",
    "for name in lst1:\n",
    "    print(f\"{name} {lst2[lst1.index(name)]}\")"
   ]
  },
  {
   "cell_type": "markdown",
   "id": "f20a8924",
   "metadata": {},
   "source": [
    " ### Data Stucture \" Dictionary\""
   ]
  },
  {
   "cell_type": "code",
   "execution_count": null,
   "id": "250f7f9d",
   "metadata": {},
   "outputs": [],
   "source": [
    "## Dictionary is identified by curly bracket ( Data stored in key and value)\n",
    "\n",
    "Dictionary ={\"name\":\"Saylani\",\"campus\":\" Gulshan\"}\n",
    "              key      value       key     value \n",
    "               "
   ]
  },
  {
   "cell_type": "code",
   "execution_count": null,
   "id": "653ae441",
   "metadata": {},
   "outputs": [],
   "source": [
    "Dictionary ={\"name\":\"Saylani\",\"campus\":\" Gulshan\"}"
   ]
  },
  {
   "cell_type": "code",
   "execution_count": null,
   "id": "4e6a79dd",
   "metadata": {},
   "outputs": [],
   "source": [
    "Dictionary[\"name\"]"
   ]
  },
  {
   "cell_type": "code",
   "execution_count": null,
   "id": "707b92b1",
   "metadata": {},
   "outputs": [],
   "source": [
    "Dictionary[\"campus\"]"
   ]
  },
  {
   "cell_type": "code",
   "execution_count": null,
   "id": "0582091f",
   "metadata": {},
   "outputs": [],
   "source": [
    "Dictionary[\"teacher\"]=\"Nasir\"     # adding a value by passing key "
   ]
  },
  {
   "cell_type": "code",
   "execution_count": null,
   "id": "19679028",
   "metadata": {},
   "outputs": [],
   "source": [
    "Dictionary"
   ]
  },
  {
   "cell_type": "code",
   "execution_count": null,
   "id": "d917f9bf",
   "metadata": {},
   "outputs": [],
   "source": [
    "Dictionary[\"teacher\"]=\"kamran\"   # Changing a value in "
   ]
  },
  {
   "cell_type": "code",
   "execution_count": null,
   "id": "0a16565a",
   "metadata": {},
   "outputs": [],
   "source": [
    "Dictionary"
   ]
  },
  {
   "cell_type": "code",
   "execution_count": null,
   "id": "f4505edb",
   "metadata": {},
   "outputs": [],
   "source": [
    "del Dictionary[\"teacher\"]          # Deleting a value by "
   ]
  },
  {
   "cell_type": "code",
   "execution_count": null,
   "id": "0ff63684",
   "metadata": {},
   "outputs": [],
   "source": [
    "Dictionary"
   ]
  },
  {
   "cell_type": "code",
   "execution_count": null,
   "id": "edad4bf2",
   "metadata": {},
   "outputs": [],
   "source": [
    "Score ={\"rizwan\":45, \"aslam\":50}"
   ]
  },
  {
   "cell_type": "code",
   "execution_count": null,
   "id": "c84d1443",
   "metadata": {},
   "outputs": [],
   "source": [
    "Score\n"
   ]
  },
  {
   "cell_type": "code",
   "execution_count": null,
   "id": "b49611e3",
   "metadata": {},
   "outputs": [],
   "source": [
    "Dictionary"
   ]
  },
  {
   "cell_type": "code",
   "execution_count": null,
   "id": "deac8ca7",
   "metadata": {},
   "outputs": [],
   "source": [
    "for a in Score:\n",
    "    print(a)"
   ]
  },
  {
   "cell_type": "code",
   "execution_count": null,
   "id": "9fa8ead6",
   "metadata": {},
   "outputs": [],
   "source": [
    "for a in Score.keys():\n",
    "    print(a)"
   ]
  },
  {
   "cell_type": "code",
   "execution_count": null,
   "id": "400be107",
   "metadata": {},
   "outputs": [],
   "source": [
    "for a in Score.values():\n",
    "    print(a)"
   ]
  },
  {
   "cell_type": "code",
   "execution_count": null,
   "id": "724ce801",
   "metadata": {},
   "outputs": [],
   "source": [
    "for a in Score.items():          #item dono dega     #() ye tupple houta hai\n",
    "    print(a)"
   ]
  },
  {
   "cell_type": "code",
   "execution_count": null,
   "id": "380616d7",
   "metadata": {},
   "outputs": [],
   "source": [
    "for key,value in Score.items():\n",
    "    print(f\"{key}  {value}\")"
   ]
  },
  {
   "cell_type": "code",
   "execution_count": null,
   "id": "af1e8fd7",
   "metadata": {},
   "outputs": [],
   "source": [
    "for key in Score.keys():\n",
    "    print(Score[keys])"
   ]
  },
  {
   "cell_type": "markdown",
   "id": "7f02963a",
   "metadata": {},
   "source": [
    "## List in a Disctionary"
   ]
  },
  {
   "cell_type": "code",
   "execution_count": null,
   "id": "f088bf86",
   "metadata": {},
   "outputs": [],
   "source": [
    "list_in_dic={\"students\":[\"Nasir\",\"fahad\",\"yasir\"],\"Marks\":[1,2,3]}\n",
    "import pandas as pd          # tabular form \n",
    "pd.DataFrame(list_in_dic)"
   ]
  },
  {
   "cell_type": "code",
   "execution_count": null,
   "id": "ac9ea784",
   "metadata": {},
   "outputs": [],
   "source": [
    "list_in_dic[\"students\"]"
   ]
  },
  {
   "cell_type": "code",
   "execution_count": null,
   "id": "bb331736",
   "metadata": {},
   "outputs": [],
   "source": [
    "list_in_dic[\"Marks\"]"
   ]
  },
  {
   "cell_type": "code",
   "execution_count": null,
   "id": "f1111581",
   "metadata": {},
   "outputs": [],
   "source": [
    "list_in_dic[\"students\"][1:3]"
   ]
  },
  {
   "cell_type": "markdown",
   "id": "fd58fa9e",
   "metadata": {},
   "source": [
    "## Dictionary in a list"
   ]
  },
  {
   "cell_type": "code",
   "execution_count": null,
   "id": "8540056e",
   "metadata": {},
   "outputs": [],
   "source": [
    "dic_in_list=[{\"sales\":[1,2,3]},{\"games\":[\"saad\",\"asad\",\"hamza\"]},{\"fahad\":[1,2,3]}]"
   ]
  },
  {
   "cell_type": "code",
   "execution_count": null,
   "id": "8624ff4f",
   "metadata": {},
   "outputs": [],
   "source": [
    "dic_in_list[0]                 #index diya hai"
   ]
  },
  {
   "cell_type": "code",
   "execution_count": null,
   "id": "812c3acf",
   "metadata": {},
   "outputs": [],
   "source": [
    "dic_in_list[0][\"sales\"][0]"
   ]
  },
  {
   "cell_type": "code",
   "execution_count": null,
   "id": "afef0ce6",
   "metadata": {},
   "outputs": [],
   "source": [
    "dic_in_list={ \"dic1\":{\"profit\":[1,2,3,]},\"dic2\":{\"games\":[\"saad\",\"asad\",\"hamza\"]}}    # Dictionay in Dictionary"
   ]
  },
  {
   "cell_type": "code",
   "execution_count": null,
   "id": "fb0f2fba",
   "metadata": {},
   "outputs": [],
   "source": [
    "dic_in_list[\"dic2\"][\"games\"][2]"
   ]
  },
  {
   "cell_type": "code",
   "execution_count": null,
   "id": "19340298",
   "metadata": {},
   "outputs": [],
   "source": [
    "list_in_list=[[1,2,3],[\"asad\",\"fahad\"]]           # list in list "
   ]
  },
  {
   "cell_type": "code",
   "execution_count": null,
   "id": "7102fee8",
   "metadata": {},
   "outputs": [],
   "source": [
    "list_in_list[0][1]"
   ]
  },
  {
   "cell_type": "markdown",
   "id": "8b695953",
   "metadata": {},
   "source": [
    "# Class 13"
   ]
  },
  {
   "cell_type": "markdown",
   "id": "99d000ea",
   "metadata": {},
   "source": [
    "# While Loop"
   ]
  },
  {
   "cell_type": "code",
   "execution_count": null,
   "id": "63fd0bc6",
   "metadata": {},
   "outputs": [],
   "source": [
    "names=[\"habib\",\"Ali\",\"jawad\"]#for loop\n",
    "for name in names:\n",
    "    print(name.upper())"
   ]
  },
  {
   "cell_type": "code",
   "execution_count": null,
   "id": "bc6f0c93",
   "metadata": {},
   "outputs": [],
   "source": [
    "count=0      #while loop\n",
    "while count<len(names):\n",
    "    print(names[count].lower())\n",
    "    count+=1"
   ]
  },
  {
   "cell_type": "code",
   "execution_count": null,
   "id": "e9ddd823",
   "metadata": {},
   "outputs": [],
   "source": [
    "count=0\n",
    "while count<=5:\n",
    "    print(\"python\")\n",
    "    count=count+1"
   ]
  },
  {
   "cell_type": "code",
   "execution_count": null,
   "id": "b1415300",
   "metadata": {},
   "outputs": [],
   "source": [
    "cars={\"Honda\":\"City\",\"Toyota\":\"Carolla\",\"Nissan\":\"Gtr\"}\n",
    "count=0\n",
    "while count<len(cars):\n",
    "    print(cars[count]) #cant give index to dictionary\n",
    "    count+=1    "
   ]
  },
  {
   "cell_type": "markdown",
   "id": "175f712e",
   "metadata": {},
   "source": [
    "2/0 =infinite   && 0/2 = 0"
   ]
  },
  {
   "cell_type": "code",
   "execution_count": null,
   "id": "5e4c42ce",
   "metadata": {},
   "outputs": [],
   "source": [
    "count=0\n",
    "while count<10:\n",
    "    if count%2==0:\n",
    "        continue\n",
    "    print(count)\n",
    "count+=1"
   ]
  },
  {
   "cell_type": "code",
   "execution_count": null,
   "id": "d6717c8c",
   "metadata": {},
   "outputs": [],
   "source": [
    "count=0   #print even number using while loop\n",
    "while count<=20:\n",
    "    if count%2==0:\n",
    "        print(count)\n",
    "    count+=1"
   ]
  },
  {
   "cell_type": "code",
   "execution_count": null,
   "id": "2adaae10",
   "metadata": {},
   "outputs": [],
   "source": [
    "count=0   #print even number using while loop\n",
    "while count<=20:\n",
    "    count+=1\n",
    "    if count%2!=0:\n",
    "        \n",
    "        continue\n",
    "    print(count)\n",
    "    "
   ]
  },
  {
   "cell_type": "code",
   "execution_count": null,
   "id": "030c5f00",
   "metadata": {},
   "outputs": [],
   "source": [
    "while True:\n",
    "    num=int(input(\"Enter number\"))\n",
    "    if num%7==0:\n",
    "        break\n",
    "    else:\n",
    "        print(num)"
   ]
  },
  {
   "cell_type": "code",
   "execution_count": null,
   "id": "9ee0a594",
   "metadata": {},
   "outputs": [],
   "source": [
    "bestfriends=[]\n",
    "while True:\n",
    "    bestfriend=input(\"Enter you bestfriend name or press Q to exit : \")\n",
    "    \n",
    "    if (bestfriend=='q'):\n",
    "        break \n",
    "    else:\n",
    "        bestfriends.append(bestfriend)\n",
    "print(bestfriends)"
   ]
  },
  {
   "cell_type": "code",
   "execution_count": null,
   "id": "99cd3375",
   "metadata": {},
   "outputs": [],
   "source": [
    "bestfriends=[]\n",
    "while True:\n",
    "    bestfriend=input(\"Enter you bestfriend name or press Q to exit : \")\n",
    "    bestfriends.append(bestfriend)\n",
    "    if (bestfriend=='q'or bestfriend=='Q'):\n",
    "        break \n",
    "    \n",
    "bestfriends.pop(-1)       \n",
    "print(bestfriends)"
   ]
  },
  {
   "cell_type": "markdown",
   "id": "cf04f796",
   "metadata": {},
   "source": [
    "# Flag"
   ]
  },
  {
   "cell_type": "code",
   "execution_count": null,
   "id": "6a2953e3",
   "metadata": {},
   "outputs": [],
   "source": [
    "bestfriends=[]\n",
    "flag =True\n",
    "while flag:\n",
    "    bestfriend=input(\"Enter you bestfriend name or press Q to exit : \")\n",
    "    \n",
    "    if (bestfriend=='q'):\n",
    "        flag=False \n",
    "    else:\n",
    "        bestfriends.append(bestfriend)\n",
    "print(bestfriends)"
   ]
  },
  {
   "cell_type": "markdown",
   "id": "369d7b78",
   "metadata": {},
   "source": [
    "# task"
   ]
  },
  {
   "cell_type": "code",
   "execution_count": null,
   "id": "932f0718",
   "metadata": {},
   "outputs": [],
   "source": [
    "number=[]\n",
    "while True:\n",
    "    num=int(input(\"Enter number or press 0 to quit: \"))\n",
    "    number.append(num)\n",
    "    if num==0:\n",
    "        print(\"Total sum is :\",sum(number))\n",
    "        break\n",
    "        \n",
    "    "
   ]
  },
  {
   "cell_type": "code",
   "execution_count": null,
   "id": "fc121ca8",
   "metadata": {},
   "outputs": [],
   "source": [
    "number=[]\n",
    "flag=True\n",
    "while flag:\n",
    "    num=int(input(\"Enter number or press 0 to quit: \"))\n",
    "    number.append(num)\n",
    "    if num==0:\n",
    "        print(\"Total sum is :\",sum(number))\n",
    "        flag=False"
   ]
  },
  {
   "cell_type": "code",
   "execution_count": null,
   "id": "b318d501",
   "metadata": {},
   "outputs": [],
   "source": [
    "from IPython.display import clear_output  #library to clear screen\n",
    "number=[]\n",
    "flag=True\n",
    "while flag: \n",
    "    \n",
    "    num=int(input(\"Enter number or press 0 to quit: \"))\n",
    "    number.append(num)\n",
    "    if num==0:\n",
    "        clear_output(wait=False)  #cls\n",
    "        \n",
    "        print(\"Total sum is :\",sum(number))\n",
    "        flag=False"
   ]
  },
  {
   "cell_type": "code",
   "execution_count": null,
   "id": "7afdd842",
   "metadata": {},
   "outputs": [],
   "source": [
    "fav_nums=input(\"Enter your comma seperated Fav number\") #itr give single string\n",
    "fav_nums"
   ]
  },
  {
   "cell_type": "code",
   "execution_count": null,
   "id": "412dc6c8",
   "metadata": {},
   "outputs": [],
   "source": [
    "fav_nums=input(\"Enter your comma seperated Fav number\").split(\",\") #it gives list\n",
    "fav_nums"
   ]
  },
  {
   "cell_type": "code",
   "execution_count": null,
   "id": "8fca1ad9",
   "metadata": {},
   "outputs": [],
   "source": [
    "total=0\n",
    "fav_nums=input(\"Enter your comma seperated Fav number\").split(\",\") #it gives list\n",
    "for num in fav_nums:\n",
    "    total+=int(num)\n",
    "print(total)"
   ]
  },
  {
   "cell_type": "code",
   "execution_count": null,
   "id": "97988db2",
   "metadata": {},
   "outputs": [],
   "source": [
    "GT10=[]\n",
    "nums=[2,4,3,5,4,6,5,6,7,8,9]\n",
    "for num in nums:\n",
    "    for a in nums:\n",
    "        sum=num+a\n",
    "        if sum>=10:\n",
    "            GT10.append(sum)\n",
    "GT10"
   ]
  },
  {
   "cell_type": "markdown",
   "id": "4bbc0565",
   "metadata": {},
   "source": [
    "# Class 14"
   ]
  },
  {
   "cell_type": "markdown",
   "id": "bdfa4f56",
   "metadata": {},
   "source": [
    "# Tuple"
   ]
  },
  {
   "cell_type": "markdown",
   "id": "c0a8ba40",
   "metadata": {},
   "source": [
    "tuple is immutable(cannot change)"
   ]
  },
  {
   "cell_type": "code",
   "execution_count": null,
   "id": "b6cf51c1",
   "metadata": {},
   "outputs": [],
   "source": [
    "marks=(1,2,True,False,['habib','Ali'],{'class':'smit'})\n"
   ]
  },
  {
   "cell_type": "code",
   "execution_count": null,
   "id": "7afc8a0f",
   "metadata": {},
   "outputs": [],
   "source": [
    "marks[0]"
   ]
  },
  {
   "cell_type": "code",
   "execution_count": null,
   "id": "ab09cf37",
   "metadata": {},
   "outputs": [],
   "source": [
    "marks[4][1]"
   ]
  },
  {
   "cell_type": "code",
   "execution_count": null,
   "id": "bf5183fb",
   "metadata": {},
   "outputs": [],
   "source": [
    "marks[5]['class']"
   ]
  },
  {
   "cell_type": "code",
   "execution_count": null,
   "id": "ee7e2538",
   "metadata": {},
   "outputs": [],
   "source": [
    "marks[0]=6 #cant change"
   ]
  },
  {
   "cell_type": "code",
   "execution_count": null,
   "id": "ed6ef2de",
   "metadata": {},
   "outputs": [],
   "source": [
    "marks.count(2)"
   ]
  },
  {
   "cell_type": "code",
   "execution_count": null,
   "id": "e2e70a8e",
   "metadata": {},
   "outputs": [],
   "source": [
    "marks.index(2)"
   ]
  },
  {
   "cell_type": "markdown",
   "id": "3e16af39",
   "metadata": {},
   "source": [
    "# SET"
   ]
  },
  {
   "cell_type": "code",
   "execution_count": null,
   "id": "2ec139a8",
   "metadata": {},
   "outputs": [],
   "source": [
    "my_set={2,3}"
   ]
  },
  {
   "cell_type": "code",
   "execution_count": null,
   "id": "8b3bdcc9",
   "metadata": {},
   "outputs": [],
   "source": [
    "type(my_set)"
   ]
  },
  {
   "cell_type": "code",
   "execution_count": null,
   "id": "bd5238dd",
   "metadata": {},
   "outputs": [],
   "source": [
    "my_set={2,3,3,4,6,5,3,6,87,5,432,6}"
   ]
  },
  {
   "cell_type": "code",
   "execution_count": null,
   "id": "f7c5cdd0",
   "metadata": {},
   "outputs": [],
   "source": [
    "my_set # distinct number  #no repetation"
   ]
  },
  {
   "cell_type": "code",
   "execution_count": null,
   "id": "f15c7673",
   "metadata": {},
   "outputs": [],
   "source": [
    "alist=[1,2,3,4,5,6,3,4,5,7,8,5,6,2,7,8]\n",
    "newlist=[]\n",
    "for a in alist:\n",
    "    if a not in newlist:\n",
    "        newlist.append(a)"
   ]
  },
  {
   "cell_type": "code",
   "execution_count": null,
   "id": "adcce77d",
   "metadata": {},
   "outputs": [],
   "source": [
    "newlist"
   ]
  },
  {
   "cell_type": "code",
   "execution_count": null,
   "id": "64fd572f",
   "metadata": {},
   "outputs": [],
   "source": [
    "alist=list(set(alist)) #first create set then change to list"
   ]
  },
  {
   "cell_type": "code",
   "execution_count": null,
   "id": "357b39ac",
   "metadata": {},
   "outputs": [],
   "source": [
    "alist"
   ]
  },
  {
   "cell_type": "code",
   "execution_count": null,
   "id": "80ca087f",
   "metadata": {},
   "outputs": [],
   "source": [
    "my_set.add(9)"
   ]
  },
  {
   "cell_type": "code",
   "execution_count": null,
   "id": "4fc49a09",
   "metadata": {},
   "outputs": [],
   "source": [
    "my_set #9 is added"
   ]
  },
  {
   "cell_type": "code",
   "execution_count": null,
   "id": "728993bc",
   "metadata": {},
   "outputs": [],
   "source": [
    "my_set.difference(alist)"
   ]
  },
  {
   "cell_type": "code",
   "execution_count": null,
   "id": "2445a02b",
   "metadata": {},
   "outputs": [],
   "source": [
    "my_set.intersection(alist)"
   ]
  },
  {
   "cell_type": "code",
   "execution_count": null,
   "id": "b3dc544d",
   "metadata": {},
   "outputs": [],
   "source": [
    "my_set.pop()"
   ]
  },
  {
   "cell_type": "code",
   "execution_count": null,
   "id": "8ae2315a",
   "metadata": {},
   "outputs": [],
   "source": [
    "my_set"
   ]
  },
  {
   "cell_type": "code",
   "execution_count": null,
   "id": "d52581e5",
   "metadata": {},
   "outputs": [],
   "source": [
    "my_set.union(alist)"
   ]
  },
  {
   "cell_type": "code",
   "execution_count": null,
   "id": "7d926a56",
   "metadata": {},
   "outputs": [],
   "source": [
    "my_set.update(alist)"
   ]
  },
  {
   "cell_type": "code",
   "execution_count": null,
   "id": "6815d864",
   "metadata": {},
   "outputs": [],
   "source": [
    "my_set"
   ]
  },
  {
   "cell_type": "code",
   "execution_count": null,
   "id": "0a0bbfc7",
   "metadata": {},
   "outputs": [],
   "source": [
    "alist"
   ]
  },
  {
   "cell_type": "code",
   "execution_count": null,
   "id": "54dcf320",
   "metadata": {},
   "outputs": [],
   "source": [
    "my_set.discard(5)"
   ]
  },
  {
   "cell_type": "code",
   "execution_count": null,
   "id": "ebfacfc1",
   "metadata": {},
   "outputs": [],
   "source": [
    "my_set"
   ]
  },
  {
   "cell_type": "code",
   "execution_count": null,
   "id": "b3e9cc3f",
   "metadata": {},
   "outputs": [],
   "source": [
    "set1={'habib','ahmed','ali'}\n",
    "set2={2,4,6,2}"
   ]
  },
  {
   "cell_type": "code",
   "execution_count": null,
   "id": "2151d23a",
   "metadata": {},
   "outputs": [],
   "source": [
    "set1.update(set2) #union with no repeated values"
   ]
  },
  {
   "cell_type": "code",
   "execution_count": null,
   "id": "d6236b50",
   "metadata": {},
   "outputs": [],
   "source": [
    "set1"
   ]
  },
  {
   "cell_type": "code",
   "execution_count": null,
   "id": "20bec59e",
   "metadata": {},
   "outputs": [],
   "source": [
    "set1.pop()"
   ]
  },
  {
   "cell_type": "code",
   "execution_count": null,
   "id": "e03dd420",
   "metadata": {},
   "outputs": [],
   "source": [
    "set1.remove('habib')"
   ]
  },
  {
   "cell_type": "code",
   "execution_count": null,
   "id": "f971456c",
   "metadata": {},
   "outputs": [],
   "source": [
    "set1"
   ]
  },
  {
   "cell_type": "code",
   "execution_count": null,
   "id": "cfe9cae6",
   "metadata": {},
   "outputs": [],
   "source": [
    "set1.difference_update(set2)  #difference and then update"
   ]
  },
  {
   "cell_type": "code",
   "execution_count": null,
   "id": "63b43c1f",
   "metadata": {},
   "outputs": [],
   "source": [
    "set1"
   ]
  },
  {
   "cell_type": "code",
   "execution_count": null,
   "id": "66cbdc9d",
   "metadata": {},
   "outputs": [],
   "source": [
    "set2"
   ]
  },
  {
   "cell_type": "markdown",
   "id": "5fb295f5",
   "metadata": {},
   "source": [
    "# Functions\n",
    "-built-in function\n",
    "\n",
    "-user-defined function"
   ]
  },
  {
   "cell_type": "code",
   "execution_count": null,
   "id": "0a17c7f9",
   "metadata": {},
   "outputs": [],
   "source": [
    "#function defination\n",
    "#def functionname\n",
    "def mean(arr):   #parameter\n",
    "    total=0\n",
    "    for val in arr:\n",
    "        total +=val\n",
    "    return total/len(arr)\n",
    "    "
   ]
  },
  {
   "cell_type": "code",
   "execution_count": null,
   "id": "f8fb9240",
   "metadata": {},
   "outputs": [],
   "source": [
    "#call\n",
    "arr=[1,2,3,4,5,6,7,8,9]\n",
    "#argument"
   ]
  },
  {
   "cell_type": "code",
   "execution_count": null,
   "id": "638a410b",
   "metadata": {},
   "outputs": [],
   "source": [
    "mean(arr) "
   ]
  },
  {
   "cell_type": "code",
   "execution_count": null,
   "id": "67aa9eb3",
   "metadata": {},
   "outputs": [],
   "source": [
    "def say_hello(): #define   #parameter less function\n",
    "    print(\"Hello\")"
   ]
  },
  {
   "cell_type": "code",
   "execution_count": null,
   "id": "f4b34a0e",
   "metadata": {},
   "outputs": [],
   "source": [
    "say_hello()  #call"
   ]
  },
  {
   "cell_type": "code",
   "execution_count": null,
   "id": "fff4c745",
   "metadata": {},
   "outputs": [],
   "source": [
    "def Division(n1,n2):\n",
    "    return n1/n2"
   ]
  },
  {
   "cell_type": "code",
   "execution_count": null,
   "id": "d57dd758",
   "metadata": {},
   "outputs": [],
   "source": [
    "Division(1,2)"
   ]
  },
  {
   "cell_type": "code",
   "execution_count": null,
   "id": "a73e9a40",
   "metadata": {},
   "outputs": [],
   "source": [
    "def Multiply(n1,n2):\n",
    "    return n1*n2"
   ]
  },
  {
   "cell_type": "code",
   "execution_count": null,
   "id": "7f56163a",
   "metadata": {},
   "outputs": [],
   "source": [
    "Multiply(3,6)"
   ]
  },
  {
   "cell_type": "code",
   "execution_count": null,
   "id": "a8fabac3",
   "metadata": {},
   "outputs": [],
   "source": [
    "def say_salam(name):\n",
    "    print(f\"Assalam.o.Alaikum Mr. {name}\")\n",
    "    "
   ]
  },
  {
   "cell_type": "code",
   "execution_count": null,
   "id": "8f4ee5d4",
   "metadata": {},
   "outputs": [],
   "source": [
    "say_salam(\"Habib\")"
   ]
  },
  {
   "cell_type": "code",
   "execution_count": null,
   "id": "aef88c70",
   "metadata": {},
   "outputs": [],
   "source": [
    "def lower_text(para):\n",
    "    print(para.lower())"
   ]
  },
  {
   "cell_type": "code",
   "execution_count": null,
   "id": "9fdd3c73",
   "metadata": {},
   "outputs": [],
   "source": [
    "lower_text(\"Hello Habib\")"
   ]
  },
  {
   "cell_type": "code",
   "execution_count": null,
   "id": "3cf159db",
   "metadata": {},
   "outputs": [],
   "source": [
    "def charCount(para): #counting space and , as well\n",
    "    print(\"There are \",len(para),\"character in your paragraph\")"
   ]
  },
  {
   "cell_type": "code",
   "execution_count": null,
   "id": "11a8c43a",
   "metadata": {},
   "outputs": [],
   "source": [
    "charCount(\"Hello Habib\")"
   ]
  },
  {
   "cell_type": "code",
   "execution_count": null,
   "id": "c7e8f763",
   "metadata": {},
   "outputs": [],
   "source": [
    "def wordCount(para):\n",
    "    print(\"There are \",len(para.split(\" \")),\"word in your paragraph\")"
   ]
  },
  {
   "cell_type": "code",
   "execution_count": null,
   "id": "433d466b",
   "metadata": {},
   "outputs": [],
   "source": [
    "wordCount(\"hello habib! how are you?\")"
   ]
  },
  {
   "cell_type": "code",
   "execution_count": null,
   "id": "8ee27e7e",
   "metadata": {},
   "outputs": [],
   "source": [
    "def sentenceCount(para):\n",
    "    print(\"There is \",len(para.split(\".\")),\"sentence in your paragraph\")"
   ]
  },
  {
   "cell_type": "code",
   "execution_count": null,
   "id": "f82b6fe3",
   "metadata": {},
   "outputs": [],
   "source": [
    "sentenceCount(\"Hello habib how are you\")"
   ]
  },
  {
   "cell_type": "code",
   "execution_count": null,
   "id": "600963d5",
   "metadata": {},
   "outputs": [],
   "source": [
    "def charCount(para):\n",
    "    print(\"There are \",len(para),\"character in your paragraph\")"
   ]
  },
  {
   "cell_type": "markdown",
   "id": "91f19679",
   "metadata": {},
   "source": [
    "## Class 15"
   ]
  },
  {
   "cell_type": "code",
   "execution_count": null,
   "id": "e85dd70b",
   "metadata": {},
   "outputs": [],
   "source": []
  },
  {
   "cell_type": "code",
   "execution_count": null,
   "id": "48b4168c",
   "metadata": {},
   "outputs": [],
   "source": [
    "def  square(num):\n",
    "    sqr = num*num   # local varibale \n",
    "    print(sqr)\n"
   ]
  },
  {
   "cell_type": "code",
   "execution_count": null,
   "id": "046107b6",
   "metadata": {},
   "outputs": [],
   "source": [
    "square(6)"
   ]
  },
  {
   "cell_type": "code",
   "execution_count": null,
   "id": "8c5c4c6b",
   "metadata": {},
   "outputs": [],
   "source": [
    "def  square(num):\n",
    "    sqr = num*num   # local varibale \n",
    "    print(sqr)\n",
    "    global name       # global variable \n",
    "    name=\"saylani\"\n",
    "    "
   ]
  },
  {
   "cell_type": "code",
   "execution_count": null,
   "id": "0bd2f09e",
   "metadata": {},
   "outputs": [],
   "source": [
    "square(5)"
   ]
  },
  {
   "cell_type": "code",
   "execution_count": null,
   "id": "34ce2353",
   "metadata": {},
   "outputs": [],
   "source": [
    "print(name)"
   ]
  },
  {
   "cell_type": "code",
   "execution_count": null,
   "id": "7f82b335",
   "metadata": {},
   "outputs": [],
   "source": [
    "def  square(num):\n",
    "    sqr = num*num   # local varibale \n",
    "    return sqr      #    \n"
   ]
  },
  {
   "cell_type": "code",
   "execution_count": null,
   "id": "3f98d2a4",
   "metadata": {},
   "outputs": [],
   "source": [
    "square(5)"
   ]
  },
  {
   "cell_type": "code",
   "execution_count": null,
   "id": "5750fbc2",
   "metadata": {},
   "outputs": [],
   "source": [
    "def square(num):\n",
    "    return num**2, \"hello\"\n"
   ]
  },
  {
   "cell_type": "code",
   "execution_count": null,
   "id": "79d9a41b",
   "metadata": {},
   "outputs": [],
   "source": [
    "square(5)"
   ]
  },
  {
   "cell_type": "code",
   "execution_count": null,
   "id": "39cb45fc",
   "metadata": {},
   "outputs": [],
   "source": [
    "def Add(num1,num2):\n",
    "    return num1+num2\n"
   ]
  },
  {
   "cell_type": "code",
   "execution_count": null,
   "id": "d27ccbbd",
   "metadata": {},
   "outputs": [],
   "source": [
    "Add(2,4)"
   ]
  },
  {
   "cell_type": "markdown",
   "id": "5abcdcb3",
   "metadata": {},
   "source": [
    "# poistional parameter and Argument"
   ]
  },
  {
   "cell_type": "code",
   "execution_count": null,
   "id": "ac01ad04",
   "metadata": {},
   "outputs": [],
   "source": [
    "def complete_name(first_name, last_name):\n",
    "    full_name = first_name + \" \" + last_name\n",
    "    return full_name\n",
    "\n"
   ]
  },
  {
   "cell_type": "code",
   "execution_count": null,
   "id": "524727cf",
   "metadata": {},
   "outputs": [],
   "source": [
    "complete_name(\"waseem\", \"huzaifa\")"
   ]
  },
  {
   "cell_type": "code",
   "execution_count": null,
   "id": "4370638a",
   "metadata": {},
   "outputs": [],
   "source": [
    "complete_name(\"huzaifa\", \"waseem\")"
   ]
  },
  {
   "cell_type": "markdown",
   "id": "3bb08739",
   "metadata": {},
   "source": [
    "## Default parameter "
   ]
  },
  {
   "cell_type": "code",
   "execution_count": null,
   "id": "fdd6ba48",
   "metadata": {},
   "outputs": [],
   "source": [
    "def cube(num=3):\n",
    "    _cube=num**3\n",
    "    return _cube\n"
   ]
  },
  {
   "cell_type": "code",
   "execution_count": null,
   "id": "cfd804f6",
   "metadata": {},
   "outputs": [],
   "source": [
    "cube(5)   # user is giving input "
   ]
  },
  {
   "cell_type": "code",
   "execution_count": null,
   "id": "3a4c83c4",
   "metadata": {},
   "outputs": [],
   "source": [
    "cube()    # default value will be consider (eg =3)"
   ]
  },
  {
   "cell_type": "code",
   "execution_count": null,
   "id": "4cda1f31",
   "metadata": {},
   "outputs": [],
   "source": [
    "a=[2,5,6,8,9,10]\n",
    "\n",
    "def max_min(a):\n",
    "    _max=max(a)\n",
    "    _min=min(a)\n",
    "    return _max,_min\n"
   ]
  },
  {
   "cell_type": "code",
   "execution_count": null,
   "id": "37a8890c",
   "metadata": {},
   "outputs": [],
   "source": [
    "max_min(a)"
   ]
  },
  {
   "cell_type": "code",
   "execution_count": null,
   "id": "d9983409",
   "metadata": {},
   "outputs": [],
   "source": [
    "a=[2,5,6,8,9,10]\n",
    "\n",
    "def sqlist(a):\n",
    "    return [ val**2 for val in a]\n"
   ]
  },
  {
   "cell_type": "code",
   "execution_count": null,
   "id": "66bf2cad",
   "metadata": {},
   "outputs": [],
   "source": [
    "sqlist(a)"
   ]
  },
  {
   "cell_type": "code",
   "execution_count": null,
   "id": "d90ee770",
   "metadata": {},
   "outputs": [],
   "source": [
    "a=[2,5,6,8,9,10 ,11]\n",
    "\n",
    "def sqlist(a):\n",
    "    return [ val**2 if val < 10 else val for val in a ]"
   ]
  },
  {
   "cell_type": "code",
   "execution_count": null,
   "id": "b3106aaf",
   "metadata": {},
   "outputs": [],
   "source": [
    "sqlist(a)"
   ]
  },
  {
   "cell_type": "code",
   "execution_count": null,
   "id": "4a41eb47",
   "metadata": {},
   "outputs": [],
   "source": [
    "def students(arr):\n",
    "    return [arr.pop() if len(val)>10 else print(val)  for val in arr ]"
   ]
  },
  {
   "cell_type": "code",
   "execution_count": null,
   "id": "5ee00595",
   "metadata": {},
   "outputs": [],
   "source": [
    "students([\"huzaifaabha\", \"habib\" , \"Nasirhussain\"])"
   ]
  },
  {
   "cell_type": "markdown",
   "id": "32129b55",
   "metadata": {},
   "source": [
    "# Class 16"
   ]
  },
  {
   "cell_type": "markdown",
   "id": "89f66dcd",
   "metadata": {},
   "source": [
    "## keywords Argument "
   ]
  },
  {
   "cell_type": "code",
   "execution_count": null,
   "id": "38eb6863",
   "metadata": {},
   "outputs": [],
   "source": [
    "def func(arr,task=\"\"):\n",
    "    if task==\"sum\":\n",
    "        return sum(arr)\n",
    "    elif task==\"mult\":\n",
    "        res =1\n",
    "        for num in arr:\n",
    "            res*=num\n",
    "        return res \n",
    "    elif task==\"max\":\n",
    "        return max(arr)\n",
    "    \n",
    "    elif task==\"min\":\n",
    "        return min(arr)\n",
    "    elif task==\"even\":\n",
    "        even=[]\n",
    "        for num in arr:\n",
    "            if num %2==0 :\n",
    "                even.append(num)\n",
    "        return even\n",
    "    elif task==\"odd\":\n",
    "        odd=[]\n",
    "        for num in arr:\n",
    "            if num %2!=0 :\n",
    "                odd.append(num)\n",
    "        return odd\n",
    "    \n",
    "    \n",
    "            "
   ]
  },
  {
   "cell_type": "code",
   "execution_count": null,
   "id": "2dae215a",
   "metadata": {},
   "outputs": [],
   "source": [
    "func([1,2,3,4], \"sum\")"
   ]
  },
  {
   "cell_type": "code",
   "execution_count": null,
   "id": "a4f1e379",
   "metadata": {},
   "outputs": [],
   "source": []
  },
  {
   "cell_type": "code",
   "execution_count": null,
   "id": "2bde92e1",
   "metadata": {},
   "outputs": [],
   "source": [
    "func([1,2,3,4], \"mult\")"
   ]
  },
  {
   "cell_type": "code",
   "execution_count": null,
   "id": "f585f038",
   "metadata": {},
   "outputs": [],
   "source": [
    "func([1,2,3,4], \"max\")"
   ]
  },
  {
   "cell_type": "code",
   "execution_count": null,
   "id": "3575289f",
   "metadata": {},
   "outputs": [],
   "source": [
    "func([1,2,3,4], \"min\")"
   ]
  },
  {
   "cell_type": "code",
   "execution_count": null,
   "id": "80726f92",
   "metadata": {},
   "outputs": [],
   "source": [
    "func([1,2,3,4], \"even\")"
   ]
  },
  {
   "cell_type": "code",
   "execution_count": null,
   "id": "948ae3f6",
   "metadata": {},
   "outputs": [],
   "source": [
    "func([1,2,3,4], \"odd\")"
   ]
  },
  {
   "cell_type": "code",
   "execution_count": null,
   "id": "a8bd0aad",
   "metadata": {},
   "outputs": [],
   "source": [
    " func([1,2,3,4])"
   ]
  },
  {
   "cell_type": "markdown",
   "id": "638591ff",
   "metadata": {},
   "source": [
    "# calculator "
   ]
  },
  {
   "cell_type": "code",
   "execution_count": null,
   "id": "20e2c527",
   "metadata": {},
   "outputs": [],
   "source": [
    "\n",
    "\n",
    "def func(val1,val2,task):\n",
    "    if task==\"+\" or task!=0 :\n",
    "        return val1+val2\n",
    "    elif task==\"-\" or task!=0:\n",
    "        return val1-val2\n",
    "    elif task==\"*\" or task!=0:\n",
    "        return val1*val2   \n",
    "    elif task==\"/\"  or task!=0:\n",
    "        return val1/val2\n",
    "    else:\n",
    "        print(\"wrong operation assign \")"
   ]
  },
  {
   "cell_type": "code",
   "execution_count": null,
   "id": "4dfe9b74",
   "metadata": {},
   "outputs": [],
   "source": []
  },
  {
   "cell_type": "code",
   "execution_count": null,
   "id": "6540ddc6",
   "metadata": {},
   "outputs": [],
   "source": [
    "func(1,0,0)"
   ]
  },
  {
   "cell_type": "code",
   "execution_count": null,
   "id": "90e35443",
   "metadata": {},
   "outputs": [],
   "source": [
    "def greet(name=str)\n",
    "    return name\n",
    "greet(name)  # Not working "
   ]
  },
  {
   "cell_type": "code",
   "execution_count": null,
   "id": "cdaabd6f",
   "metadata": {},
   "outputs": [],
   "source": [
    "# keyword arguments"
   ]
  },
  {
   "cell_type": "code",
   "execution_count": null,
   "id": "62994b30",
   "metadata": {},
   "outputs": [],
   "source": [
    "def  description(age,name,blood_group,gender):\n",
    "    des=f\"\"\"\n",
    "             The name is {name }\n",
    "             The age is {age}\n",
    "             the bloodgroup is {blood_group}\n",
    "             the gender is {gender}\n",
    "             \n",
    "             \"\"\"\n",
    "    print(des)    "
   ]
  },
  {
   "cell_type": "code",
   "execution_count": null,
   "id": "898b812e",
   "metadata": {},
   "outputs": [],
   "source": [
    "description(age=21,name=\"huzaifa\",blood_group= \"O+\",gender =\" male\") # keyword ke through print krwaya hai  v"
   ]
  },
  {
   "cell_type": "code",
   "execution_count": null,
   "id": "04f296ae",
   "metadata": {},
   "outputs": [],
   "source": [
    "def build_person(first_name, last_name):\n",
    "    person = {\"first\":first_name, \"last\":last_name}\n",
    "    return person\n"
   ]
  },
  {
   "cell_type": "code",
   "execution_count": null,
   "id": "e9bd60ea",
   "metadata": {},
   "outputs": [],
   "source": [
    "a=build_person(\"huzaifa\", \"abha\")\n",
    "print(a)"
   ]
  },
  {
   "cell_type": "code",
   "execution_count": null,
   "id": "11019b0b",
   "metadata": {},
   "outputs": [],
   "source": [
    "def build_person(first_name, last_name,age=\"\"):\n",
    "    \n",
    "    person = {\"first\":first_name, \"last\":last_name}\n",
    "    if age:\n",
    "        person[\"age\"]=age\n",
    "    return person"
   ]
  },
  {
   "cell_type": "code",
   "execution_count": null,
   "id": "2349d1d4",
   "metadata": {},
   "outputs": [],
   "source": []
  },
  {
   "cell_type": "code",
   "execution_count": null,
   "id": "016adbec",
   "metadata": {},
   "outputs": [],
   "source": []
  },
  {
   "cell_type": "code",
   "execution_count": null,
   "id": "a6afff58",
   "metadata": {},
   "outputs": [],
   "source": []
  },
  {
   "cell_type": "code",
   "execution_count": null,
   "id": "1b4332f6",
   "metadata": {},
   "outputs": [],
   "source": [
    "a=build_person(\"huzaifa\", \"abha\")\n",
    "print(a)"
   ]
  },
  {
   "cell_type": "code",
   "execution_count": null,
   "id": "2f2ef7cb",
   "metadata": {},
   "outputs": [],
   "source": [
    "#from one list to another list using while loop:\n",
    "\n",
    "list1=[\"car\",\"bicycle\",\"bike\"]\n",
    "list2=[]\n",
    "\n",
    "while list1:\n",
    "    new_list=list1.pop()\n",
    "    \n",
    "    list2.append(new_list)\n",
    "print(\"list2=\",list2)"
   ]
  },
  {
   "cell_type": "markdown",
   "id": "0be8f1cf",
   "metadata": {},
   "source": [
    "## Class 17 "
   ]
  },
  {
   "cell_type": "code",
   "execution_count": null,
   "id": "29b08dd4",
   "metadata": {},
   "outputs": [],
   "source": [
    "Magician=[\"habib\",\"samad\",\"Ali\"]\n",
    "def show_magicians(name):\n",
    "    for name in Magician:\n",
    "        print(name)\n",
    "\n"
   ]
  },
  {
   "cell_type": "code",
   "execution_count": null,
   "id": "49c72f05",
   "metadata": {},
   "outputs": [],
   "source": [
    "show_magicians(Magician)"
   ]
  },
  {
   "cell_type": "code",
   "execution_count": null,
   "id": "29bf2b40",
   "metadata": {},
   "outputs": [],
   "source": [
    " Magician=[\"habib\",\"samad\",\"Ali\"]\n",
    "def Great_magician(name):   \n",
    "    for name in Magician:\n",
    "        \n",
    "        print(\"Great\",name)\n",
    "        "
   ]
  },
  {
   "cell_type": "code",
   "execution_count": null,
   "id": "845ed8a0",
   "metadata": {},
   "outputs": [],
   "source": [
    "Great_magician(Magician)"
   ]
  },
  {
   "cell_type": "code",
   "execution_count": null,
   "id": "10b670e5",
   "metadata": {},
   "outputs": [],
   "source": [
    "Magician=[\"habib\",\"samad\",\"Ali\"]\n",
    "def Great_magician(name):   \n",
    "    for name in Magician:\n",
    "        \n",
    "        print(\"Great\",name)\n",
    "        "
   ]
  },
  {
   "cell_type": "code",
   "execution_count": null,
   "id": "8d56ac3f",
   "metadata": {},
   "outputs": [],
   "source": [
    "# adding great  with al list memeber and modifying list \n",
    "\n",
    "magician=[\"habib\",\"samad\",\"Ali\"]\n",
    "\n",
    "def great_magician(magician):\n",
    "    for  i in range(len(magician)):\n",
    "        magician[i]=\" great \" + magician[i]\n",
    "    "
   ]
  },
  {
   "cell_type": "code",
   "execution_count": null,
   "id": "b202f70d",
   "metadata": {},
   "outputs": [],
   "source": [
    "missing"
   ]
  },
  {
   "cell_type": "markdown",
   "id": "933bed41",
   "metadata": {},
   "source": [
    "## Passing an arbitory number to the function"
   ]
  },
  {
   "cell_type": "code",
   "execution_count": null,
   "id": "6d94c7f2",
   "metadata": {},
   "outputs": [],
   "source": [
    "def make_pizza(*topping):  # using steric can take multiple argument \n",
    "    print(topping)\n",
    "make_pizza(\"mushroom\", \"paperroni\")\n"
   ]
  },
  {
   "cell_type": "code",
   "execution_count": null,
   "id": "e689d318",
   "metadata": {},
   "outputs": [],
   "source": [
    "def build_profile(first,last,**user_info):  ### mutiple argument save in dictionary\n",
    "    profile ={}\n",
    "    profile[\"first name\"]=first\n",
    "    profile[\"Last name\"]=last\n",
    "\n",
    "    for key,value in user_info.items():\n",
    "        profile[key]=value\n",
    "    return profile"
   ]
  },
  {
   "cell_type": "code",
   "execution_count": null,
   "id": "e47d9157",
   "metadata": {},
   "outputs": [],
   "source": [
    "a=build_profile(\"huzaifa\",\"abha\", location=\"karachi\",course='SMIT')\n",
    "print(a)"
   ]
  },
  {
   "cell_type": "code",
   "execution_count": null,
   "id": "e918220b",
   "metadata": {},
   "outputs": [],
   "source": [
    "#Question1\n",
    "\n",
    "def sandwich(*items):\n",
    "    print(f\"the sandwich include {list(items)}\")\n",
    "sandwich(\"bread\",\"tomoto\",\"cucumber\")"
   ]
  },
  {
   "cell_type": "code",
   "execution_count": null,
   "id": "601fa815",
   "metadata": {},
   "outputs": [],
   "source": [
    " #Question 3\n",
    "    \n",
    "def car_manufacture(manufacture ,Model,**user_info): # mutiple argument save in dictionary\n",
    "        Car ={}\n",
    "        Car[\"Manufacture_name \"]=manufacture\n",
    "        Car[\"Model name\"]=Model\n",
    "\n",
    "        for key,value in user_info.items():\n",
    "            Car[key]=value\n",
    "        return Car"
   ]
  },
  {
   "cell_type": "code",
   "execution_count": null,
   "id": "2b41502b",
   "metadata": {},
   "outputs": [],
   "source": [
    "a=car_manufacture(\"honda\",\"x6511b\", color=\"grey\",mode=\"auto\")\n",
    "print(a)"
   ]
  },
  {
   "cell_type": "markdown",
   "id": "52957547",
   "metadata": {},
   "source": [
    "# Class 18"
   ]
  },
  {
   "cell_type": "markdown",
   "id": "790f6a83",
   "metadata": {},
   "source": [
    "# Modules"
   ]
  },
  {
   "cell_type": "code",
   "execution_count": null,
   "id": "6a2c3d81",
   "metadata": {},
   "outputs": [],
   "source": [
    "Modules may have classes and fuction"
   ]
  },
  {
   "cell_type": "code",
   "execution_count": null,
   "id": "47b2c1f7",
   "metadata": {},
   "outputs": [],
   "source": [
    "#import math ( this is module)"
   ]
  },
  {
   "cell_type": "code",
   "execution_count": null,
   "id": "1ae6dcac",
   "metadata": {},
   "outputs": [],
   "source": [
    "import math"
   ]
  },
  {
   "cell_type": "code",
   "execution_count": null,
   "id": "6e280c38",
   "metadata": {},
   "outputs": [],
   "source": [
    "from math import ceil  # modul"
   ]
  },
  {
   "cell_type": "code",
   "execution_count": null,
   "id": "b72ca170",
   "metadata": {},
   "outputs": [],
   "source": [
    "import mymath.py"
   ]
  },
  {
   "cell_type": "code",
   "execution_count": null,
   "id": "df29e56a",
   "metadata": {},
   "outputs": [],
   "source": [
    "#this below function has made on visual studio and then run in jupyter by adding in notebook. Both "
   ]
  },
  {
   "cell_type": "code",
   "execution_count": null,
   "id": "cd749e62",
   "metadata": {},
   "outputs": [],
   "source": [
    "# %load mymath.py\n",
    "def addition (*numbers):\n",
    "    '''\n",
    "    It can take arbitrary number of arguments\n",
    "    Return the sum of all numbers provided\n",
    "\n",
    "              \n",
    "    '''\n",
    "    if len(numbers)==0:\n",
    "        return \"give at least two parameters\"\n",
    "    else:\n",
    "        return sum(numbers)\n",
    "\n",
    "def exponent(num,exp):\n",
    "    return (num**exp)\n",
    "    \n"
   ]
  },
  {
   "cell_type": "code",
   "execution_count": null,
   "id": "5c03f73b",
   "metadata": {},
   "outputs": [],
   "source": [
    "%run mymath.py"
   ]
  },
  {
   "cell_type": "code",
   "execution_count": null,
   "id": "6f274bef",
   "metadata": {},
   "outputs": [],
   "source": [
    "import mymath\n"
   ]
  },
  {
   "cell_type": "code",
   "execution_count": null,
   "id": "d4c22f54",
   "metadata": {},
   "outputs": [],
   "source": [
    "mymath.addition(1,2,3,4,5,6,7,9)"
   ]
  },
  {
   "cell_type": "code",
   "execution_count": null,
   "id": "05b40d1b",
   "metadata": {},
   "outputs": [],
   "source": [
    "mymath.exponent(2,3)"
   ]
  },
  {
   "cell_type": "code",
   "execution_count": null,
   "id": "e21eeeb6",
   "metadata": {},
   "outputs": [],
   "source": [
    "from mymath import addition\n"
   ]
  },
  {
   "cell_type": "code",
   "execution_count": null,
   "id": "0f7843a9",
   "metadata": {},
   "outputs": [],
   "source": [
    "addition(1,2,3)"
   ]
  },
  {
   "cell_type": "code",
   "execution_count": null,
   "id": "5c557ff3",
   "metadata": {},
   "outputs": [],
   "source": [
    "import math \n",
    "def countcharacter(para):\n",
    "    return count(para)"
   ]
  },
  {
   "cell_type": "code",
   "execution_count": null,
   "id": "54457ff6",
   "metadata": {},
   "outputs": [],
   "source": [
    "countcharacter(\"para is\")"
   ]
  },
  {
   "cell_type": "code",
   "execution_count": null,
   "id": "492f1d75",
   "metadata": {},
   "outputs": [],
   "source": [
    "import math\n",
    "mymath."
   ]
  },
  {
   "cell_type": "code",
   "execution_count": null,
   "id": "074eb304",
   "metadata": {},
   "outputs": [],
   "source": [
    "# %load mymath.py\n",
    "def addition (*numbers):\n",
    "    '''\n",
    "    It can take arbitrary number of arguments\n",
    "    Return the sum of all numbers provided\n",
    "\n",
    "              \n",
    "    '''\n",
    "    if len(numbers)==0:\n",
    "        return \"give at least two parameters\"\n",
    "    else:\n",
    "        return sum(numbers)\n",
    "\n",
    "def exponent(num,exp):\n",
    "    return (num**exp)\n",
    "    \n"
   ]
  },
  {
   "cell_type": "code",
   "execution_count": null,
   "id": "78fbf585",
   "metadata": {},
   "outputs": [],
   "source": [
    "mymath.para('thi is ')"
   ]
  },
  {
   "cell_type": "code",
   "execution_count": null,
   "id": "e3763881",
   "metadata": {},
   "outputs": [],
   "source": [
    "# %load mymath.py\n",
    "def addition (*numbers):\n",
    "    '''\n",
    "    It can take arbitrary number of arguments\n",
    "    Return the sum of all numbers provided\n",
    "\n",
    "              \n",
    "    '''\n",
    "    if len(numbers)==0:\n",
    "        return \"give at least two parameters\"\n",
    "    else:\n",
    "        return sum(numbers)\n",
    "\n",
    "def exponent(num,exp):\n",
    "    return (num**exp)\n",
    "    \n"
   ]
  },
  {
   "cell_type": "code",
   "execution_count": null,
   "id": "2d8fd3be",
   "metadata": {},
   "outputs": [],
   "source": [
    "# %load mymath.py\n",
    "def addition (*numbers):\n",
    "    '''\n",
    "    It can take arbitrary number of arguments\n",
    "    Return the sum of all numbers provided\n",
    "\n",
    "              \n",
    "    '''\n",
    "    if len(numbers)==0:\n",
    "        return \"give at least two parameters\"\n",
    "    else:\n",
    "        return sum(numbers)\n",
    "\n",
    "def exponent(num,exp):\n",
    "    return (num**exp)\n",
    "    \n"
   ]
  },
  {
   "cell_type": "code",
   "execution_count": null,
   "id": "0aeaecdc",
   "metadata": {},
   "outputs": [],
   "source": [
    "#Count Character without spaces \n",
    "\n",
    "def countcharacter(para):\n",
    "    a=\"\".join(para.split(\" \"))\n",
    "    return len(a) \n",
    "        \n",
    "        \n",
    "    "
   ]
  },
  {
   "cell_type": "code",
   "execution_count": null,
   "id": "6d340874",
   "metadata": {},
   "outputs": [],
   "source": [
    "countcharacter(\"huzaifa abha abha\")"
   ]
  },
  {
   "cell_type": "code",
   "execution_count": null,
   "id": "9e0e3047",
   "metadata": {},
   "outputs": [],
   "source": [
    "# Count Spaces \n",
    "def countspaces(spaces):\n",
    "    count=0\n",
    "    for x in spaces:\n",
    "        if x==\" \":\n",
    "            count=count+1\n",
    "        \n",
    "    return count    \n",
    "            \n",
    "            \n",
    " "
   ]
  },
  {
   "cell_type": "code",
   "execution_count": null,
   "id": "a1a979a8",
   "metadata": {},
   "outputs": [],
   "source": [
    "countspaces(\"thi is huzaifa\")"
   ]
  },
  {
   "cell_type": "code",
   "execution_count": null,
   "id": "2fe914c6",
   "metadata": {},
   "outputs": [],
   "source": [
    "def countspaces(spaces):\n",
    "    count=0\n",
    "    for x in spaces:\n",
    "        if x==\" \":\n",
    "            count=count+1\n",
    "        \n",
    "    return count    \n",
    "            "
   ]
  },
  {
   "cell_type": "markdown",
   "id": "93bc7cf1",
   "metadata": {},
   "source": [
    "## Class 19"
   ]
  },
  {
   "cell_type": "markdown",
   "id": "3369fbb6",
   "metadata": {},
   "source": [
    "##OOPS"
   ]
  },
  {
   "cell_type": "code",
   "execution_count": null,
   "id": "3b57ed2e",
   "metadata": {},
   "outputs": [],
   "source": [
    "# java is first object oriented language\n",
    "## if anything have a object it must have a class\n",
    "what is class:\n",
    "   # A Class in object oriented programming is a blueprint or prototype that defines the variables and the methods (functions) common to all Java Objects of a certain kind.\n",
    "\n",
    "#An object in OOPS is a specimen of a class. Software objects are often used to model real-world objects you find in everyday life\n",
    "\n",
    "#Example : lets take a bottle\n",
    "#Class  Phone\n",
    "#Object or features : Scrren size , color, dimension,weight\n",
    "#behaviour : call rec , call doing"
   ]
  },
  {
   "cell_type": "code",
   "execution_count": null,
   "id": "03364dfb",
   "metadata": {},
   "outputs": [],
   "source": [
    "class Student(): \n",
    "    roll_no = 100   #all the variables in oops are features, attributes, characteristics and properties\n",
    "    name = \"huzaifa\" #all the functions in oops are behaviors, actions and methods\n",
    "    course = \"SMIT\"   ## ye tamam variable class type variable hai\n",
    "    \n",
    "    def study(self):\n",
    "        print(\"student is studying\")\n",
    "    def exam(self):\n",
    "        print(\"student is studying\")\n",
    "    def fee(self):\n",
    "        print(\"student is fee\")\n"
   ]
  },
  {
   "cell_type": "code",
   "execution_count": null,
   "id": "b0cb343e",
   "metadata": {},
   "outputs": [],
   "source": [
    "Student"
   ]
  },
  {
   "cell_type": "code",
   "execution_count": null,
   "id": "04e2dc1b",
   "metadata": {},
   "outputs": [],
   "source": [
    "s1=Student  # assigning object\n"
   ]
  },
  {
   "cell_type": "code",
   "execution_count": null,
   "id": "e1f1d6ca",
   "metadata": {},
   "outputs": [],
   "source": [
    "s1.name"
   ]
  },
  {
   "cell_type": "code",
   "execution_count": null,
   "id": "851d4aa7",
   "metadata": {},
   "outputs": [],
   "source": [
    "s1.roll_no"
   ]
  },
  {
   "cell_type": "code",
   "execution_count": null,
   "id": "a62c9631",
   "metadata": {},
   "outputs": [],
   "source": [
    "s1.course"
   ]
  },
  {
   "cell_type": "code",
   "execution_count": null,
   "id": "830d31d6",
   "metadata": {},
   "outputs": [],
   "source": [
    "s1.study()"
   ]
  },
  {
   "cell_type": "code",
   "execution_count": null,
   "id": "210753a2",
   "metadata": {},
   "outputs": [],
   "source": [
    "s1.fee()"
   ]
  },
  {
   "cell_type": "code",
   "execution_count": null,
   "id": "87cb025a",
   "metadata": {},
   "outputs": [],
   "source": [
    "s2= Student\n",
    "\n"
   ]
  },
  {
   "cell_type": "code",
   "execution_count": null,
   "id": "c4132050",
   "metadata": {},
   "outputs": [],
   "source": [
    "s2.name   # ye same name deraha hai kyun ke calss me fixed name se save hai"
   ]
  },
  {
   "cell_type": "code",
   "execution_count": null,
   "id": "e5bc89e7",
   "metadata": {},
   "outputs": [],
   "source": [
    "class patient():\n",
    "    ID=1201\n",
    "    name=\"asad\"\n",
    "    disease=\"malaria\"\n",
    "    \n",
    "    def rest(self,):\n",
    "        print(\" patient is rest\")\n",
    "    def eat(self):\n",
    "        print(\" patient is eating\")"
   ]
  },
  {
   "cell_type": "code",
   "execution_count": null,
   "id": "6a74d89f",
   "metadata": {},
   "outputs": [],
   "source": [
    "s2=patient"
   ]
  },
  {
   "cell_type": "code",
   "execution_count": null,
   "id": "94fb9fa6",
   "metadata": {},
   "outputs": [],
   "source": [
    "s2.name"
   ]
  },
  {
   "cell_type": "code",
   "execution_count": null,
   "id": "f161bd36",
   "metadata": {},
   "outputs": [],
   "source": [
    "## Dynamic "
   ]
  },
  {
   "cell_type": "code",
   "execution_count": null,
   "id": "9ac65d80",
   "metadata": {},
   "outputs": [],
   "source": [
    "class students():\n",
    "    def __init__(self,name,roll,course):   # pehla walay parameter object ke liye use houta aur wo hum koi bhi desktay hain\n",
    "        self.name= name\n",
    "        self.roll= roll\n",
    "        self.course= course\n",
    "        \n",
    "    def study(self):\n",
    "        print(f\"{self.name} is studying\")\n",
    "    def exam(self):\n",
    "        print(f\"{self.name} is taking exam\")\n",
    "    def fee(self):\n",
    "        print(f\"{self.name} is giving fee\")\n",
    "        \n",
    "    "
   ]
  },
  {
   "cell_type": "code",
   "execution_count": null,
   "id": "5758f9f9",
   "metadata": {},
   "outputs": [],
   "source": []
  },
  {
   "cell_type": "code",
   "execution_count": null,
   "id": "95e5ffad",
   "metadata": {},
   "outputs": [],
   "source": [
    "s1=students(\"huzaifa\",1,\"SMIT\")"
   ]
  },
  {
   "cell_type": "code",
   "execution_count": null,
   "id": "86c772d2",
   "metadata": {},
   "outputs": [],
   "source": [
    "s2=students(\"asad\",2,\"SMIT\")"
   ]
  },
  {
   "cell_type": "code",
   "execution_count": null,
   "id": "9852209a",
   "metadata": {},
   "outputs": [],
   "source": [
    "s2.name     #"
   ]
  },
  {
   "cell_type": "code",
   "execution_count": null,
   "id": "4f57b5ed",
   "metadata": {},
   "outputs": [],
   "source": [
    "s1.exam()"
   ]
  },
  {
   "cell_type": "code",
   "execution_count": null,
   "id": "9c569491",
   "metadata": {},
   "outputs": [],
   "source": [
    "s1.fee()"
   ]
  },
  {
   "cell_type": "code",
   "execution_count": 15,
   "id": "5b5af226",
   "metadata": {},
   "outputs": [],
   "source": [
    "class Patient():\n",
    "    def __init__(self,ID,name,disease):\n",
    "        \n",
    "        self.ID=ID\n",
    "        self.name=name\n",
    "        self.disease=disease\n",
    "    \n",
    "    def rest(self):\n",
    "        print(f\"{self.name} is doing rest \")\n",
    "    def eat(self):\n",
    "        print(f\"{self.name} is doing eating \")"
   ]
  },
  {
   "cell_type": "code",
   "execution_count": null,
   "id": "1c5917c9",
   "metadata": {},
   "outputs": [],
   "source": []
  },
  {
   "cell_type": "code",
   "execution_count": 16,
   "id": "85d8c635",
   "metadata": {},
   "outputs": [],
   "source": [
    "s1=Patient(121,\"huzaifa\",\"Malria\")"
   ]
  },
  {
   "cell_type": "code",
   "execution_count": null,
   "id": "f7d5920f",
   "metadata": {},
   "outputs": [],
   "source": []
  },
  {
   "cell_type": "code",
   "execution_count": 8,
   "id": "df69f680",
   "metadata": {},
   "outputs": [
    {
     "data": {
      "text/plain": [
       "'huzaifa'"
      ]
     },
     "execution_count": 8,
     "metadata": {},
     "output_type": "execute_result"
    }
   ],
   "source": [
    "s1.name"
   ]
  },
  {
   "cell_type": "code",
   "execution_count": 9,
   "id": "14c5be24",
   "metadata": {},
   "outputs": [
    {
     "data": {
      "text/plain": [
       "121"
      ]
     },
     "execution_count": 9,
     "metadata": {},
     "output_type": "execute_result"
    }
   ],
   "source": [
    "s1.ID"
   ]
  },
  {
   "cell_type": "code",
   "execution_count": 10,
   "id": "1391db0f",
   "metadata": {},
   "outputs": [
    {
     "data": {
      "text/plain": [
       "'Malria'"
      ]
     },
     "execution_count": 10,
     "metadata": {},
     "output_type": "execute_result"
    }
   ],
   "source": [
    "s1.disease"
   ]
  },
  {
   "cell_type": "markdown",
   "id": "44b66333",
   "metadata": {},
   "source": [
    "## Class 19"
   ]
  },
  {
   "cell_type": "code",
   "execution_count": null,
   "id": "152e718d",
   "metadata": {},
   "outputs": [],
   "source": [
    "#9-1. Restaurant: Make a class called Restaurant. The __init__() method for\n",
    "#Restaurant should store two attributes: a restaurant_name and a cuisine_type.\n",
    "#Make a method called describe_restaurant() that prints these two pieces of\n",
    "#information, and a method called open_restaurant() that prints a message indicating that the restaurant is open.\n",
    "#Make an instance called restaur"
   ]
  },
  {
   "cell_type": "code",
   "execution_count": 36,
   "id": "b8c69e8f",
   "metadata": {},
   "outputs": [],
   "source": [
    "class Restaurant():\n",
    "    def __init__(self,restaurant_name,cuisine_type):\n",
    "        self.restaurant_name=restaurant_name\n",
    "        self.cuisine_type=cuisine_type\n",
    "    \n",
    "    def describe_restaurant(self):\n",
    "        print(f\"\"\"\n",
    "            Welcome\n",
    "           Restaurant name :{self.restaurant_name}\n",
    "           Cuisine type :{self.cuisine_type}\n",
    "               \n",
    "            \"\"\")\n",
    "    def open_restaurant(self):\n",
    "        print(f\"\"\"\n",
    "               {self.restaurant_name} is open\n",
    "               \n",
    "               \"\"\")"
   ]
  },
  {
   "cell_type": "code",
   "execution_count": null,
   "id": "6c7d578b",
   "metadata": {},
   "outputs": [],
   "source": []
  },
  {
   "cell_type": "code",
   "execution_count": 37,
   "id": "5a3e3a0f",
   "metadata": {},
   "outputs": [],
   "source": [
    "res1=Restaurant(\"new quetta\",\"game\")\n",
    "res2=Restaurant(\"quetta\",\"Tea\")                       "
   ]
  },
  {
   "cell_type": "code",
   "execution_count": null,
   "id": "e2bed5a6",
   "metadata": {},
   "outputs": [],
   "source": []
  },
  {
   "cell_type": "code",
   "execution_count": 38,
   "id": "601c2eae",
   "metadata": {},
   "outputs": [
    {
     "name": "stdout",
     "output_type": "stream",
     "text": [
      "\n",
      "            Welcome\n",
      "           Restaurant name :quetta\n",
      "           Cuisine type :Tea\n",
      "               \n",
      "            \n"
     ]
    }
   ],
   "source": [
    "res2.describe_restaurant()"
   ]
  },
  {
   "cell_type": "code",
   "execution_count": 62,
   "id": "be0e668d",
   "metadata": {},
   "outputs": [],
   "source": [
    "## Default value in parameter \n",
    "class Mobile():\n",
    "    def __init__(self,brand,model,color=\"black\"):\n",
    "        self.brand=brand\n",
    "        self.model=model\n",
    "        self.color=color\n",
    "        self.usuage=\"10 mB\"\n",
    "    def call(self,contact):\n",
    "        print(f\"\"\"\n",
    "            My {self.brand} {self.model} {self.color} {self.usuage} {contact}\n",
    "            \"\"\")"
   ]
  },
  {
   "cell_type": "code",
   "execution_count": 63,
   "id": "efd6d68d",
   "metadata": {},
   "outputs": [],
   "source": [
    "mob1=Mobile(\"Infinix\",\"X6817\")"
   ]
  },
  {
   "cell_type": "code",
   "execution_count": 64,
   "id": "111fb8a9",
   "metadata": {},
   "outputs": [
    {
     "name": "stdout",
     "output_type": "stream",
     "text": [
      "\n",
      "            My Infinix X6817 black 10 mB 15\n",
      "            \n"
     ]
    }
   ],
   "source": [
    "mob1.call(\"15\")"
   ]
  },
  {
   "cell_type": "code",
   "execution_count": 72,
   "id": "f2492350",
   "metadata": {},
   "outputs": [],
   "source": [
    "class Car(): \n",
    "    def __init__(self, make, model, year):\n",
    "        self.make = make\n",
    "        self.model = model\n",
    "        self.year = year\n",
    "        self.odometer_reading = 0 \n",
    "    def get_descriptive_name(self): \n",
    "        long_name = str(self.year) + ' ' + self.make + ' ' + self.model\n",
    "        return long_name.title()    \n",
    "    def get_odometer_reading(self): \n",
    "        return self.odometer_reading    \n",
    "    def set_odometer_reading(self,new_reading):\n",
    "        if new_reading<0:\n",
    "            print(\"Abnormal Reading\")\n",
    "        else:\n",
    "            self.odometer_reading = new_reading"
   ]
  },
  {
   "cell_type": "code",
   "execution_count": 73,
   "id": "df7a50d8",
   "metadata": {},
   "outputs": [],
   "source": [
    "car1=Car(\"Suzuki\",\"Mehran\",2012)"
   ]
  },
  {
   "cell_type": "code",
   "execution_count": 74,
   "id": "9c978308",
   "metadata": {},
   "outputs": [
    {
     "data": {
      "text/plain": [
       "'2012 Suzuki Mehran'"
      ]
     },
     "execution_count": 74,
     "metadata": {},
     "output_type": "execute_result"
    }
   ],
   "source": [
    "car1.get_descriptive_name()"
   ]
  },
  {
   "cell_type": "code",
   "execution_count": 79,
   "id": "7c8765b6",
   "metadata": {},
   "outputs": [
    {
     "data": {
      "text/plain": [
       "25"
      ]
     },
     "execution_count": 79,
     "metadata": {},
     "output_type": "execute_result"
    }
   ],
   "source": [
    "car1.get_odometer_reading()"
   ]
  },
  {
   "cell_type": "code",
   "execution_count": 80,
   "id": "75f59d2d",
   "metadata": {},
   "outputs": [
    {
     "name": "stdout",
     "output_type": "stream",
     "text": [
      "Abnormal Reading\n"
     ]
    }
   ],
   "source": [
    "car1.set_odometer_reading(-10)"
   ]
  },
  {
   "cell_type": "code",
   "execution_count": 81,
   "id": "1b6858a5",
   "metadata": {},
   "outputs": [
    {
     "data": {
      "text/plain": [
       "25"
      ]
     },
     "execution_count": 81,
     "metadata": {},
     "output_type": "execute_result"
    }
   ],
   "source": [
    "car1.get_odometer_reading()"
   ]
  },
  {
   "cell_type": "markdown",
   "id": "dbd2e6da",
   "metadata": {},
   "source": [
    "# Class 22"
   ]
  },
  {
   "cell_type": "code",
   "execution_count": null,
   "id": "a41cbd48",
   "metadata": {},
   "outputs": [],
   "source": [
    "Inheritance\n",
    "\n",
    "# In[ ]:\n",
    "\n",
    "\n",
    "## Class 22 (28th june)\n",
    "\n",
    "\n",
    "# class Institute():\n",
    "#     def __init__(self,name,no_of_teachers,departments,ranking,facilities):\n",
    "#         self.name=name\n",
    "#         self.no_of_teachers=no_of_teachers\n",
    "#         self.departments=departments\n",
    "#         self.ranking=ranking\n",
    "#         self.facilities=facilities\n",
    "#     def describe_intitute(self):\n",
    "#         print(f\"\"\"\n",
    "#                {self.name}\n",
    "#               {self.no_of_teachers} \n",
    "#               {self.department} \n",
    "#               {self.rankng} \n",
    "#               {self.facilities}\n",
    "#         \n",
    "#         \n",
    "#         \n",
    "#         \n",
    "#              \"\"\"\n",
    "#               \n",
    "#                  )\n",
    "#         \n",
    "#     def opened(self):\n",
    "#         print(f\"{self.name} is open\")\n",
    "#     def Closed(self):\n",
    "#         print(f\"{self.name} is Closed \")   \n",
    "#     \n",
    "\n",
    "# institute1=Institute(\"NED\",\"100\",\"25\",\"8\",\"internet\")\n",
    "\n",
    "# In[16]:\n",
    "\n",
    "\n",
    "institute1.Closed()\n",
    "\n",
    "\n",
    "# In[17]:\n",
    "\n",
    "\n",
    "class acha_institute(Institute):\n",
    "    pass\n",
    "\n",
    "\n",
    "# In[22]:\n",
    "\n",
    "\n",
    "ac1=acha_institute(\"NEeeeeD\",100,25,8,\"internet\")\n",
    "\n",
    "\n",
    "# In[ ]:\n",
    "\n",
    "\n",
    "\n",
    "\n",
    "\n",
    "# In[41]:\n",
    "\n",
    "\n",
    "ac1.\n",
    "\n",
    "\n",
    "# In[49]:\n",
    "\n",
    "\n",
    "class Car():\n",
    " \n",
    "    def __init__(self, make, model, year):\n",
    "        self.make = make\n",
    "        self.model = model\n",
    "        self.year = year\n",
    "        self.odometer_reading = 0\n",
    "\n",
    "    def get_descriptive_name(self):\n",
    "        long_name = str(self.year) + ' ' + self.make + ' ' + self.model\n",
    "        return long_name.title()\n",
    "\n",
    "    def read_odometer(self):\n",
    "        print(\"This car has \" + str(self.odometer_reading) + \" miles on it.\")\n",
    "\n",
    "    def update_odometer(self, mileage):\n",
    "        if mileage >= self.odometer_reading:\n",
    "            self.odometer_reading = mileage\n",
    "        else:\n",
    "            print(\"You can't roll back an odometer!\")\n",
    "\n",
    "    def increment_odometer(self, miles):\n",
    "        self.odometer_reading += miles\n",
    "\n",
    "\n",
    "# In[50]:\n",
    "\n",
    "\n",
    "car1=Car(\"honda\",\"GLI\",\"2008\")\n",
    "\n",
    "\n",
    "# In[51]:\n",
    "\n",
    "\n",
    "achi_car=Car(\"honda\",\"GLI\",\"2008\")\n",
    "\n",
    "\n",
    "# In[52]:\n",
    "\n",
    "\n",
    "class achi_car(Car):\n",
    "    \n",
    "    pass \n",
    "\n",
    "\n",
    "# In[53]:\n",
    "\n",
    "\n",
    "achi_car.\n",
    "\n",
    "\n",
    "# # Defining atrributes and Methods for the child class \n",
    "\n",
    "# In[34]:\n",
    "\n",
    "\n",
    "class ElectricCar(Car):\n",
    "    def __init__(self, make, model, year):\n",
    " \n",
    "        super().__init__(make, model, year)\n",
    "        #super()takes you to the parent class initializer\n",
    "        \n",
    "        self.battery_size=70\n",
    "        \n",
    "    def describe_battery(self):\n",
    "        print(\"This car has a \" +str(self.battery_size) + \" kwh battery\")\n",
    "    def fill_gas_tank (self):\n",
    "        print(\" This car doesnot need a gas tank\")\n",
    "    \n",
    "\n",
    "\n",
    "# In[30]:\n",
    "\n",
    "\n",
    "ac1=ElectricCar(\"Electric\",\"Gli\",2022)\n",
    "\n",
    "\n",
    "# In[36]:\n",
    "\n",
    "\n",
    "ac1.describe_battery()\n",
    "\n",
    "\n",
    "# In[37]:\n",
    "\n",
    "\n",
    "ac1.fill_gas_tank()\n",
    "\n",
    "\n",
    "# In[ ]:\n",
    "\n",
    "\n",
    "#instance as attributes \n",
    "\n"
   ]
  },
  {
   "cell_type": "code",
   "execution_count": null,
   "id": "f91cd609",
   "metadata": {},
   "outputs": [],
   "source": []
  },
  {
   "cell_type": "code",
   "execution_count": null,
   "id": "af895b3a",
   "metadata": {},
   "outputs": [],
   "source": []
  },
  {
   "cell_type": "code",
   "execution_count": null,
   "id": "f3e295be",
   "metadata": {},
   "outputs": [],
   "source": []
  },
  {
   "cell_type": "code",
   "execution_count": null,
   "id": "1fbdbec2",
   "metadata": {},
   "outputs": [],
   "source": []
  },
  {
   "cell_type": "code",
   "execution_count": null,
   "id": "3e61a6b5",
   "metadata": {},
   "outputs": [],
   "source": []
  },
  {
   "cell_type": "code",
   "execution_count": null,
   "id": "ac9b9301",
   "metadata": {},
   "outputs": [],
   "source": []
  },
  {
   "cell_type": "code",
   "execution_count": null,
   "id": "b4b8bf93",
   "metadata": {},
   "outputs": [],
   "source": []
  },
  {
   "cell_type": "code",
   "execution_count": null,
   "id": "9d306401",
   "metadata": {},
   "outputs": [],
   "source": []
  },
  {
   "cell_type": "code",
   "execution_count": null,
   "id": "216265a6",
   "metadata": {},
   "outputs": [],
   "source": []
  },
  {
   "cell_type": "code",
   "execution_count": null,
   "id": "17fbcac3",
   "metadata": {},
   "outputs": [],
   "source": []
  },
  {
   "cell_type": "code",
   "execution_count": null,
   "id": "5da5e9bb",
   "metadata": {},
   "outputs": [],
   "source": []
  },
  {
   "cell_type": "code",
   "execution_count": null,
   "id": "1356c854",
   "metadata": {},
   "outputs": [],
   "source": []
  },
  {
   "cell_type": "code",
   "execution_count": null,
   "id": "e76ebf05",
   "metadata": {},
   "outputs": [],
   "source": []
  },
  {
   "cell_type": "code",
   "execution_count": null,
   "id": "91fb44b8",
   "metadata": {},
   "outputs": [],
   "source": []
  },
  {
   "cell_type": "code",
   "execution_count": null,
   "id": "3e342941",
   "metadata": {},
   "outputs": [],
   "source": []
  },
  {
   "cell_type": "code",
   "execution_count": null,
   "id": "4c080629",
   "metadata": {},
   "outputs": [],
   "source": []
  },
  {
   "cell_type": "code",
   "execution_count": null,
   "id": "2876fd19",
   "metadata": {},
   "outputs": [],
   "source": []
  },
  {
   "cell_type": "code",
   "execution_count": null,
   "id": "113704dd",
   "metadata": {},
   "outputs": [],
   "source": []
  },
  {
   "cell_type": "code",
   "execution_count": null,
   "id": "59c227d0",
   "metadata": {},
   "outputs": [],
   "source": []
  },
  {
   "cell_type": "code",
   "execution_count": null,
   "id": "322a3804",
   "metadata": {},
   "outputs": [],
   "source": []
  },
  {
   "cell_type": "code",
   "execution_count": null,
   "id": "23a3b6cb",
   "metadata": {},
   "outputs": [],
   "source": []
  },
  {
   "cell_type": "code",
   "execution_count": null,
   "id": "8e89c079",
   "metadata": {},
   "outputs": [],
   "source": []
  },
  {
   "cell_type": "code",
   "execution_count": null,
   "id": "1a8cf423",
   "metadata": {},
   "outputs": [],
   "source": []
  },
  {
   "cell_type": "code",
   "execution_count": null,
   "id": "5d40095f",
   "metadata": {},
   "outputs": [],
   "source": []
  },
  {
   "cell_type": "code",
   "execution_count": null,
   "id": "b26eb877",
   "metadata": {},
   "outputs": [],
   "source": []
  },
  {
   "cell_type": "code",
   "execution_count": null,
   "id": "a36d74d1",
   "metadata": {},
   "outputs": [],
   "source": []
  },
  {
   "cell_type": "code",
   "execution_count": null,
   "id": "38009409",
   "metadata": {},
   "outputs": [],
   "source": []
  },
  {
   "cell_type": "code",
   "execution_count": null,
   "id": "0afc18c3",
   "metadata": {},
   "outputs": [],
   "source": []
  },
  {
   "cell_type": "code",
   "execution_count": null,
   "id": "c1f4df28",
   "metadata": {},
   "outputs": [],
   "source": []
  },
  {
   "cell_type": "code",
   "execution_count": null,
   "id": "3256ffba",
   "metadata": {},
   "outputs": [],
   "source": []
  },
  {
   "cell_type": "code",
   "execution_count": null,
   "id": "d2a808de",
   "metadata": {},
   "outputs": [],
   "source": []
  },
  {
   "cell_type": "code",
   "execution_count": null,
   "id": "06dccb2b",
   "metadata": {},
   "outputs": [],
   "source": []
  },
  {
   "cell_type": "code",
   "execution_count": null,
   "id": "7ae0c5da",
   "metadata": {},
   "outputs": [],
   "source": [
    "\n"
   ]
  },
  {
   "cell_type": "code",
   "execution_count": null,
   "id": "fb613d6a",
   "metadata": {},
   "outputs": [],
   "source": []
  },
  {
   "cell_type": "code",
   "execution_count": null,
   "id": "e1234900",
   "metadata": {},
   "outputs": [],
   "source": []
  },
  {
   "cell_type": "code",
   "execution_count": null,
   "id": "cf0abd5d",
   "metadata": {},
   "outputs": [],
   "source": []
  },
  {
   "cell_type": "code",
   "execution_count": null,
   "id": "a296f008",
   "metadata": {},
   "outputs": [],
   "source": []
  },
  {
   "cell_type": "code",
   "execution_count": null,
   "id": "a81a6230",
   "metadata": {},
   "outputs": [],
   "source": []
  },
  {
   "cell_type": "code",
   "execution_count": null,
   "id": "0ac84cfe",
   "metadata": {},
   "outputs": [],
   "source": []
  },
  {
   "cell_type": "code",
   "execution_count": null,
   "id": "8379fef5",
   "metadata": {},
   "outputs": [],
   "source": [
    "Student\n"
   ]
  },
  {
   "cell_type": "code",
   "execution_count": null,
   "id": "56b3d2ca",
   "metadata": {},
   "outputs": [],
   "source": []
  },
  {
   "cell_type": "code",
   "execution_count": null,
   "id": "c9d5392d",
   "metadata": {},
   "outputs": [],
   "source": []
  },
  {
   "cell_type": "code",
   "execution_count": null,
   "id": "fef0a778",
   "metadata": {},
   "outputs": [],
   "source": []
  },
  {
   "cell_type": "code",
   "execution_count": null,
   "id": "8915535f",
   "metadata": {},
   "outputs": [],
   "source": []
  },
  {
   "cell_type": "code",
   "execution_count": null,
   "id": "ac91ae6e",
   "metadata": {},
   "outputs": [],
   "source": []
  },
  {
   "cell_type": "code",
   "execution_count": null,
   "id": "334edc60",
   "metadata": {},
   "outputs": [],
   "source": []
  },
  {
   "cell_type": "code",
   "execution_count": null,
   "id": "c9274022",
   "metadata": {},
   "outputs": [],
   "source": []
  },
  {
   "cell_type": "code",
   "execution_count": null,
   "id": "3cb9206d",
   "metadata": {},
   "outputs": [],
   "source": []
  },
  {
   "cell_type": "code",
   "execution_count": null,
   "id": "88530963",
   "metadata": {},
   "outputs": [],
   "source": []
  },
  {
   "cell_type": "code",
   "execution_count": null,
   "id": "2e1dcaf7",
   "metadata": {},
   "outputs": [],
   "source": []
  },
  {
   "cell_type": "code",
   "execution_count": null,
   "id": "1092498a",
   "metadata": {},
   "outputs": [],
   "source": []
  },
  {
   "cell_type": "code",
   "execution_count": null,
   "id": "29900903",
   "metadata": {},
   "outputs": [],
   "source": []
  },
  {
   "cell_type": "code",
   "execution_count": null,
   "id": "d3874517",
   "metadata": {},
   "outputs": [],
   "source": []
  },
  {
   "cell_type": "code",
   "execution_count": null,
   "id": "4b36b894",
   "metadata": {},
   "outputs": [],
   "source": []
  },
  {
   "cell_type": "code",
   "execution_count": null,
   "id": "df77c359",
   "metadata": {},
   "outputs": [],
   "source": []
  },
  {
   "cell_type": "code",
   "execution_count": null,
   "id": "c9183e70",
   "metadata": {},
   "outputs": [],
   "source": []
  },
  {
   "cell_type": "code",
   "execution_count": null,
   "id": "fbe4b02b",
   "metadata": {},
   "outputs": [],
   "source": []
  },
  {
   "cell_type": "code",
   "execution_count": null,
   "id": "541276b5",
   "metadata": {},
   "outputs": [],
   "source": []
  },
  {
   "cell_type": "code",
   "execution_count": null,
   "id": "19d7a117",
   "metadata": {},
   "outputs": [],
   "source": []
  },
  {
   "cell_type": "code",
   "execution_count": null,
   "id": "26705d4c",
   "metadata": {},
   "outputs": [],
   "source": []
  },
  {
   "cell_type": "code",
   "execution_count": null,
   "id": "13ebbf26",
   "metadata": {},
   "outputs": [],
   "source": []
  },
  {
   "cell_type": "code",
   "execution_count": null,
   "id": "7f8d08b8",
   "metadata": {},
   "outputs": [],
   "source": []
  },
  {
   "cell_type": "code",
   "execution_count": null,
   "id": "3e67fd18",
   "metadata": {},
   "outputs": [],
   "source": []
  },
  {
   "cell_type": "code",
   "execution_count": null,
   "id": "06feb296",
   "metadata": {},
   "outputs": [],
   "source": []
  },
  {
   "cell_type": "code",
   "execution_count": null,
   "id": "48e89aee",
   "metadata": {},
   "outputs": [],
   "source": []
  },
  {
   "cell_type": "code",
   "execution_count": null,
   "id": "ba1bb3c5",
   "metadata": {},
   "outputs": [],
   "source": []
  },
  {
   "cell_type": "code",
   "execution_count": null,
   "id": "e1eab9d5",
   "metadata": {},
   "outputs": [],
   "source": []
  },
  {
   "cell_type": "code",
   "execution_count": null,
   "id": "eb70926c",
   "metadata": {},
   "outputs": [],
   "source": []
  },
  {
   "cell_type": "code",
   "execution_count": null,
   "id": "15ab9422",
   "metadata": {},
   "outputs": [],
   "source": []
  },
  {
   "cell_type": "code",
   "execution_count": null,
   "id": "011a2e94",
   "metadata": {},
   "outputs": [],
   "source": []
  },
  {
   "cell_type": "code",
   "execution_count": null,
   "id": "6c3d0d01",
   "metadata": {},
   "outputs": [],
   "source": []
  },
  {
   "cell_type": "code",
   "execution_count": null,
   "id": "118a4451",
   "metadata": {},
   "outputs": [],
   "source": []
  },
  {
   "cell_type": "code",
   "execution_count": null,
   "id": "3a5a3274",
   "metadata": {},
   "outputs": [],
   "source": []
  },
  {
   "cell_type": "code",
   "execution_count": null,
   "id": "841e02b2",
   "metadata": {},
   "outputs": [],
   "source": []
  },
  {
   "cell_type": "code",
   "execution_count": null,
   "id": "eb54803e",
   "metadata": {},
   "outputs": [],
   "source": []
  },
  {
   "cell_type": "code",
   "execution_count": null,
   "id": "9e66624d",
   "metadata": {},
   "outputs": [],
   "source": []
  },
  {
   "cell_type": "code",
   "execution_count": null,
   "id": "b80aa40d",
   "metadata": {},
   "outputs": [],
   "source": []
  },
  {
   "cell_type": "code",
   "execution_count": null,
   "id": "ff8ab99b",
   "metadata": {},
   "outputs": [],
   "source": []
  },
  {
   "cell_type": "code",
   "execution_count": null,
   "id": "24b670a1",
   "metadata": {},
   "outputs": [],
   "source": []
  },
  {
   "cell_type": "code",
   "execution_count": null,
   "id": "b4bbfcd1",
   "metadata": {},
   "outputs": [],
   "source": []
  },
  {
   "cell_type": "code",
   "execution_count": null,
   "id": "f5813296",
   "metadata": {},
   "outputs": [],
   "source": []
  },
  {
   "cell_type": "code",
   "execution_count": null,
   "id": "a479e29f",
   "metadata": {},
   "outputs": [],
   "source": []
  },
  {
   "cell_type": "code",
   "execution_count": null,
   "id": "6c3ec02c",
   "metadata": {},
   "outputs": [],
   "source": []
  },
  {
   "cell_type": "code",
   "execution_count": null,
   "id": "3e00111f",
   "metadata": {},
   "outputs": [],
   "source": []
  },
  {
   "cell_type": "code",
   "execution_count": null,
   "id": "6c0d8026",
   "metadata": {},
   "outputs": [],
   "source": []
  },
  {
   "cell_type": "code",
   "execution_count": null,
   "id": "b7452447",
   "metadata": {},
   "outputs": [],
   "source": []
  },
  {
   "cell_type": "code",
   "execution_count": null,
   "id": "815f2529",
   "metadata": {},
   "outputs": [],
   "source": []
  },
  {
   "cell_type": "code",
   "execution_count": null,
   "id": "871ce872",
   "metadata": {},
   "outputs": [],
   "source": []
  },
  {
   "cell_type": "code",
   "execution_count": null,
   "id": "7f4ef471",
   "metadata": {},
   "outputs": [],
   "source": []
  },
  {
   "cell_type": "code",
   "execution_count": null,
   "id": "bb61931c",
   "metadata": {},
   "outputs": [],
   "source": []
  },
  {
   "cell_type": "code",
   "execution_count": null,
   "id": "89a5d1b3",
   "metadata": {},
   "outputs": [],
   "source": []
  },
  {
   "cell_type": "code",
   "execution_count": null,
   "id": "a480355b",
   "metadata": {},
   "outputs": [],
   "source": []
  },
  {
   "cell_type": "code",
   "execution_count": null,
   "id": "320188d0",
   "metadata": {},
   "outputs": [],
   "source": []
  },
  {
   "cell_type": "code",
   "execution_count": null,
   "id": "fd98ebf8",
   "metadata": {},
   "outputs": [],
   "source": []
  },
  {
   "cell_type": "code",
   "execution_count": null,
   "id": "952bfd1d",
   "metadata": {},
   "outputs": [],
   "source": []
  },
  {
   "cell_type": "code",
   "execution_count": null,
   "id": "332ec996",
   "metadata": {},
   "outputs": [],
   "source": []
  },
  {
   "cell_type": "code",
   "execution_count": null,
   "id": "c1f597d9",
   "metadata": {},
   "outputs": [],
   "source": []
  },
  {
   "cell_type": "code",
   "execution_count": null,
   "id": "bd795560",
   "metadata": {},
   "outputs": [],
   "source": []
  },
  {
   "cell_type": "code",
   "execution_count": null,
   "id": "8aebeb65",
   "metadata": {},
   "outputs": [],
   "source": []
  },
  {
   "cell_type": "code",
   "execution_count": null,
   "id": "ce6fbb02",
   "metadata": {},
   "outputs": [],
   "source": []
  },
  {
   "cell_type": "code",
   "execution_count": null,
   "id": "00c8f7ea",
   "metadata": {},
   "outputs": [],
   "source": []
  },
  {
   "cell_type": "code",
   "execution_count": null,
   "id": "c5eca8c0",
   "metadata": {},
   "outputs": [],
   "source": []
  }
 ],
 "metadata": {
  "kernelspec": {
   "display_name": "Python 3 (ipykernel)",
   "language": "python",
   "name": "python3"
  },
  "language_info": {
   "codemirror_mode": {
    "name": "ipython",
    "version": 3
   },
   "file_extension": ".py",
   "mimetype": "text/x-python",
   "name": "python",
   "nbconvert_exporter": "python",
   "pygments_lexer": "ipython3",
   "version": "3.9.12"
  }
 },
 "nbformat": 4,
 "nbformat_minor": 5
}
