{
 "cells": [
  {
   "cell_type": "markdown",
   "id": "6d1dc918",
   "metadata": {},
   "source": [
    "# Summarizing & Computing Descriptive Statistics"
   ]
  },
  {
   "cell_type": "code",
   "execution_count": null,
   "id": "1d02382c",
   "metadata": {},
   "outputs": [],
   "source": [
    "descriptive stats\n",
    "infreretial stats"
   ]
  },
  {
   "cell_type": "raw",
   "id": "2c7b8731",
   "metadata": {},
   "source": [
    "Descriptive Stats\n",
    "    - Measure of central tendency\n",
    "       -Mean\n",
    "       -Median\n",
    "       -Mode\n",
    "    -Summarization of data\n",
    "    -Percentile\n",
    "    -5 Number theory\n",
    "    -Histograms\n",
    "    -pdf,cdf,probability (Probability & cumulative  & density func)\n",
    "    -permutation\n",
    "    -SD , Variance\n",
    "    -Distributions\n",
    "       -Normal Distribution\n",
    "       -Gausian Distribution\n",
    "       -Bernoli Distribution\n",
    "       -Standard Normal Distribution\n",
    "       -tranformation\n",
    "    "
   ]
  },
  {
   "cell_type": "raw",
   "id": "05579c69",
   "metadata": {},
   "source": [
    "inferential Stats\n",
    "-Z test\n",
    "-T test\n",
    "-ANOVA\n",
    "-CHI SQUARE\n",
    "-Hpyothesis testing\n",
    "   -p value\n",
    "   -Confidence Level\n",
    "   -Confidence Interval\n",
    "   -Z table\n",
    "   -T table"
   ]
  },
  {
   "cell_type": "raw",
   "id": "9cdc2ff7",
   "metadata": {},
   "source": [
    "What is statistics"
   ]
  },
  {
   "cell_type": "raw",
   "id": "a6c9155b",
   "metadata": {},
   "source": [
    "Science of collecting ,organizing and analyzing data"
   ]
  },
  {
   "cell_type": "raw",
   "id": "97f3fd78",
   "metadata": {},
   "source": [
    "Descrptive Stats: Organize and summarize\n",
    "\n",
    "inferential Stats: Techniques to make conculsions from data"
   ]
  },
  {
   "cell_type": "raw",
   "id": "fd92433c",
   "metadata": {},
   "source": [
    "what is population data?\n",
    "what is sample data?"
   ]
  },
  {
   "cell_type": "raw",
   "id": "cad22b55",
   "metadata": {},
   "source": [
    "sampling Techinque:\n",
    "  saimple random sampling\n",
    "  -stratified sampling\n",
    "  -systematic sampling\n",
    "  -convenience sampling"
   ]
  },
  {
   "cell_type": "raw",
   "id": "3a431838",
   "metadata": {},
   "source": [
    "Quantitative variables : numbers\n",
    "Qualitative variables: catagory"
   ]
  },
  {
   "cell_type": "raw",
   "id": "83362981",
   "metadata": {},
   "source": [
    "Quantitative :\n",
    " -continous : height weight\n",
    " -discrete: whole number,number of accounts"
   ]
  },
  {
   "cell_type": "raw",
   "id": "a9269428",
   "metadata": {},
   "source": [
    "Variables measurement Scales"
   ]
  },
  {
   "cell_type": "raw",
   "id": "38edaa1f",
   "metadata": {},
   "source": [
    "Nominal>categorical"
   ]
  },
  {
   "cell_type": "code",
   "execution_count": 5,
   "id": "9cdced9f",
   "metadata": {},
   "outputs": [],
   "source": [
    "import pandas as pd"
   ]
  },
  {
   "cell_type": "code",
   "execution_count": 6,
   "id": "10ef6683",
   "metadata": {},
   "outputs": [],
   "source": [
    "df=pd.DataFrame({'Flower':['Rose','Tulip','sunflower'],\n",
    "                 'Frequency':[3,5,2],\n",
    "                 'CF':[3,8,10]})"
   ]
  },
  {
   "cell_type": "code",
   "execution_count": 7,
   "id": "8f73a97f",
   "metadata": {},
   "outputs": [
    {
     "data": {
      "text/html": [
       "<div>\n",
       "<style scoped>\n",
       "    .dataframe tbody tr th:only-of-type {\n",
       "        vertical-align: middle;\n",
       "    }\n",
       "\n",
       "    .dataframe tbody tr th {\n",
       "        vertical-align: top;\n",
       "    }\n",
       "\n",
       "    .dataframe thead th {\n",
       "        text-align: right;\n",
       "    }\n",
       "</style>\n",
       "<table border=\"1\" class=\"dataframe\">\n",
       "  <thead>\n",
       "    <tr style=\"text-align: right;\">\n",
       "      <th></th>\n",
       "      <th>Flower</th>\n",
       "      <th>Frequency</th>\n",
       "      <th>CF</th>\n",
       "    </tr>\n",
       "  </thead>\n",
       "  <tbody>\n",
       "    <tr>\n",
       "      <th>0</th>\n",
       "      <td>Rose</td>\n",
       "      <td>3</td>\n",
       "      <td>3</td>\n",
       "    </tr>\n",
       "    <tr>\n",
       "      <th>1</th>\n",
       "      <td>Tulip</td>\n",
       "      <td>5</td>\n",
       "      <td>8</td>\n",
       "    </tr>\n",
       "    <tr>\n",
       "      <th>2</th>\n",
       "      <td>sunflower</td>\n",
       "      <td>2</td>\n",
       "      <td>10</td>\n",
       "    </tr>\n",
       "  </tbody>\n",
       "</table>\n",
       "</div>"
      ],
      "text/plain": [
       "      Flower  Frequency  CF\n",
       "0       Rose          3   3\n",
       "1      Tulip          5   8\n",
       "2  sunflower          2  10"
      ]
     },
     "execution_count": 7,
     "metadata": {},
     "output_type": "execute_result"
    }
   ],
   "source": [
    "df\n"
   ]
  },
  {
   "cell_type": "code",
   "execution_count": 10,
   "id": "382aa58b",
   "metadata": {},
   "outputs": [
    {
     "data": {
      "text/plain": [
       "<AxesSubplot:>"
      ]
     },
     "execution_count": 10,
     "metadata": {},
     "output_type": "execute_result"
    },
    {
     "data": {
      "image/png": "[encoded data removed]",
      "text/plain": [
       "<Figure size 432x288 with 1 Axes>"
      ]
     },
     "metadata": {
      "needs_background": "light"
     },
     "output_type": "display_data"
    }
   ],
   "source": [
    "df.plot(kind='bar')"
   ]
  },
  {
   "cell_type": "code",
   "execution_count": 12,
   "id": "68be2b86",
   "metadata": {},
   "outputs": [
    {
     "data": {
      "text/plain": [
       "<AxesSubplot:xlabel='Flower'>"
      ]
     },
     "execution_count": 12,
     "metadata": {},
     "output_type": "execute_result"
    },
    {
     "data": {
      "image/png": "[encoded data removed]",
      "text/plain": [
       "<Figure size 432x288 with 1 Axes>"
      ]
     },
     "metadata": {
      "needs_background": "light"
     },
     "output_type": "display_data"
    }
   ],
   "source": [
    "df.plot(kind='bar',x='Flower',y='Frequency')"
   ]
  },
  {
   "cell_type": "markdown",
   "id": "83859657",
   "metadata": {},
   "source": [
    "# Class 36"
   ]
  },
  {
   "cell_type": "raw",
   "id": "671f82b8",
   "metadata": {},
   "source": [
    "measure of dispersion\n",
    "-Standard Deviation\n",
    "-variance"
   ]
  },
  {
   "cell_type": "raw",
   "id": "759dc7b8",
   "metadata": {},
   "source": [
    "Percentile & Quartile: used to find Outliers"
   ]
  },
  {
   "cell_type": "raw",
   "id": "74c5869a",
   "metadata": {},
   "source": [
    "lowerfence =Q1-1.5(IQR)\n",
    "upperfence =Q3+1.5(IQR)\n",
    "IQR = Q3-Q1\n",
    "Q1 is 25 percentile\n",
    "Q3 is 75 percentile"
   ]
  },
  {
   "cell_type": "code",
   "execution_count": null,
   "id": "2d5dd3a0",
   "metadata": {},
   "outputs": [],
   "source": []
  }
 ],
 "metadata": {
  "kernelspec": {
   "display_name": "Python 3 (ipykernel)",
   "language": "python",
   "name": "python3"
  },
  "language_info": {
   "codemirror_mode": {
    "name": "ipython",
    "version": 3
   },
   "file_extension": ".py",
   "mimetype": "text/x-python",
   "name": "python",
   "nbconvert_exporter": "python",
   "pygments_lexer": "ipython3",
   "version": "3.9.7"
  }
 },
 "nbformat": 4,
 "nbformat_minor": 5
}
